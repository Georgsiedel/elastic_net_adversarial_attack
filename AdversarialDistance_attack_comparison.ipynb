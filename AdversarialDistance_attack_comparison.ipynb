{
 "cells": [
  {
   "cell_type": "markdown",
   "metadata": {},
   "source": [
    "# Installation and Repository cloning"
   ]
  },
  {
   "cell_type": "code",
   "execution_count": 1,
   "metadata": {},
   "outputs": [],
   "source": [
    "#!pip3 install torch torchvision torchaudio --index-url https://download.pytorch.org/whl/cu124\n",
    "#!pip install adversarial-robustness-toolbox -U\n",
    "#!pip install git+https://github.com/RobustBench/robustbench.git\n",
    "#!pip install multiprocess\n",
    "#!pip install matplotlib\n",
    "#!pip install pillow\n",
    "#!pip install foolbox\n",
    "#!pip install numba"
   ]
  },
  {
   "cell_type": "markdown",
   "metadata": {},
   "source": [
    "## Import Libraries"
   ]
  },
  {
   "cell_type": "code",
   "execution_count": 2,
   "metadata": {},
   "outputs": [
    {
     "name": "stderr",
     "output_type": "stream",
     "text": [
      "c:\\Users\\d7000ko\\Desktop\\Python\\elastic_net_adversarial_attack\\.venv\\Lib\\site-packages\\tqdm\\auto.py:21: TqdmWarning: IProgress not found. Please update jupyter and ipywidgets. See https://ipywidgets.readthedocs.io/en/stable/user_install.html\n",
      "  from .autonotebook import tqdm as notebook_tqdm\n",
      "c:\\Users\\d7000ko\\Desktop\\Python\\elastic_net_adversarial_attack\\.venv\\Lib\\site-packages\\timm\\models\\registry.py:4: FutureWarning: Importing from timm.models.registry is deprecated, please import via timm.models\n",
      "  warnings.warn(f\"Importing from {__name__} is deprecated, please import via timm.models\", FutureWarning)\n",
      "c:\\Users\\d7000ko\\Desktop\\Python\\elastic_net_adversarial_attack\\.venv\\Lib\\site-packages\\timm\\models\\layers\\__init__.py:48: FutureWarning: Importing from timm.models.layers is deprecated, please import via timm.layers\n",
      "  warnings.warn(f\"Importing from {__name__} is deprecated, please import via timm.layers\", FutureWarning)\n",
      "c:\\Users\\d7000ko\\Desktop\\Python\\elastic_net_adversarial_attack\\.venv\\Lib\\site-packages\\timm\\models\\helpers.py:7: FutureWarning: Importing from timm.models.helpers is deprecated, please import via timm.models\n",
      "  warnings.warn(f\"Importing from {__name__} is deprecated, please import via timm.models\", FutureWarning)\n"
     ]
    }
   ],
   "source": [
    "import torch\n",
    "import utils\n",
    "import adversarial_attack.attack_utils as attack_utils\n",
    "\n",
    "device = torch.device('cuda' if torch.cuda.is_available() else 'cpu')"
   ]
  },
  {
   "cell_type": "markdown",
   "metadata": {},
   "source": [
    "## Load the dataset"
   ]
  },
  {
   "cell_type": "code",
   "execution_count": 3,
   "metadata": {},
   "outputs": [
    {
     "name": "stdout",
     "output_type": "stream",
     "text": [
      "Files already downloaded and verified\n"
     ]
    }
   ],
   "source": [
    "dataset = 'cifar10' #'cifar10' #'imagenet'\n",
    "splitsize = 5 # full, int: splitsize\n",
    "xtest, ytest = utils.load_dataset(dataset= dataset, dataset_split=splitsize, root='../data')"
   ]
  },
  {
   "cell_type": "markdown",
   "metadata": {},
   "source": [
    "## Load and Prepare Adversarial Model"
   ]
  },
  {
   "cell_type": "code",
   "execution_count": 4,
   "metadata": {},
   "outputs": [
    {
     "name": "stderr",
     "output_type": "stream",
     "text": [
      "c:\\Users\\d7000ko\\Desktop\\Python\\elastic_net_adversarial_attack\\utils.py:79: FutureWarning: You are using `torch.load` with `weights_only=False` (the current default value), which uses the default pickle module implicitly. It is possible to construct malicious pickle data which will execute arbitrary code during unpickling (See https://github.com/pytorch/pytorch/blob/main/SECURITY.md#untrusted-models for more details). In a future release, the default value for `weights_only` will be flipped to `True`. This limits the functions that could be executed during unpickling. Arbitrary objects will no longer be allowed to be loaded via this mode unless they are explicitly allowlisted by the user via `torch.serialization.add_safe_globals`. We recommend you start setting `weights_only=True` for any use case where you don't have full control of the loaded file. Please open an issue on GitHub for any issues related to this experimental feature.\n",
      "  model = torch.load(f'./models/pretrained_models/{modelname}.pth', map_location=device)\n"
     ]
    }
   ],
   "source": [
    "model = 'standard' # CIFAR10: (MainiAVG, MainiMSD, CroceL1, corruption_robust, standard, Ding2020MMA, Wang2023Better_WRN-28-10), IN: (standard_resnet50, Salman2020Do_R50)\n",
    "net, art_net, fb_net, alias = utils.get_model(dataset= dataset, modelname=model, norm='Linf') # specify the norm in case of robustbench models"
   ]
  },
  {
   "cell_type": "markdown",
   "metadata": {},
   "source": [
    "## Test Accuracy"
   ]
  },
  {
   "cell_type": "code",
   "execution_count": 5,
   "metadata": {},
   "outputs": [
    {
     "name": "stdout",
     "output_type": "stream",
     "text": [
      "\n",
      "Accuracy of the test set is: 100.000%\n",
      "\n"
     ]
    }
   ],
   "source": [
    "utils.test_accuracy(net, xtest, ytest)\n",
    "#print(ytest)"
   ]
  },
  {
   "cell_type": "markdown",
   "metadata": {},
   "source": [
    "## Parameters "
   ]
  },
  {
   "cell_type": "code",
   "execution_count": 6,
   "metadata": {},
   "outputs": [],
   "source": [
    "Experiment = attack_utils.Experiment_class(art_net, fb_net, net, xtest, ytest, alias,\n",
    "                        epsilon_l1 = 12 if dataset == \"cifar10\" else 75, \n",
    "                        epsilon_l2= 0.5, \n",
    "                        eps_iter = 0.1,  \n",
    "                        norm = 1,  # 1, 2, np.inf\n",
    "                        max_iterations = 300, \n",
    "                        save_images = 1,\n",
    "                        verbose=True)"
   ]
  },
  {
   "cell_type": "markdown",
   "metadata": {},
   "source": [
    "# Hyperparameter Sweep Experiment"
   ]
  },
  {
   "cell_type": "code",
   "execution_count": 7,
   "metadata": {},
   "outputs": [],
   "source": [
    "#hyperparameter sweep. Pick only one model.\n",
    "attack_type = 'exp_attack_l1'\n",
    "hyperparameter_range=[1.0]\n",
    "hyperparameter = 'learning_rate' #'beta'\n",
    "\n",
    "#results_dict_hyperparameter_sweep = Experiment.hyperparameter_sweep(hyperparameter=hyperparameter, range=hyperparameter_range, attack_type=attack_type)"
   ]
  },
  {
   "cell_type": "code",
   "execution_count": 8,
   "metadata": {},
   "outputs": [
    {
     "name": "stdout",
     "output_type": "stream",
     "text": [
      "\t\t-------------------------- Processing Attack: brendel_bethge --------------------------\n",
      "\n",
      "Image 0\t\tAdversarial_distance (L1 / L2): 0.9184 / 0.38220\t\tRuntime: 92.749482 seconds\n"
     ]
    },
    {
     "name": "stderr",
     "output_type": "stream",
     "text": [
      "c:\\Users\\d7000ko\\Desktop\\Python\\elastic_net_adversarial_attack\\.venv\\Lib\\site-packages\\eagerpy\\tensor\\pytorch.py:263: UserWarning: The given NumPy array is not writable, and PyTorch does not support non-writable tensors. This means writing to this tensor will result in undefined behavior. You may want to copy the array to protect its data or make it writable before converting it to a tensor. This type of warning will be suppressed for the rest of this program. (Triggered internally at C:\\actions-runner\\_work\\pytorch\\pytorch\\builder\\windows\\pytorch\\torch\\csrc\\utils\\tensor_numpy.cpp:212.)\n",
      "  return type(self)(torch.as_tensor(a, device=self.raw.device))\n"
     ]
    },
    {
     "name": "stdout",
     "output_type": "stream",
     "text": [
      "Image 1\t\tAdversarial_distance (L1 / L2): 2.8349 / 0.77659\t\tRuntime: 24.774701 seconds\n",
      "Image 2\t\tAdversarial_distance (L1 / L2): 1.5573 / 0.39268\t\tRuntime: 24.520703 seconds\n",
      "Image 3\t\tAdversarial_distance (L1 / L2): 0.4448 / 0.21534\t\tRuntime: 29.912039 seconds\n",
      "Image 4\t\tAdversarial_distance (L1 / L2): 2.4337 / 0.78943\t\tRuntime: 23.056810 seconds\n",
      "\n",
      "Adversarial accuracy (L1 / L2/ EN): 0.00 / 40.00/ 0.00%\n",
      "\n",
      "\n",
      "average sparsity: 99.06%\n",
      "\n",
      "\n",
      "Total runtime:  195.0137 seconds\n",
      "\n",
      "attack success rate in epsilon (L1 / L2):  100.0  /  60.0\n",
      "mean adv. distance (L1 / L2):  1.6378  /  0.5112\n",
      "\t\t-------------------------- Processing Attack: exp_attack_l1 --------------------------\n",
      "\n"
     ]
    },
    {
     "name": "stderr",
     "output_type": "stream",
     "text": [
      "ExpAttackL1: 100%|██████████| 1/1 [00:24<00:00, 25.00s/it]\n"
     ]
    },
    {
     "name": "stdout",
     "output_type": "stream",
     "text": [
      "Image 0\t\tAdversarial_distance (L1 / L2): 7.7009 / 1.19904\t\tRuntime: 25.043595 seconds\n"
     ]
    },
    {
     "name": "stderr",
     "output_type": "stream",
     "text": [
      "ExpAttackL1: 100%|██████████| 1/1 [00:26<00:00, 26.87s/it]\n"
     ]
    },
    {
     "name": "stdout",
     "output_type": "stream",
     "text": [
      "Image 1\t\tAdversarial_distance (L1 / L2): 11.1751 / 1.19230\t\tRuntime: 26.916072 seconds\n"
     ]
    },
    {
     "name": "stderr",
     "output_type": "stream",
     "text": [
      "ExpAttackL1: 100%|██████████| 1/1 [00:27<00:00, 27.77s/it]\n"
     ]
    },
    {
     "name": "stdout",
     "output_type": "stream",
     "text": [
      "Image 2\t\tAdversarial_distance (L1 / L2): 11.3303 / 1.21442\t\tRuntime: 27.833011 seconds\n"
     ]
    },
    {
     "name": "stderr",
     "output_type": "stream",
     "text": [
      "ExpAttackL1: 100%|██████████| 1/1 [00:27<00:00, 27.31s/it]\n"
     ]
    },
    {
     "name": "stdout",
     "output_type": "stream",
     "text": [
      "Image 3\t\tAdversarial_distance (L1 / L2): 5.1302 / 1.13916\t\tRuntime: 27.356316 seconds\n"
     ]
    },
    {
     "name": "stderr",
     "output_type": "stream",
     "text": [
      "ExpAttackL1: 100%|██████████| 1/1 [00:29<00:00, 29.16s/it]\n"
     ]
    },
    {
     "name": "stdout",
     "output_type": "stream",
     "text": [
      "Image 4\t\tAdversarial_distance (L1 / L2): 11.1600 / 1.26811\t\tRuntime: 29.243632 seconds\n",
      "\n",
      "Adversarial accuracy (L1 / L2/ EN): 0.00 / 100.00/ 0.00%\n",
      "\n",
      "\n",
      "average sparsity: 96.02%\n",
      "\n",
      "\n",
      "Total runtime:  136.3926 seconds\n",
      "\n",
      "attack success rate in epsilon (L1 / L2):  100.0  /  0.0\n",
      "mean adv. distance (L1 / L2):  9.2993  /  1.2026\n",
      "\t\t-------------------------- Processing Attack: custom_apgd --------------------------\n",
      "\n",
      "using custom version including apgd-ce.\n",
      "initial accuracy: 100.00%\n",
      "apgd-ce - 1/1 - 1 out of 1 successfully perturbed\n",
      "robust accuracy after APGD-CE: 0.00% (total time 20.4 s)\n",
      "max L1 perturbation: 11.99999, nan in tensor: 0, max: 1.00000, min: 0.06098\n",
      "robust accuracy: 0.00%\n",
      "Image 0\t\tAdversarial_distance (L1 / L2): 12.0000 / 0.97221\t\tRuntime: 20.841712 seconds\n",
      "using custom version including apgd-ce.\n",
      "initial accuracy: 100.00%\n",
      "apgd-ce - 1/1 - 1 out of 1 successfully perturbed\n",
      "robust accuracy after APGD-CE: 0.00% (total time 15.1 s)\n",
      "max L1 perturbation: 12.00000, nan in tensor: 0, max: 0.98824, min: 0.02161\n",
      "robust accuracy: 0.00%\n",
      "Image 1\t\tAdversarial_distance (L1 / L2): 12.0000 / 0.97299\t\tRuntime: 15.224483 seconds\n",
      "using custom version including apgd-ce.\n",
      "initial accuracy: 100.00%\n",
      "apgd-ce - 1/1 - 1 out of 1 successfully perturbed\n",
      "robust accuracy after APGD-CE: 0.00% (total time 17.9 s)\n",
      "max L1 perturbation: 12.00001, nan in tensor: 0, max: 0.98310, min: 0.15152\n",
      "robust accuracy: 0.00%\n",
      "Image 2\t\tAdversarial_distance (L1 / L2): 12.0000 / 0.86257\t\tRuntime: 18.130210 seconds\n",
      "using custom version including apgd-ce.\n",
      "initial accuracy: 100.00%\n",
      "apgd-ce - 1/1 - 1 out of 1 successfully perturbed\n",
      "robust accuracy after APGD-CE: 0.00% (total time 16.9 s)\n",
      "max L1 perturbation: 12.00000, nan in tensor: 0, max: 1.00000, min: 0.00000\n",
      "robust accuracy: 0.00%\n",
      "Image 3\t\tAdversarial_distance (L1 / L2): 12.0000 / 1.37080\t\tRuntime: 17.204749 seconds\n",
      "using custom version including apgd-ce.\n",
      "initial accuracy: 100.00%\n",
      "apgd-ce - 1/1 - 1 out of 1 successfully perturbed\n",
      "robust accuracy after APGD-CE: 0.00% (total time 15.3 s)\n",
      "max L1 perturbation: 11.99999, nan in tensor: 0, max: 0.91742, min: 0.03922\n",
      "robust accuracy: 0.00%\n",
      "Image 4\t\tAdversarial_distance (L1 / L2): 12.0000 / 0.80148\t\tRuntime: 15.505021 seconds\n",
      "\n",
      "Adversarial accuracy (L1 / L2/ EN): 0.00 / 100.00/ 0.00%\n",
      "\n",
      "\n",
      "average sparsity: 72.64%\n",
      "\n",
      "\n",
      "Total runtime:  86.9062 seconds\n",
      "\n",
      "attack success rate in epsilon (L1 / L2):  100.0  /  0.0\n",
      "mean adv. distance (L1 / L2):  12.0  /  0.996\n",
      "Evaluation results are saved under \"./data/attack_comparison_standard_cifar10.json\".\n"
     ]
    }
   ],
   "source": [
    "#Attack comparison\n",
    "attack_types = [#'fast_gradient_method',\n",
    "                #'projected_gradient_descent',\n",
    "                #'pgd_early_stopping',\n",
    "                #'deep_fool',\n",
    "                'brendel_bethge',\n",
    "                #'pointwise_blackbox',\n",
    "                #'geoda_blackbox',\n",
    "                #'sparse_rs_blackbox',\n",
    "                #'carlini_wagner_l2',\n",
    "                #'elastic_net',\n",
    "                #'exp_attack',\n",
    "                #'exp_attack_smooth',\n",
    "                #'exp_attack_l1_l2',\n",
    "                #'auto_projected_gradient_descent',\n",
    "                #'elastic_net_L1_rule',\n",
    "                #'elastic_net_L1_rule_higher_beta',\n",
    "                #'ART_AutoAttack',\n",
    "                #'original_AutoAttack',\n",
    "                'exp_attack_l1',\n",
    "                'custom_apgd'\n",
    "                ]\n",
    "\n",
    "results_dict_attack_comparison = Experiment.attack_comparison(attack_types)"
   ]
  }
 ],
 "metadata": {
  "kaggle": {
   "accelerator": "gpu",
   "dataSources": [],
   "dockerImageVersionId": 30762,
   "isGpuEnabled": true,
   "isInternetEnabled": true,
   "language": "python",
   "sourceType": "notebook"
  },
  "kernelspec": {
   "display_name": ".venv",
   "language": "python",
   "name": "python3"
  },
  "language_info": {
   "codemirror_mode": {
    "name": "ipython",
    "version": 3
   },
   "file_extension": ".py",
   "mimetype": "text/x-python",
   "name": "python",
   "nbconvert_exporter": "python",
   "pygments_lexer": "ipython3",
   "version": "3.11.7"
  }
 },
 "nbformat": 4,
 "nbformat_minor": 4
}
