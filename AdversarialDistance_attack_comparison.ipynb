{
 "cells": [
  {
   "cell_type": "markdown",
   "metadata": {},
   "source": [
    "# Installation and Repository cloning"
   ]
  },
  {
   "cell_type": "code",
   "execution_count": 1,
   "metadata": {},
   "outputs": [],
   "source": [
    "#!pip3 install torch torchvision torchaudio --index-url https://download.pytorch.org/whl/cu124\n",
    "#!pip install adversarial-robustness-toolbox -U\n",
    "#!pip install git+https://github.com/RobustBench/robustbench.git\n",
    "#!pip install multiprocess\n",
    "#!pip install matplotlib\n",
    "#!pip install pillow\n",
    "#!pip install foolbox\n",
    "#!pip install numba"
   ]
  },
  {
   "cell_type": "markdown",
   "metadata": {},
   "source": [
    "## Import Libraries"
   ]
  },
  {
   "cell_type": "code",
   "execution_count": 2,
   "metadata": {},
   "outputs": [
    {
     "name": "stderr",
     "output_type": "stream",
     "text": [
      "/home/shao/anaconda3/envs/art/lib/python3.12/site-packages/timm/models/registry.py:4: FutureWarning: Importing from timm.models.registry is deprecated, please import via timm.models\n",
      "  warnings.warn(f\"Importing from {__name__} is deprecated, please import via timm.models\", FutureWarning)\n",
      "/home/shao/anaconda3/envs/art/lib/python3.12/site-packages/timm/models/layers/__init__.py:48: FutureWarning: Importing from timm.models.layers is deprecated, please import via timm.layers\n",
      "  warnings.warn(f\"Importing from {__name__} is deprecated, please import via timm.layers\", FutureWarning)\n",
      "/home/shao/anaconda3/envs/art/lib/python3.12/site-packages/timm/models/helpers.py:7: FutureWarning: Importing from timm.models.helpers is deprecated, please import via timm.models\n",
      "  warnings.warn(f\"Importing from {__name__} is deprecated, please import via timm.models\", FutureWarning)\n"
     ]
    }
   ],
   "source": [
    "import torch\n",
    "import utils\n",
    "import adversarial_attack.attack_utils as attack_utils\n",
    "\n",
    "device = torch.device('cuda' if torch.cuda.is_available() else 'cpu')"
   ]
  },
  {
   "cell_type": "markdown",
   "metadata": {},
   "source": [
    "## Load the dataset"
   ]
  },
  {
   "cell_type": "code",
   "execution_count": 3,
   "metadata": {},
   "outputs": [
    {
     "name": "stdout",
     "output_type": "stream",
     "text": [
      "Files already downloaded and verified\n"
     ]
    }
   ],
   "source": [
    "dataset = 'cifar10' #'cifar10' #'imagenet'\n",
    "splitsize =1000 # full, int: splitsize\n",
    "xtest, ytest = utils.load_dataset(dataset= dataset, dataset_split=splitsize)"
   ]
  },
  {
   "cell_type": "markdown",
   "metadata": {},
   "source": [
    "## Load and Prepare Adversarial Model"
   ]
  },
  {
   "cell_type": "code",
   "execution_count": 4,
   "metadata": {},
   "outputs": [
    {
     "name": "stdout",
     "output_type": "stream",
     "text": [
      "no input normalization\n"
     ]
    },
    {
     "name": "stderr",
     "output_type": "stream",
     "text": [
      "/home/shao/elastic_net_adversarial_attack/utils.py:58: FutureWarning: You are using `torch.load` with `weights_only=False` (the current default value), which uses the default pickle module implicitly. It is possible to construct malicious pickle data which will execute arbitrary code during unpickling (See https://github.com/pytorch/pytorch/blob/main/SECURITY.md#untrusted-models for more details). In a future release, the default value for `weights_only` will be flipped to `True`. This limits the functions that could be executed during unpickling. Arbitrary objects will no longer be allowed to be loaded via this mode unless they are explicitly allowlisted by the user via `torch.serialization.add_safe_globals`. We recommend you start setting `weights_only=True` for any use case where you don't have full control of the loaded file. Please open an issue on GitHub for any issues related to this experimental feature.\n",
      "  ckpt = torch.load('./models/pretrained_models/CroceL1.pth', map_location=device)\n"
     ]
    }
   ],
   "source": [
    "model = 'CroceL1' # MainiAVG, MainiMSD, CroceL1, Wang2023Better_WRN-28-10, Wang2023Better_WRN-28-10, Salman2020Do_R18(Imagenet)\n",
    "net, art_net, fb_net, alias = utils.get_model(dataset= dataset, modelname=model,norm='L2') # specify the norm in case of robustbench models"
   ]
  },
  {
   "cell_type": "markdown",
   "metadata": {},
   "source": [
    "## Test Accuracy"
   ]
  },
  {
   "cell_type": "code",
   "execution_count": 5,
   "metadata": {},
   "outputs": [
    {
     "name": "stdout",
     "output_type": "stream",
     "text": [
      "\n",
      "Accuracy of the test set is: 84.000%\n",
      "\n",
      "tensor([8, 1, 8, 2, 4, 4, 9, 8, 4, 5, 8, 3, 6, 1, 3, 8, 5, 7, 4, 2, 5, 4, 4, 2,\n",
      "        1, 2, 9, 9, 1, 4, 9, 0, 3, 1, 7, 3, 8, 4, 0, 3, 4, 2, 8, 8, 5, 3, 7, 7,\n",
      "        1, 9, 9, 2, 5, 6, 0, 7, 4, 1, 0, 8, 2, 9, 3, 6, 6, 3, 4, 8, 6, 7, 3, 3,\n",
      "        4, 1, 1, 0, 1, 9, 5, 1, 2, 9, 0, 2, 8, 2, 3, 6, 2, 7, 6, 8, 5, 7, 1, 7,\n",
      "        3, 7, 5, 9])\n"
     ]
    }
   ],
   "source": [
    "utils.test_accuracy(net, xtest, ytest)\n",
    "print(ytest)"
   ]
  },
  {
   "cell_type": "markdown",
   "metadata": {},
   "source": [
    "## Parameters "
   ]
  },
  {
   "cell_type": "code",
   "execution_count": 6,
   "metadata": {},
   "outputs": [],
   "source": [
    "Experiment = attack_utils.Experiment_class(art_net, fb_net, net, xtest, ytest, alias,\n",
    "                        epsilon_l1 = 12, \n",
    "                        epsilon_l2= 0.5, \n",
    "                        eps_iter = 0.1,  \n",
    "                        norm = 1,  # 1, 2, np.inf\n",
    "                        max_iterations =300, \n",
    "                        verbose=False)"
   ]
  },
  {
   "cell_type": "markdown",
   "metadata": {},
   "source": [
    "# Hyperparameter Sweep Experiment"
   ]
  },
  {
   "cell_type": "code",
   "execution_count": 7,
   "metadata": {},
   "outputs": [
    {
     "name": "stdout",
     "output_type": "stream",
     "text": [
      "\t\t-------------- Hyperparameter Sweep for Attack: exp_attack_l1: learning_rate = 2.0 ----------------\n",
      "\n",
      "20 images done. Current Adversarial Accuracy (L1 / L2/ EN): 40.000000% / 65.000000%/40.000000%\n",
      "60 images done. Current Adversarial Accuracy (L1 / L2/ EN): 51.666667% / 68.333333%/51.666667%\n",
      "80 images done. Current Adversarial Accuracy (L1 / L2/ EN): 55.000000% / 70.000000%/55.000000%\n",
      "100 images done. Current Adversarial Accuracy (L1 / L2/ EN): 60.000000% / 73.000000%/60.000000%\n",
      "\n",
      "Adversarial accuracy (L1 / L2/ EN): 60.00 / 73.00/ 60.00%\n",
      "\n",
      "\n",
      "average sparsity: 54.86%\n",
      "\n",
      "learning_rate2.0 attack success rate in epsilon (L1 / L2):  28.5714  /  13.0952\n",
      "mean adv. distance (L1 / L2):  11.8917  /  0.8373\n",
      "Evaluation results are saved under \"./data/hyperparameter_sweep_exp_attack_l1_CroceL1.json\".\n"
     ]
    }
   ],
   "source": [
    "#hyperparameter sweep. Pick only one model.\n",
    "attack_type = 'exp_attack_l1'\n",
    "hyperparameter_range=[2.0]\n",
    "hyperparameter = 'learning_rate' #'beta'\n",
    "\n",
    "results_dict_hyperparameter_sweep = Experiment.hyperparameter_sweep(hyperparameter=hyperparameter, range=hyperparameter_range, attack_type=attack_type)"
   ]
  },
  {
   "cell_type": "code",
   "execution_count": null,
   "metadata": {},
   "outputs": [],
   "source": [
    "#Attack comparison\n",
    "attack_types = [#'fast_gradient_method',\n",
    "                #'projected_gradient_descent',\n",
    "                #'pgd_early_stopping',\n",
    "                #'deep_fool',\n",
    "                #'brendel_bethge',\n",
    "                #'carlini_wagner_l2',\n",
    "                #'elastic_net',\n",
    "                #'exp_attack',\n",
    "                #'exp_attack_smooth',\n",
    "                #'exp_attack_l1_l2',\n",
    "                #'auto_projected_gradient_descent',\n",
    "                #'elastic_net_L1_rule',\n",
    "                #'elastic_net_L1_rule_higher_beta',\n",
    "                #'ART_AutoAttack',\n",
    "                #'original_AutoAttack',\n",
    "                'exp_attack_l1',\n",
    "                'custom_apgd'\n",
    "                ]\n",
    "\n",
    "results_dict_attack_comparison = Experiment.attack_comparison(attack_types)"
   ]
  }
 ],
 "metadata": {
  "kaggle": {
   "accelerator": "gpu",
   "dataSources": [],
   "dockerImageVersionId": 30762,
   "isGpuEnabled": true,
   "isInternetEnabled": true,
   "language": "python",
   "sourceType": "notebook"
  },
  "kernelspec": {
   "display_name": "art",
   "language": "python",
   "name": "python3"
  },
  "language_info": {
   "codemirror_mode": {
    "name": "ipython",
    "version": 3
   },
   "file_extension": ".py",
   "mimetype": "text/x-python",
   "name": "python",
   "nbconvert_exporter": "python",
   "pygments_lexer": "ipython3",
   "version": "3.12.7"
  }
 },
 "nbformat": 4,
 "nbformat_minor": 4
}
