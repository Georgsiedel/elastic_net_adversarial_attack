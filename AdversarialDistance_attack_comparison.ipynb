{
 "cells": [
  {
   "cell_type": "markdown",
   "metadata": {},
   "source": [
    "# Installation and Repository cloning"
   ]
  },
  {
   "cell_type": "code",
   "execution_count": 1,
   "metadata": {},
   "outputs": [],
   "source": [
    "#!pip3 install torch torchvision torchaudio --index-url https://download.pytorch.org/whl/cu124\n",
    "#!pip install adversarial-robustness-toolbox -U\n",
    "#!pip install git+https://github.com/RobustBench/robustbench.git\n",
    "#!pip install multiprocess\n",
    "#!pip install matplotlib\n",
    "#!pip install pillow\n",
    "#!pip install foolbox\n",
    "#!pip install numba"
   ]
  },
  {
   "cell_type": "markdown",
   "metadata": {},
   "source": [
    "## Import Libraries"
   ]
  },
  {
   "cell_type": "code",
   "execution_count": 2,
   "metadata": {},
   "outputs": [
    {
     "name": "stderr",
     "output_type": "stream",
     "text": [
      "c:\\Users\\Admin\\Desktop\\Python\\elastic_net_adversarial_attack\\.venv\\lib\\site-packages\\tqdm\\auto.py:21: TqdmWarning: IProgress not found. Please update jupyter and ipywidgets. See https://ipywidgets.readthedocs.io/en/stable/user_install.html\n",
      "  from .autonotebook import tqdm as notebook_tqdm\n",
      "c:\\Users\\Admin\\Desktop\\Python\\elastic_net_adversarial_attack\\.venv\\lib\\site-packages\\timm\\models\\registry.py:4: FutureWarning: Importing from timm.models.registry is deprecated, please import via timm.models\n",
      "  warnings.warn(f\"Importing from {__name__} is deprecated, please import via timm.models\", FutureWarning)\n",
      "c:\\Users\\Admin\\Desktop\\Python\\elastic_net_adversarial_attack\\.venv\\lib\\site-packages\\timm\\models\\layers\\__init__.py:48: FutureWarning: Importing from timm.models.layers is deprecated, please import via timm.layers\n",
      "  warnings.warn(f\"Importing from {__name__} is deprecated, please import via timm.layers\", FutureWarning)\n",
      "c:\\Users\\Admin\\Desktop\\Python\\elastic_net_adversarial_attack\\.venv\\lib\\site-packages\\timm\\models\\helpers.py:7: FutureWarning: Importing from timm.models.helpers is deprecated, please import via timm.models\n",
      "  warnings.warn(f\"Importing from {__name__} is deprecated, please import via timm.models\", FutureWarning)\n"
     ]
    }
   ],
   "source": [
    "import torch\n",
    "import utils\n",
    "import adversarial_attack.attack_utils as attack_utils\n",
    "\n",
    "device = 'cpu' #torch.device('cuda' if torch.cuda.is_available() else 'cpu')"
   ]
  },
  {
   "cell_type": "markdown",
   "metadata": {},
   "source": [
    "## Load and Prepare Adversarial Model"
   ]
  },
  {
   "cell_type": "code",
   "execution_count": 3,
   "metadata": {},
   "outputs": [
    {
     "name": "stdout",
     "output_type": "stream",
     "text": [
      "no input normalization\n"
     ]
    },
    {
     "name": "stderr",
     "output_type": "stream",
     "text": [
      "c:\\Users\\Admin\\Desktop\\Python\\elastic_net_adversarial_attack\\utils.py:40: FutureWarning: You are using `torch.load` with `weights_only=False` (the current default value), which uses the default pickle module implicitly. It is possible to construct malicious pickle data which will execute arbitrary code during unpickling (See https://github.com/pytorch/pytorch/blob/main/SECURITY.md#untrusted-models for more details). In a future release, the default value for `weights_only` will be flipped to `True`. This limits the functions that could be executed during unpickling. Arbitrary objects will no longer be allowed to be loaded via this mode unless they are explicitly allowlisted by the user via `torch.serialization.add_safe_globals`. We recommend you start setting `weights_only=True` for any use case where you don't have full control of the loaded file. Please open an issue on GitHub for any issues related to this experimental feature.\n",
      "  ckpt = torch.load('./models/pretrained_models/CroceL1.pth')\n"
     ]
    }
   ],
   "source": [
    "model = 'CroceL1' # MainiAVG, MainiMSD, CroceL1, Wang2023Better_WRN-28-10, Wang2023Better_WRN-28-10\n",
    "net, art_net, fb_net, alias = utils.get_model(modelname=model, norm='L2') # specify the norm in case of robustbench models"
   ]
  },
  {
   "cell_type": "markdown",
   "metadata": {},
   "source": [
    "## Load the dataset"
   ]
  },
  {
   "cell_type": "code",
   "execution_count": 4,
   "metadata": {},
   "outputs": [
    {
     "name": "stdout",
     "output_type": "stream",
     "text": [
      "Files already downloaded and verified\n"
     ]
    }
   ],
   "source": [
    "splitsize = 100 # full, int: splitsize\n",
    "xtest, ytest = utils.load_dataset(dataset_split=splitsize)"
   ]
  },
  {
   "cell_type": "markdown",
   "metadata": {},
   "source": [
    "## Test Accuracy"
   ]
  },
  {
   "cell_type": "code",
   "execution_count": 5,
   "metadata": {},
   "outputs": [
    {
     "name": "stdout",
     "output_type": "stream",
     "text": [
      "\n",
      "Accuracy of the test set is: 84.000%\n",
      "\n"
     ]
    }
   ],
   "source": [
    "utils.test_accuracy(net, xtest, ytest)"
   ]
  },
  {
   "cell_type": "markdown",
   "metadata": {},
   "source": [
    "## Parameters "
   ]
  },
  {
   "cell_type": "code",
   "execution_count": 6,
   "metadata": {},
   "outputs": [],
   "source": [
    "Experiment = attack_utils.Experiment_class(art_net, fb_net, net, xtest, ytest, alias,\n",
    "                        epsilon_l1 = 20, \n",
    "                        epsilon_l2= 0.5, \n",
    "                        eps_iter = 0.25,  \n",
    "                        norm = 1,  # 1, 2, np.inf\n",
    "                        max_iterations = 100, \n",
    "                        verbose=False)"
   ]
  },
  {
   "cell_type": "markdown",
   "metadata": {},
   "source": [
    "Hyperparameter Sweep Experiment"
   ]
  },
  {
   "cell_type": "code",
   "execution_count": 7,
   "metadata": {},
   "outputs": [],
   "source": [
    "#hyperparameter sweep. Pick only one model.\n",
    "attack_type = 'exp_attack'\n",
    "hyperparameter_range=[0.1,0.2,0.5,1.0,2.0]\n",
    "hyperparameter = 'learning_rate' #'beta'\n",
    "\n",
    "#results_dict_hyperparameter_sweep = Experiment.hyperparameter_sweep(hyperparameter=hyperparameter, range=hyperparameter_range, attack_type=attack_type)"
   ]
  },
  {
   "cell_type": "code",
   "execution_count": null,
   "metadata": {},
   "outputs": [
    {
     "name": "stdout",
     "output_type": "stream",
     "text": [
      "\t\t-------------------------- Processing Attack: projected_gradient_descent --------------------------\n",
      "\n",
      "20 images done. Current Adversarial Accuracy (L1 / L2): 60.0 / 75.0%\n",
      "60 images done. Current Adversarial Accuracy (L1 / L2): 65.0 / 80.0%\n",
      "80 images done. Current Adversarial Accuracy (L1 / L2): 66.25 / 81.25%\n",
      "100 images done. Current Adversarial Accuracy (L1 / L2): 70.0 / 84.0%\n",
      "\n",
      "Adversarial accuracy (L1 / L2): 70.0000 / 84.0000%\n",
      "\n",
      "\n",
      "Total runtime:  69.0562 seconds\n",
      "\n",
      "attack success rate in epsilon (L1 / L2):  16.666666666666664  /  0.0\n",
      "mean adv. distance (L1 / L2):  12.324183001404716  /  1.7748473201479231\n",
      "\t\t-------------------------- Processing Attack: auto_projected_gradient_descent --------------------------\n",
      "\n",
      "20 images done. Current Adversarial Accuracy (L1 / L2): 65.0 / 65.0%\n",
      "60 images done. Current Adversarial Accuracy (L1 / L2): 68.33333333333333 / 68.33333333333333%\n",
      "80 images done. Current Adversarial Accuracy (L1 / L2): 70.0 / 70.0%\n",
      "100 images done. Current Adversarial Accuracy (L1 / L2): 73.0 / 73.0%\n",
      "\n",
      "Adversarial accuracy (L1 / L2): 73.0000 / 73.0000%\n",
      "\n",
      "\n",
      "Total runtime:  469.3667 seconds\n",
      "\n",
      "attack success rate in epsilon (L1 / L2):  13.095238095238097  /  13.095238095238097\n",
      "mean adv. distance (L1 / L2):  19.99999981834775  /  0.4721902459859848\n",
      "\t\t-------------------------- Processing Attack: original_AutoAttack --------------------------\n",
      "\n",
      "20 images done. Current Adversarial Accuracy (L1 / L2): 35.0 / 75.0%\n",
      "60 images done. Current Adversarial Accuracy (L1 / L2): 35.0 / 80.0%\n",
      "80 images done. Current Adversarial Accuracy (L1 / L2): 37.5 / 81.25%\n",
      "100 images done. Current Adversarial Accuracy (L1 / L2): 42.0 / 84.0%\n",
      "\n",
      "Adversarial accuracy (L1 / L2): 42.0000 / 84.0000%\n",
      "\n",
      "\n",
      "Total runtime:  381.0188 seconds\n",
      "\n",
      "attack success rate in epsilon (L1 / L2):  50.0  /  0.0\n",
      "mean adv. distance (L1 / L2):  9.999999750228156  /  1.0456860278333937\n",
      "Evaluation results are saved under \"./data/attack_comparison_CroceL1.json\".\n"
     ]
    }
   ],
   "source": [
    "#Attack comparison\n",
    "attack_types = [#'fast_gradient_method', #bounded-full\n",
    "                'projected_gradient_descent', #bounded-full\n",
    "                #'pgd_early_stopping', #not-bounded\n",
    "                'auto_projected_gradient_descent', #bounded-full\n",
    "                #'deep_fool', #not-bounded\n",
    "                #'brendel_bethge', #bounded-min\n",
    "                #'carlini_wagner_l2', #not-bounded\n",
    "                #'elastic_net', #not-bounded\n",
    "                #'exp_attack',\n",
    "                #'exp_attack_smooth',\n",
    "                #'exp_attack_l1',\n",
    "                #'elastic_net_L1_rule', #not-bounded\n",
    "                #'elastic_net_L1_rule_higher_beta', #not-bounded\n",
    "                #'ART_AutoAttack', #bounded-full\n",
    "                'original_AutoAttack' #bounded-full\n",
    "                ]\n",
    "\n",
    "results_dict_attack_comparison = Experiment.attack_comparison(attack_types)"
   ]
  }
 ],
 "metadata": {
  "kaggle": {
   "accelerator": "gpu",
   "dataSources": [],
   "dockerImageVersionId": 30762,
   "isGpuEnabled": true,
   "isInternetEnabled": true,
   "language": "python",
   "sourceType": "notebook"
  },
  "kernelspec": {
   "display_name": ".venv",
   "language": "python",
   "name": "python3"
  },
  "language_info": {
   "codemirror_mode": {
    "name": "ipython",
    "version": 3
   },
   "file_extension": ".py",
   "mimetype": "text/x-python",
   "name": "python",
   "nbconvert_exporter": "python",
   "pygments_lexer": "ipython3",
   "version": "3.9.7"
  }
 },
 "nbformat": 4,
 "nbformat_minor": 4
}
