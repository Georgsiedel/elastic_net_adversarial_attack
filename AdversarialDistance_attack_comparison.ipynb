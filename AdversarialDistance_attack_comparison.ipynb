{
 "cells": [
  {
   "cell_type": "markdown",
   "metadata": {},
   "source": [
    "# Installation and Repository cloning"
   ]
  },
  {
   "cell_type": "code",
   "execution_count": 1,
   "metadata": {},
   "outputs": [],
   "source": [
    "#!pip3 install torch torchvision torchaudio --index-url https://download.pytorch.org/whl/cu124\n",
    "#!pip install adversarial-robustness-toolbox -U\n",
    "#!pip install git+https://github.com/RobustBench/robustbench.git\n",
    "#!pip install multiprocess\n",
    "#!pip install matplotlib\n",
    "#!pip install pillow\n",
    "#!pip install foolbox\n",
    "#!pip install numba"
   ]
  },
  {
   "cell_type": "markdown",
   "metadata": {},
   "source": [
    "## Import Libraries"
   ]
  },
  {
   "cell_type": "code",
   "execution_count": 2,
   "metadata": {},
   "outputs": [
    {
     "name": "stderr",
     "output_type": "stream",
     "text": [
      "/home/shao/anaconda3/envs/art/lib/python3.12/site-packages/timm/models/registry.py:4: FutureWarning: Importing from timm.models.registry is deprecated, please import via timm.models\n",
      "  warnings.warn(f\"Importing from {__name__} is deprecated, please import via timm.models\", FutureWarning)\n",
      "/home/shao/anaconda3/envs/art/lib/python3.12/site-packages/timm/models/layers/__init__.py:48: FutureWarning: Importing from timm.models.layers is deprecated, please import via timm.layers\n",
      "  warnings.warn(f\"Importing from {__name__} is deprecated, please import via timm.layers\", FutureWarning)\n",
      "/home/shao/anaconda3/envs/art/lib/python3.12/site-packages/timm/models/helpers.py:7: FutureWarning: Importing from timm.models.helpers is deprecated, please import via timm.models\n",
      "  warnings.warn(f\"Importing from {__name__} is deprecated, please import via timm.models\", FutureWarning)\n"
     ]
    }
   ],
   "source": [
    "import torch\n",
    "import utils\n",
    "import adversarial_attack.attack_utils as attack_utils\n",
    "\n",
    "device = 'cpu' #torch.device('cuda' if torch.cuda.is_available() else 'cpu')"
   ]
  },
  {
   "cell_type": "markdown",
   "metadata": {},
   "source": [
    "## Load and Prepare Adversarial Model"
   ]
  },
  {
   "cell_type": "code",
   "execution_count": 3,
   "metadata": {},
   "outputs": [
    {
     "name": "stderr",
     "output_type": "stream",
     "text": [
      "/home/shao/anaconda3/envs/art/lib/python3.12/site-packages/robustbench/utils.py:165: FutureWarning: You are using `torch.load` with `weights_only=False` (the current default value), which uses the default pickle module implicitly. It is possible to construct malicious pickle data which will execute arbitrary code during unpickling (See https://github.com/pytorch/pytorch/blob/main/SECURITY.md#untrusted-models for more details). In a future release, the default value for `weights_only` will be flipped to `True`. This limits the functions that could be executed during unpickling. Arbitrary objects will no longer be allowed to be loaded via this mode unless they are explicitly allowlisted by the user via `torch.serialization.add_safe_globals`. We recommend you start setting `weights_only=True` for any use case where you don't have full control of the loaded file. Please open an issue on GitHub for any issues related to this experimental feature.\n",
      "  checkpoint = torch.load(model_path, map_location=torch.device('cpu'))\n"
     ]
    }
   ],
   "source": [
    "model = 'Wang2023Better_WRN-28-10' # MainiAVG, MainiMSD, CroceL1, Wang2023Better_WRN-28-10, Wang2023Better_WRN-28-10\n",
    "net, art_net, fb_net, alias = utils.get_model(modelname=model, norm='L2') # specify the norm in case of robustbench models"
   ]
  },
  {
   "cell_type": "markdown",
   "metadata": {},
   "source": [
    "## Load the dataset"
   ]
  },
  {
   "cell_type": "code",
   "execution_count": 4,
   "metadata": {},
   "outputs": [
    {
     "name": "stdout",
     "output_type": "stream",
     "text": [
      "Files already downloaded and verified\n"
     ]
    }
   ],
   "source": [
    "splitsize = 1000 # full, int: splitsize\n",
    "xtest, ytest = utils.load_dataset(dataset_split=splitsize)"
   ]
  },
  {
   "cell_type": "markdown",
   "metadata": {},
   "source": [
    "## Test Accuracy"
   ]
  },
  {
   "cell_type": "code",
   "execution_count": 5,
   "metadata": {},
   "outputs": [
    {
     "name": "stdout",
     "output_type": "stream",
     "text": [
      "\n",
      "Accuracy of the test set is: 94.000%\n",
      "\n"
     ]
    }
   ],
   "source": [
    "utils.test_accuracy(net, xtest, ytest)"
   ]
  },
  {
   "cell_type": "markdown",
   "metadata": {},
   "source": [
    "## Parameters "
   ]
  },
  {
   "cell_type": "code",
   "execution_count": 9,
   "metadata": {},
   "outputs": [],
   "source": [
    "Experiment = attack_utils.Experiment_class(art_net, fb_net, net, xtest, ytest, alias,\n",
    "                        epsilon_l1 = 12, \n",
    "                        epsilon_l2= 0.5, \n",
    "                        eps_iter = 0.1,  \n",
    "                        norm = 1,  # 1, 2, np.inf\n",
    "                        max_iterations =100, \n",
    "                        verbose=False)"
   ]
  },
  {
   "cell_type": "markdown",
   "metadata": {},
   "source": [
    "# Hyperparameter Sweep Experiment"
   ]
  },
  {
   "cell_type": "code",
   "execution_count": null,
   "metadata": {},
   "outputs": [],
   "source": [
    "#hyperparameter sweep. Pick only one model.\n",
    "attack_type = 'exp_attack_l1'\n",
    "hyperparameter_range=[1]\n",
    "hyperparameter = 'learning_rate' #'beta'\n",
    "\n",
    "results_dict_hyperparameter_sweep = Experiment.hyperparameter_sweep(hyperparameter=hyperparameter, range=hyperparameter_range, attack_type=attack_type)"
   ]
  },
  {
   "cell_type": "code",
   "execution_count": 10,
   "metadata": {},
   "outputs": [
    {
     "name": "stdout",
     "output_type": "stream",
     "text": [
      "\t\t-------------------------- Processing Attack: exp_attack_l1 --------------------------\n",
      "\n",
      "20 images done. Current Adversarial Accuracy (L1 / L2/ EN): 35.0 / 95.0/35.0%\n",
      "40 images done. Current Adversarial Accuracy (L1 / L2): 45.0 / 90.0%\n",
      "60 images done. Current Adversarial Accuracy (L1 / L2/ EN): 50.0 / 91.66666666666667/50.0%\n",
      "80 images done. Current Adversarial Accuracy (L1 / L2/ EN): 52.5 / 92.5/52.5%\n",
      "100 images done. Current Adversarial Accuracy (L1 / L2/ EN): 57.0 / 94.0/57.0%\n",
      "\n",
      "Adversarial accuracy (L1 / L2/ EN): 57.0000 / 94.0000/ 57.0000%\n",
      "\n",
      "\n",
      "average sparsity: 77.9957%\n",
      "\n",
      "\n",
      "Total runtime:  109.2887 seconds\n",
      "\n",
      "attack success rate in epsilon (L1 / L2):  39.3617  /  0.0\n",
      "mean adv. distance (L1 / L2):  11.9931  /  1.5479\n",
      "\t\t-------------------------- Processing Attack: original_AutoAttack_apgd-only --------------------------\n",
      "\n",
      "20 images done. Current Adversarial Accuracy (L1 / L2/ EN): 35.0 / 95.0/35.0%\n",
      "40 images done. Current Adversarial Accuracy (L1 / L2): 47.5 / 90.0%\n",
      "60 images done. Current Adversarial Accuracy (L1 / L2/ EN): 50.0 / 91.66666666666667/50.0%\n",
      "80 images done. Current Adversarial Accuracy (L1 / L2/ EN): 52.5 / 92.5/52.5%\n",
      "100 images done. Current Adversarial Accuracy (L1 / L2/ EN): 57.0 / 94.0/57.0%\n",
      "\n",
      "Adversarial accuracy (L1 / L2/ EN): 57.0000 / 94.0000/ 57.0000%\n",
      "\n",
      "\n",
      "average sparsity: 98.6434%\n",
      "\n",
      "\n",
      "Total runtime:  111.5393 seconds\n",
      "\n",
      "attack success rate in epsilon (L1 / L2):  39.3617  /  0.0\n",
      "mean adv. distance (L1 / L2):  11.995  /  2.3615\n",
      "Evaluation results are saved under \"./data/attack_comparison_Wang2023Better_WRN-28-10_L2.json\".\n"
     ]
    }
   ],
   "source": [
    "#Attack comparison\n",
    "attack_types = [#'fast_gradient_method',\n",
    "                #'projected_gradient_descent',\n",
    "                #'pgd_early_stopping',\n",
    "                #'deep_fool',\n",
    "                #'brendel_bethge',\n",
    "                #'carlini_wagner_l2',\n",
    "                #'elastic_net',\n",
    "                #'exp_attack',\n",
    "                #'exp_attack_smooth',\n",
    "                #'exp_attack_l1_l2',\n",
    "                #'auto_projected_gradient_descent',\n",
    "                #'elastic_net_L1_rule',\n",
    "                #'elastic_net_L1_rule_higher_beta',\n",
    "                #'ART_AutoAttack',\n",
    "                #'original_AutoAttack',\n",
    "                'exp_attack_l1',\n",
    "                'original_AutoAttack_apgd-only'\n",
    "                ]\n",
    "\n",
    "results_dict_attack_comparison = Experiment.attack_comparison(attack_types)"
   ]
  }
 ],
 "metadata": {
  "kaggle": {
   "accelerator": "gpu",
   "dataSources": [],
   "dockerImageVersionId": 30762,
   "isGpuEnabled": true,
   "isInternetEnabled": true,
   "language": "python",
   "sourceType": "notebook"
  },
  "kernelspec": {
   "display_name": "art",
   "language": "python",
   "name": "python3"
  },
  "language_info": {
   "codemirror_mode": {
    "name": "ipython",
    "version": 3
   },
   "file_extension": ".py",
   "mimetype": "text/x-python",
   "name": "python",
   "nbconvert_exporter": "python",
   "pygments_lexer": "ipython3",
   "version": "3.12.7"
  }
 },
 "nbformat": 4,
 "nbformat_minor": 4
}
