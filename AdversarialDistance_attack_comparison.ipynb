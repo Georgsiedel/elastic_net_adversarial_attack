{
 "cells": [
  {
   "cell_type": "markdown",
   "metadata": {},
   "source": [
    "# Installation and Repository cloning"
   ]
  },
  {
   "cell_type": "code",
   "execution_count": 2,
   "metadata": {},
   "outputs": [
    {
     "name": "stdout",
     "output_type": "stream",
     "text": [
      "Requirement already satisfied: adversarial-robustness-toolbox in c:\\users\\georg siedel\\documents\\python\\elastic_net_adversarial_attack\\.venv\\lib\\site-packages (1.18.2)\n",
      "Requirement already satisfied: numpy>=1.18.0 in c:\\users\\georg siedel\\documents\\python\\elastic_net_adversarial_attack\\.venv\\lib\\site-packages (from adversarial-robustness-toolbox) (2.0.2)\n",
      "Requirement already satisfied: scipy>=1.4.1 in c:\\users\\georg siedel\\documents\\python\\elastic_net_adversarial_attack\\.venv\\lib\\site-packages (from adversarial-robustness-toolbox) (1.14.1)\n",
      "Requirement already satisfied: scikit-learn>=0.22.2 in c:\\users\\georg siedel\\documents\\python\\elastic_net_adversarial_attack\\.venv\\lib\\site-packages (from adversarial-robustness-toolbox) (1.5.2)\n",
      "Requirement already satisfied: six in c:\\users\\georg siedel\\documents\\python\\elastic_net_adversarial_attack\\.venv\\lib\\site-packages (from adversarial-robustness-toolbox) (1.16.0)\n",
      "Requirement already satisfied: setuptools in c:\\users\\georg siedel\\documents\\python\\elastic_net_adversarial_attack\\.venv\\lib\\site-packages (from adversarial-robustness-toolbox) (75.6.0)\n",
      "Requirement already satisfied: tqdm in c:\\users\\georg siedel\\documents\\python\\elastic_net_adversarial_attack\\.venv\\lib\\site-packages (from adversarial-robustness-toolbox) (4.67.1)\n",
      "Requirement already satisfied: joblib>=1.2.0 in c:\\users\\georg siedel\\documents\\python\\elastic_net_adversarial_attack\\.venv\\lib\\site-packages (from scikit-learn>=0.22.2->adversarial-robustness-toolbox) (1.4.2)\n",
      "Requirement already satisfied: threadpoolctl>=3.1.0 in c:\\users\\georg siedel\\documents\\python\\elastic_net_adversarial_attack\\.venv\\lib\\site-packages (from scikit-learn>=0.22.2->adversarial-robustness-toolbox) (3.5.0)\n",
      "Requirement already satisfied: colorama in c:\\users\\georg siedel\\documents\\python\\elastic_net_adversarial_attack\\.venv\\lib\\site-packages (from tqdm->adversarial-robustness-toolbox) (0.4.6)\n",
      "Requirement already satisfied: multiprocess in c:\\users\\georg siedel\\documents\\python\\elastic_net_adversarial_attack\\.venv\\lib\\site-packages (0.70.17)\n",
      "Requirement already satisfied: dill>=0.3.9 in c:\\users\\georg siedel\\documents\\python\\elastic_net_adversarial_attack\\.venv\\lib\\site-packages (from multiprocess) (0.3.9)\n",
      "Requirement already satisfied: importlib-metadata in c:\\users\\georg siedel\\documents\\python\\elastic_net_adversarial_attack\\.venv\\lib\\site-packages (8.5.0)\n",
      "Requirement already satisfied: zipp>=3.20 in c:\\users\\georg siedel\\documents\\python\\elastic_net_adversarial_attack\\.venv\\lib\\site-packages (from importlib-metadata) (3.21.0)\n",
      "Requirement already satisfied: advertorch in c:\\users\\georg siedel\\documents\\python\\elastic_net_adversarial_attack\\.venv\\lib\\site-packages (0.2.3)\n",
      "Requirement already satisfied: torch in c:\\users\\georg siedel\\documents\\python\\elastic_net_adversarial_attack\\.venv\\lib\\site-packages (2.5.1)\n",
      "Requirement already satisfied: torchvision in c:\\users\\georg siedel\\documents\\python\\elastic_net_adversarial_attack\\.venv\\lib\\site-packages (0.20.1)\n",
      "Requirement already satisfied: torchaudio in c:\\users\\georg siedel\\documents\\python\\elastic_net_adversarial_attack\\.venv\\lib\\site-packages (2.5.1)\n",
      "Requirement already satisfied: filelock in c:\\users\\georg siedel\\documents\\python\\elastic_net_adversarial_attack\\.venv\\lib\\site-packages (from torch) (3.16.1)\n",
      "Requirement already satisfied: typing-extensions>=4.8.0 in c:\\users\\georg siedel\\documents\\python\\elastic_net_adversarial_attack\\.venv\\lib\\site-packages (from torch) (4.12.2)\n",
      "Requirement already satisfied: networkx in c:\\users\\georg siedel\\documents\\python\\elastic_net_adversarial_attack\\.venv\\lib\\site-packages (from torch) (3.4.2)\n",
      "Requirement already satisfied: jinja2 in c:\\users\\georg siedel\\documents\\python\\elastic_net_adversarial_attack\\.venv\\lib\\site-packages (from torch) (3.1.4)\n",
      "Requirement already satisfied: fsspec in c:\\users\\georg siedel\\documents\\python\\elastic_net_adversarial_attack\\.venv\\lib\\site-packages (from torch) (2024.10.0)\n",
      "Requirement already satisfied: setuptools in c:\\users\\georg siedel\\documents\\python\\elastic_net_adversarial_attack\\.venv\\lib\\site-packages (from torch) (75.6.0)\n",
      "Requirement already satisfied: sympy==1.13.1 in c:\\users\\georg siedel\\documents\\python\\elastic_net_adversarial_attack\\.venv\\lib\\site-packages (from torch) (1.13.1)\n",
      "Requirement already satisfied: mpmath<1.4,>=1.1.0 in c:\\users\\georg siedel\\documents\\python\\elastic_net_adversarial_attack\\.venv\\lib\\site-packages (from sympy==1.13.1->torch) (1.3.0)\n",
      "Requirement already satisfied: numpy in c:\\users\\georg siedel\\documents\\python\\elastic_net_adversarial_attack\\.venv\\lib\\site-packages (from torchvision) (2.0.2)\n",
      "Requirement already satisfied: pillow!=8.3.*,>=5.3.0 in c:\\users\\georg siedel\\documents\\python\\elastic_net_adversarial_attack\\.venv\\lib\\site-packages (from torchvision) (11.0.0)\n",
      "Requirement already satisfied: MarkupSafe>=2.0 in c:\\users\\georg siedel\\documents\\python\\elastic_net_adversarial_attack\\.venv\\lib\\site-packages (from jinja2->torch) (3.0.2)\n",
      "Collecting git+https://github.com/RobustBench/robustbench.git\n",
      "  Cloning https://github.com/RobustBench/robustbench.git to c:\\users\\georg siedel\\appdata\\local\\temp\\pip-req-build-ryne21n6\n",
      "  Resolved https://github.com/RobustBench/robustbench.git to commit 776bc95bb4167827fb102a32ac5aea62e46cfaab\n",
      "  Installing build dependencies: started\n",
      "  Installing build dependencies: finished with status 'done'\n",
      "  Getting requirements to build wheel: started\n",
      "  Getting requirements to build wheel: finished with status 'done'\n",
      "  Preparing metadata (pyproject.toml): started\n",
      "  Preparing metadata (pyproject.toml): finished with status 'done'\n",
      "Collecting autoattack@ git+https://github.com/fra31/auto-attack.git@a39220048b3c9f2cca9a4d3a54604793c68eca7e#egg=autoattack (from robustbench==1.1)\n",
      "  Using cached autoattack-0.1-py3-none-any.whl\n",
      "Requirement already satisfied: torch>=1.7.1 in c:\\users\\georg siedel\\documents\\python\\elastic_net_adversarial_attack\\.venv\\lib\\site-packages (from robustbench==1.1) (2.5.1)\n",
      "Requirement already satisfied: torchvision>=0.8.2 in c:\\users\\georg siedel\\documents\\python\\elastic_net_adversarial_attack\\.venv\\lib\\site-packages (from robustbench==1.1) (0.20.1)\n",
      "Requirement already satisfied: torchdiffeq in c:\\users\\georg siedel\\documents\\python\\elastic_net_adversarial_attack\\.venv\\lib\\site-packages (from robustbench==1.1) (0.2.5)\n",
      "Requirement already satisfied: geotorch in c:\\users\\georg siedel\\documents\\python\\elastic_net_adversarial_attack\\.venv\\lib\\site-packages (from robustbench==1.1) (0.3.0)\n",
      "Requirement already satisfied: requests>=2.25.0 in c:\\users\\georg siedel\\documents\\python\\elastic_net_adversarial_attack\\.venv\\lib\\site-packages (from robustbench==1.1) (2.32.3)\n",
      "Requirement already satisfied: numpy>=1.19.4 in c:\\users\\georg siedel\\documents\\python\\elastic_net_adversarial_attack\\.venv\\lib\\site-packages (from robustbench==1.1) (2.0.2)\n",
      "Requirement already satisfied: Jinja2~=3.1.2 in c:\\users\\georg siedel\\documents\\python\\elastic_net_adversarial_attack\\.venv\\lib\\site-packages (from robustbench==1.1) (3.1.4)\n",
      "Requirement already satisfied: tqdm>=4.56.1 in c:\\users\\georg siedel\\documents\\python\\elastic_net_adversarial_attack\\.venv\\lib\\site-packages (from robustbench==1.1) (4.67.1)\n",
      "Requirement already satisfied: pandas>=1.3.5 in c:\\users\\georg siedel\\documents\\python\\elastic_net_adversarial_attack\\.venv\\lib\\site-packages (from robustbench==1.1) (2.2.3)\n",
      "Requirement already satisfied: timm>=0.9.0 in c:\\users\\georg siedel\\documents\\python\\elastic_net_adversarial_attack\\.venv\\lib\\site-packages (from robustbench==1.1) (1.0.11)\n",
      "Requirement already satisfied: gdown==5.1.0 in c:\\users\\georg siedel\\documents\\python\\elastic_net_adversarial_attack\\.venv\\lib\\site-packages (from robustbench==1.1) (5.1.0)\n",
      "Requirement already satisfied: pyyaml in c:\\users\\georg siedel\\documents\\python\\elastic_net_adversarial_attack\\.venv\\lib\\site-packages (from robustbench==1.1) (6.0.2)\n",
      "Requirement already satisfied: beautifulsoup4 in c:\\users\\georg siedel\\documents\\python\\elastic_net_adversarial_attack\\.venv\\lib\\site-packages (from gdown==5.1.0->robustbench==1.1) (4.12.3)\n",
      "Requirement already satisfied: filelock in c:\\users\\georg siedel\\documents\\python\\elastic_net_adversarial_attack\\.venv\\lib\\site-packages (from gdown==5.1.0->robustbench==1.1) (3.16.1)\n",
      "Requirement already satisfied: MarkupSafe>=2.0 in c:\\users\\georg siedel\\documents\\python\\elastic_net_adversarial_attack\\.venv\\lib\\site-packages (from Jinja2~=3.1.2->robustbench==1.1) (3.0.2)\n",
      "Requirement already satisfied: python-dateutil>=2.8.2 in c:\\users\\georg siedel\\documents\\python\\elastic_net_adversarial_attack\\.venv\\lib\\site-packages (from pandas>=1.3.5->robustbench==1.1) (2.9.0.post0)\n",
      "Requirement already satisfied: pytz>=2020.1 in c:\\users\\georg siedel\\documents\\python\\elastic_net_adversarial_attack\\.venv\\lib\\site-packages (from pandas>=1.3.5->robustbench==1.1) (2024.2)\n",
      "Requirement already satisfied: tzdata>=2022.7 in c:\\users\\georg siedel\\documents\\python\\elastic_net_adversarial_attack\\.venv\\lib\\site-packages (from pandas>=1.3.5->robustbench==1.1) (2024.2)\n",
      "Requirement already satisfied: charset-normalizer<4,>=2 in c:\\users\\georg siedel\\documents\\python\\elastic_net_adversarial_attack\\.venv\\lib\\site-packages (from requests>=2.25.0->robustbench==1.1) (3.4.0)\n",
      "Requirement already satisfied: idna<4,>=2.5 in c:\\users\\georg siedel\\documents\\python\\elastic_net_adversarial_attack\\.venv\\lib\\site-packages (from requests>=2.25.0->robustbench==1.1) (3.10)\n",
      "Requirement already satisfied: urllib3<3,>=1.21.1 in c:\\users\\georg siedel\\documents\\python\\elastic_net_adversarial_attack\\.venv\\lib\\site-packages (from requests>=2.25.0->robustbench==1.1) (2.2.3)\n",
      "Requirement already satisfied: certifi>=2017.4.17 in c:\\users\\georg siedel\\documents\\python\\elastic_net_adversarial_attack\\.venv\\lib\\site-packages (from requests>=2.25.0->robustbench==1.1) (2024.8.30)\n",
      "Requirement already satisfied: huggingface_hub in c:\\users\\georg siedel\\documents\\python\\elastic_net_adversarial_attack\\.venv\\lib\\site-packages (from timm>=0.9.0->robustbench==1.1) (0.26.3)\n",
      "Requirement already satisfied: safetensors in c:\\users\\georg siedel\\documents\\python\\elastic_net_adversarial_attack\\.venv\\lib\\site-packages (from timm>=0.9.0->robustbench==1.1) (0.4.5)\n",
      "Requirement already satisfied: typing-extensions>=4.8.0 in c:\\users\\georg siedel\\documents\\python\\elastic_net_adversarial_attack\\.venv\\lib\\site-packages (from torch>=1.7.1->robustbench==1.1) (4.12.2)\n",
      "Requirement already satisfied: networkx in c:\\users\\georg siedel\\documents\\python\\elastic_net_adversarial_attack\\.venv\\lib\\site-packages (from torch>=1.7.1->robustbench==1.1) (3.4.2)\n",
      "Requirement already satisfied: fsspec in c:\\users\\georg siedel\\documents\\python\\elastic_net_adversarial_attack\\.venv\\lib\\site-packages (from torch>=1.7.1->robustbench==1.1) (2024.10.0)\n",
      "Requirement already satisfied: setuptools in c:\\users\\georg siedel\\documents\\python\\elastic_net_adversarial_attack\\.venv\\lib\\site-packages (from torch>=1.7.1->robustbench==1.1) (75.6.0)\n",
      "Requirement already satisfied: sympy==1.13.1 in c:\\users\\georg siedel\\documents\\python\\elastic_net_adversarial_attack\\.venv\\lib\\site-packages (from torch>=1.7.1->robustbench==1.1) (1.13.1)\n",
      "Requirement already satisfied: mpmath<1.4,>=1.1.0 in c:\\users\\georg siedel\\documents\\python\\elastic_net_adversarial_attack\\.venv\\lib\\site-packages (from sympy==1.13.1->torch>=1.7.1->robustbench==1.1) (1.3.0)\n",
      "Requirement already satisfied: pillow!=8.3.*,>=5.3.0 in c:\\users\\georg siedel\\documents\\python\\elastic_net_adversarial_attack\\.venv\\lib\\site-packages (from torchvision>=0.8.2->robustbench==1.1) (11.0.0)\n",
      "Requirement already satisfied: colorama in c:\\users\\georg siedel\\documents\\python\\elastic_net_adversarial_attack\\.venv\\lib\\site-packages (from tqdm>=4.56.1->robustbench==1.1) (0.4.6)\n",
      "Requirement already satisfied: scipy>=1.4.0 in c:\\users\\georg siedel\\documents\\python\\elastic_net_adversarial_attack\\.venv\\lib\\site-packages (from torchdiffeq->robustbench==1.1) (1.14.1)\n",
      "Requirement already satisfied: six>=1.5 in c:\\users\\georg siedel\\documents\\python\\elastic_net_adversarial_attack\\.venv\\lib\\site-packages (from python-dateutil>=2.8.2->pandas>=1.3.5->robustbench==1.1) (1.16.0)\n",
      "Requirement already satisfied: soupsieve>1.2 in c:\\users\\georg siedel\\documents\\python\\elastic_net_adversarial_attack\\.venv\\lib\\site-packages (from beautifulsoup4->gdown==5.1.0->robustbench==1.1) (2.6)\n",
      "Requirement already satisfied: packaging>=20.9 in c:\\users\\georg siedel\\documents\\python\\elastic_net_adversarial_attack\\.venv\\lib\\site-packages (from huggingface_hub->timm>=0.9.0->robustbench==1.1) (24.2)\n",
      "Requirement already satisfied: PySocks!=1.5.7,>=1.5.6 in c:\\users\\georg siedel\\documents\\python\\elastic_net_adversarial_attack\\.venv\\lib\\site-packages (from requests[socks]->gdown==5.1.0->robustbench==1.1) (1.7.1)\n"
     ]
    },
    {
     "name": "stderr",
     "output_type": "stream",
     "text": [
      "  Running command git clone --filter=blob:none --quiet https://github.com/RobustBench/robustbench.git 'C:\\Users\\Georg Siedel\\AppData\\Local\\Temp\\pip-req-build-ryne21n6'\n"
     ]
    },
    {
     "name": "stdout",
     "output_type": "stream",
     "text": [
      "Requirement already satisfied: numba in c:\\users\\georg siedel\\documents\\python\\elastic_net_adversarial_attack\\.venv\\lib\\site-packages (0.60.0)\n",
      "Requirement already satisfied: llvmlite<0.44,>=0.43.0dev0 in c:\\users\\georg siedel\\documents\\python\\elastic_net_adversarial_attack\\.venv\\lib\\site-packages (from numba) (0.43.0)\n",
      "Requirement already satisfied: numpy<2.1,>=1.22 in c:\\users\\georg siedel\\documents\\python\\elastic_net_adversarial_attack\\.venv\\lib\\site-packages (from numba) (2.0.2)\n",
      "Requirement already satisfied: matplotlib in c:\\users\\georg siedel\\documents\\python\\elastic_net_adversarial_attack\\.venv\\lib\\site-packages (3.9.2)\n",
      "Requirement already satisfied: contourpy>=1.0.1 in c:\\users\\georg siedel\\documents\\python\\elastic_net_adversarial_attack\\.venv\\lib\\site-packages (from matplotlib) (1.3.1)\n",
      "Requirement already satisfied: cycler>=0.10 in c:\\users\\georg siedel\\documents\\python\\elastic_net_adversarial_attack\\.venv\\lib\\site-packages (from matplotlib) (0.12.1)\n",
      "Requirement already satisfied: fonttools>=4.22.0 in c:\\users\\georg siedel\\documents\\python\\elastic_net_adversarial_attack\\.venv\\lib\\site-packages (from matplotlib) (4.55.0)\n",
      "Requirement already satisfied: kiwisolver>=1.3.1 in c:\\users\\georg siedel\\documents\\python\\elastic_net_adversarial_attack\\.venv\\lib\\site-packages (from matplotlib) (1.4.7)\n",
      "Requirement already satisfied: numpy>=1.23 in c:\\users\\georg siedel\\documents\\python\\elastic_net_adversarial_attack\\.venv\\lib\\site-packages (from matplotlib) (2.0.2)\n",
      "Requirement already satisfied: packaging>=20.0 in c:\\users\\georg siedel\\documents\\python\\elastic_net_adversarial_attack\\.venv\\lib\\site-packages (from matplotlib) (24.2)\n",
      "Requirement already satisfied: pillow>=8 in c:\\users\\georg siedel\\documents\\python\\elastic_net_adversarial_attack\\.venv\\lib\\site-packages (from matplotlib) (11.0.0)\n",
      "Requirement already satisfied: pyparsing>=2.3.1 in c:\\users\\georg siedel\\documents\\python\\elastic_net_adversarial_attack\\.venv\\lib\\site-packages (from matplotlib) (3.2.0)\n",
      "Requirement already satisfied: python-dateutil>=2.7 in c:\\users\\georg siedel\\documents\\python\\elastic_net_adversarial_attack\\.venv\\lib\\site-packages (from matplotlib) (2.9.0.post0)\n",
      "Requirement already satisfied: six>=1.5 in c:\\users\\georg siedel\\documents\\python\\elastic_net_adversarial_attack\\.venv\\lib\\site-packages (from python-dateutil>=2.7->matplotlib) (1.16.0)\n",
      "Requirement already satisfied: pillow in c:\\users\\georg siedel\\documents\\python\\elastic_net_adversarial_attack\\.venv\\lib\\site-packages (11.0.0)\n"
     ]
    }
   ],
   "source": [
    "!pip install adversarial-robustness-toolbox -U\n",
    "!pip install multiprocess\n",
    "!pip install importlib-metadata\n",
    "!pip install advertorch\n",
    "!pip install torch torchvision torchaudio\n",
    "!pip install git+https://github.com/RobustBench/robustbench.git\n",
    "!pip install numba\n",
    "!pip install matplotlib\n",
    "!pip install pillow"
   ]
  },
  {
   "cell_type": "markdown",
   "metadata": {},
   "source": [
    "## Import Libraries"
   ]
  },
  {
   "cell_type": "code",
   "execution_count": null,
   "metadata": {},
   "outputs": [
    {
     "name": "stderr",
     "output_type": "stream",
     "text": [
      "c:\\Users\\Georg Siedel\\Documents\\Python\\elastic_net_adversarial_attack\\.venv\\Lib\\site-packages\\tqdm\\auto.py:21: TqdmWarning: IProgress not found. Please update jupyter and ipywidgets. See https://ipywidgets.readthedocs.io/en/stable/user_install.html\n",
      "  from .autonotebook import tqdm as notebook_tqdm\n"
     ]
    }
   ],
   "source": [
    "import torch\n",
    "import torchvision\n",
    "import torch.nn as nn\n",
    "import torch.optim as optim\n",
    "from torchvision import datasets, transforms, models\n",
    "\n",
    "import numba\n",
    "numba.__version__\n",
    "\n",
    "import importlib\n",
    "import time\n",
    "import matplotlib.pyplot as plt\n",
    "import numpy as np\n",
    "\n",
    "from art.estimators.classification import PyTorchClassifier\n",
    "from PIL import Image, ImageDraw, ImageFont, ImageOps\n",
    "import json"
   ]
  },
  {
   "cell_type": "code",
   "execution_count": null,
   "metadata": {},
   "outputs": [],
   "source": [
    "device = torch.device('cuda' if torch.cuda.is_available() else 'cpu')"
   ]
  },
  {
   "cell_type": "markdown",
   "metadata": {},
   "source": [
    "## Load and Prepare CIFAR-10 Dataset"
   ]
  },
  {
   "cell_type": "code",
   "execution_count": null,
   "metadata": {},
   "outputs": [],
   "source": [
    "def load_dataset(dataset_split):\n",
    "    # Load CIFAR-10 dataset using torchvision\n",
    "    transform = transforms.Compose([\n",
    "      transforms.ToTensor(),\n",
    "                                 ])\n",
    "    testset = datasets.CIFAR10(root='./data/cifar', train=False, download=True, transform=transform)\n",
    "\n",
    "    # Truncated testset for experiments and ablations\n",
    "    if isinstance(dataset_split, int):\n",
    "        testset, _ = torch.utils.data.random_split(testset,\n",
    "                                                          [dataset_split, len(testset) - dataset_split],\n",
    "                                                          generator=torch.Generator().manual_seed(42))\n",
    "    \n",
    "    # Extract data and labels from torchvision dataset\n",
    "    xtest = torch.stack([data[0] for data in testset])\n",
    "    ytest = torch.tensor([data[1] for data in testset])\n",
    "\n",
    "    return xtest, ytest"
   ]
  },
  {
   "cell_type": "markdown",
   "metadata": {},
   "source": [
    "## Load and Prepare WideResNet Model"
   ]
  },
  {
   "cell_type": "code",
   "execution_count": null,
   "metadata": {},
   "outputs": [
    {
     "name": "stderr",
     "output_type": "stream",
     "text": [
      "c:\\Users\\Georg Siedel\\Documents\\Python\\elastic_net_adversarial_attack\\.venv\\Lib\\site-packages\\timm\\models\\registry.py:4: FutureWarning: Importing from timm.models.registry is deprecated, please import via timm.models\n",
      "  warnings.warn(f\"Importing from {__name__} is deprecated, please import via timm.models\", FutureWarning)\n",
      "c:\\Users\\Georg Siedel\\Documents\\Python\\elastic_net_adversarial_attack\\.venv\\Lib\\site-packages\\timm\\models\\layers\\__init__.py:48: FutureWarning: Importing from timm.models.layers is deprecated, please import via timm.layers\n",
      "  warnings.warn(f\"Importing from {__name__} is deprecated, please import via timm.layers\", FutureWarning)\n",
      "c:\\Users\\Georg Siedel\\Documents\\Python\\elastic_net_adversarial_attack\\.venv\\Lib\\site-packages\\timm\\models\\helpers.py:7: FutureWarning: Importing from timm.models.helpers is deprecated, please import via timm.models\n",
      "  warnings.warn(f\"Importing from {__name__} is deprecated, please import via timm.models\", FutureWarning)\n"
     ]
    },
    {
     "name": "stdout",
     "output_type": "stream",
     "text": [
      "\n",
      "Loading adversarial Model...\n",
      "\n",
      "C:\\Users\\Georg Siedel\n"
     ]
    },
    {
     "name": "stderr",
     "output_type": "stream",
     "text": [
      "c:\\Users\\Georg Siedel\\Documents\\Python\\elastic_net_adversarial_attack\\.venv\\Lib\\site-packages\\robustbench\\utils.py:165: FutureWarning: You are using `torch.load` with `weights_only=False` (the current default value), which uses the default pickle module implicitly. It is possible to construct malicious pickle data which will execute arbitrary code during unpickling (See https://github.com/pytorch/pytorch/blob/main/SECURITY.md#untrusted-models for more details). In a future release, the default value for `weights_only` will be flipped to `True`. This limits the functions that could be executed during unpickling. Arbitrary objects will no longer be allowed to be loaded via this mode unless they are explicitly allowlisted by the user via `torch.serialization.add_safe_globals`. We recommend you start setting `weights_only=True` for any use case where you don't have full control of the loaded file. Please open an issue on GitHub for any issues related to this experimental feature.\n",
      "  checkpoint = torch.load(model_path, map_location=torch.device('cpu'))\n",
      "c:\\Users\\Georg Siedel\\Documents\\Python\\elastic_net_adversarial_attack\\.venv\\Lib\\site-packages\\IPython\\core\\magics\\osm.py:393: UserWarning: This is now an optional IPython functionality, using bookmarks requires you to install the `pickleshare` library.\n",
      "  bkms = self.shell.db.get('bookmarks', {})\n",
      "c:\\Users\\Georg Siedel\\Documents\\Python\\elastic_net_adversarial_attack\\.venv\\Lib\\site-packages\\IPython\\core\\magics\\osm.py:428: UserWarning: This is now an optional IPython functionality, setting dhist requires you to install the `pickleshare` library.\n",
      "  self.shell.db['dhist'] = compress_dhist(dhist)[-100:]\n"
     ]
    },
    {
     "data": {
      "text/plain": [
       "DataParallel(\n",
       "  (module): Ding2020MMANet(\n",
       "    (conv1): Conv2d(3, 16, kernel_size=(3, 3), stride=(1, 1), padding=(1, 1), bias=False)\n",
       "    (block1): NetworkBlock(\n",
       "      (layer): Sequential(\n",
       "        (0): BasicBlock(\n",
       "          (bn1): BatchNorm2d(16, eps=1e-05, momentum=0.1, affine=True, track_running_stats=True)\n",
       "          (relu1): ReLU(inplace=True)\n",
       "          (conv1): Conv2d(16, 64, kernel_size=(3, 3), stride=(1, 1), padding=(1, 1), bias=False)\n",
       "          (bn2): BatchNorm2d(64, eps=1e-05, momentum=0.1, affine=True, track_running_stats=True)\n",
       "          (relu2): ReLU(inplace=True)\n",
       "          (conv2): Conv2d(64, 64, kernel_size=(3, 3), stride=(1, 1), padding=(1, 1), bias=False)\n",
       "          (convShortcut): Conv2d(16, 64, kernel_size=(1, 1), stride=(1, 1), bias=False)\n",
       "        )\n",
       "        (1): BasicBlock(\n",
       "          (bn1): BatchNorm2d(64, eps=1e-05, momentum=0.1, affine=True, track_running_stats=True)\n",
       "          (relu1): ReLU(inplace=True)\n",
       "          (conv1): Conv2d(64, 64, kernel_size=(3, 3), stride=(1, 1), padding=(1, 1), bias=False)\n",
       "          (bn2): BatchNorm2d(64, eps=1e-05, momentum=0.1, affine=True, track_running_stats=True)\n",
       "          (relu2): ReLU(inplace=True)\n",
       "          (conv2): Conv2d(64, 64, kernel_size=(3, 3), stride=(1, 1), padding=(1, 1), bias=False)\n",
       "        )\n",
       "        (2): BasicBlock(\n",
       "          (bn1): BatchNorm2d(64, eps=1e-05, momentum=0.1, affine=True, track_running_stats=True)\n",
       "          (relu1): ReLU(inplace=True)\n",
       "          (conv1): Conv2d(64, 64, kernel_size=(3, 3), stride=(1, 1), padding=(1, 1), bias=False)\n",
       "          (bn2): BatchNorm2d(64, eps=1e-05, momentum=0.1, affine=True, track_running_stats=True)\n",
       "          (relu2): ReLU(inplace=True)\n",
       "          (conv2): Conv2d(64, 64, kernel_size=(3, 3), stride=(1, 1), padding=(1, 1), bias=False)\n",
       "        )\n",
       "        (3): BasicBlock(\n",
       "          (bn1): BatchNorm2d(64, eps=1e-05, momentum=0.1, affine=True, track_running_stats=True)\n",
       "          (relu1): ReLU(inplace=True)\n",
       "          (conv1): Conv2d(64, 64, kernel_size=(3, 3), stride=(1, 1), padding=(1, 1), bias=False)\n",
       "          (bn2): BatchNorm2d(64, eps=1e-05, momentum=0.1, affine=True, track_running_stats=True)\n",
       "          (relu2): ReLU(inplace=True)\n",
       "          (conv2): Conv2d(64, 64, kernel_size=(3, 3), stride=(1, 1), padding=(1, 1), bias=False)\n",
       "        )\n",
       "      )\n",
       "    )\n",
       "    (block2): NetworkBlock(\n",
       "      (layer): Sequential(\n",
       "        (0): BasicBlock(\n",
       "          (bn1): BatchNorm2d(64, eps=1e-05, momentum=0.1, affine=True, track_running_stats=True)\n",
       "          (relu1): ReLU(inplace=True)\n",
       "          (conv1): Conv2d(64, 128, kernel_size=(3, 3), stride=(2, 2), padding=(1, 1), bias=False)\n",
       "          (bn2): BatchNorm2d(128, eps=1e-05, momentum=0.1, affine=True, track_running_stats=True)\n",
       "          (relu2): ReLU(inplace=True)\n",
       "          (conv2): Conv2d(128, 128, kernel_size=(3, 3), stride=(1, 1), padding=(1, 1), bias=False)\n",
       "          (convShortcut): Conv2d(64, 128, kernel_size=(1, 1), stride=(2, 2), bias=False)\n",
       "        )\n",
       "        (1): BasicBlock(\n",
       "          (bn1): BatchNorm2d(128, eps=1e-05, momentum=0.1, affine=True, track_running_stats=True)\n",
       "          (relu1): ReLU(inplace=True)\n",
       "          (conv1): Conv2d(128, 128, kernel_size=(3, 3), stride=(1, 1), padding=(1, 1), bias=False)\n",
       "          (bn2): BatchNorm2d(128, eps=1e-05, momentum=0.1, affine=True, track_running_stats=True)\n",
       "          (relu2): ReLU(inplace=True)\n",
       "          (conv2): Conv2d(128, 128, kernel_size=(3, 3), stride=(1, 1), padding=(1, 1), bias=False)\n",
       "        )\n",
       "        (2): BasicBlock(\n",
       "          (bn1): BatchNorm2d(128, eps=1e-05, momentum=0.1, affine=True, track_running_stats=True)\n",
       "          (relu1): ReLU(inplace=True)\n",
       "          (conv1): Conv2d(128, 128, kernel_size=(3, 3), stride=(1, 1), padding=(1, 1), bias=False)\n",
       "          (bn2): BatchNorm2d(128, eps=1e-05, momentum=0.1, affine=True, track_running_stats=True)\n",
       "          (relu2): ReLU(inplace=True)\n",
       "          (conv2): Conv2d(128, 128, kernel_size=(3, 3), stride=(1, 1), padding=(1, 1), bias=False)\n",
       "        )\n",
       "        (3): BasicBlock(\n",
       "          (bn1): BatchNorm2d(128, eps=1e-05, momentum=0.1, affine=True, track_running_stats=True)\n",
       "          (relu1): ReLU(inplace=True)\n",
       "          (conv1): Conv2d(128, 128, kernel_size=(3, 3), stride=(1, 1), padding=(1, 1), bias=False)\n",
       "          (bn2): BatchNorm2d(128, eps=1e-05, momentum=0.1, affine=True, track_running_stats=True)\n",
       "          (relu2): ReLU(inplace=True)\n",
       "          (conv2): Conv2d(128, 128, kernel_size=(3, 3), stride=(1, 1), padding=(1, 1), bias=False)\n",
       "        )\n",
       "      )\n",
       "    )\n",
       "    (block3): NetworkBlock(\n",
       "      (layer): Sequential(\n",
       "        (0): BasicBlock(\n",
       "          (bn1): BatchNorm2d(128, eps=1e-05, momentum=0.1, affine=True, track_running_stats=True)\n",
       "          (relu1): ReLU(inplace=True)\n",
       "          (conv1): Conv2d(128, 256, kernel_size=(3, 3), stride=(2, 2), padding=(1, 1), bias=False)\n",
       "          (bn2): BatchNorm2d(256, eps=1e-05, momentum=0.1, affine=True, track_running_stats=True)\n",
       "          (relu2): ReLU(inplace=True)\n",
       "          (conv2): Conv2d(256, 256, kernel_size=(3, 3), stride=(1, 1), padding=(1, 1), bias=False)\n",
       "          (convShortcut): Conv2d(128, 256, kernel_size=(1, 1), stride=(2, 2), bias=False)\n",
       "        )\n",
       "        (1): BasicBlock(\n",
       "          (bn1): BatchNorm2d(256, eps=1e-05, momentum=0.1, affine=True, track_running_stats=True)\n",
       "          (relu1): ReLU(inplace=True)\n",
       "          (conv1): Conv2d(256, 256, kernel_size=(3, 3), stride=(1, 1), padding=(1, 1), bias=False)\n",
       "          (bn2): BatchNorm2d(256, eps=1e-05, momentum=0.1, affine=True, track_running_stats=True)\n",
       "          (relu2): ReLU(inplace=True)\n",
       "          (conv2): Conv2d(256, 256, kernel_size=(3, 3), stride=(1, 1), padding=(1, 1), bias=False)\n",
       "        )\n",
       "        (2): BasicBlock(\n",
       "          (bn1): BatchNorm2d(256, eps=1e-05, momentum=0.1, affine=True, track_running_stats=True)\n",
       "          (relu1): ReLU(inplace=True)\n",
       "          (conv1): Conv2d(256, 256, kernel_size=(3, 3), stride=(1, 1), padding=(1, 1), bias=False)\n",
       "          (bn2): BatchNorm2d(256, eps=1e-05, momentum=0.1, affine=True, track_running_stats=True)\n",
       "          (relu2): ReLU(inplace=True)\n",
       "          (conv2): Conv2d(256, 256, kernel_size=(3, 3), stride=(1, 1), padding=(1, 1), bias=False)\n",
       "        )\n",
       "        (3): BasicBlock(\n",
       "          (bn1): BatchNorm2d(256, eps=1e-05, momentum=0.1, affine=True, track_running_stats=True)\n",
       "          (relu1): ReLU(inplace=True)\n",
       "          (conv1): Conv2d(256, 256, kernel_size=(3, 3), stride=(1, 1), padding=(1, 1), bias=False)\n",
       "          (bn2): BatchNorm2d(256, eps=1e-05, momentum=0.1, affine=True, track_running_stats=True)\n",
       "          (relu2): ReLU(inplace=True)\n",
       "          (conv2): Conv2d(256, 256, kernel_size=(3, 3), stride=(1, 1), padding=(1, 1), bias=False)\n",
       "        )\n",
       "      )\n",
       "    )\n",
       "    (bn1): BatchNorm2d(256, eps=1e-05, momentum=0.1, affine=True, track_running_stats=True)\n",
       "    (relu): ReLU(inplace=True)\n",
       "    (fc): Linear(in_features=256, out_features=10, bias=True)\n",
       "  )\n",
       ")"
      ]
     },
     "execution_count": 6,
     "metadata": {},
     "output_type": "execute_result"
    }
   ],
   "source": [
    "#%cd /kaggle/working/adversarial-distance-estimation\n",
    "import models.wideresnet as wideresnet\n",
    "from robustbench.utils import load_model\n",
    "\n",
    "modeltype = 'adversarial'\n",
    "\n",
    "print(f'\\nLoading {modeltype} Model...\\n')\n",
    "if modeltype == 'standard':\n",
    "    net = wideresnet.WideResNet_28_4(10, 'CIFAR10', normalized=True, block=wideresnet.WideBasic, activation_function='relu')\n",
    "    state_dict = \"model_state_dict\"\n",
    "    net = torch.nn.DataParallel(net)\n",
    "    PATH = f'./models/pretrained_models/{modeltype}.pth'\n",
    "    model = torch.load(PATH)\n",
    "    net.load_state_dict(model[state_dict], strict=False)\n",
    "elif modeltype == 'robust':\n",
    "    #self trained with massive random data augmentation and JSD consistency loss, but no adversarial objective\n",
    "    net = wideresnet.WideResNet_28_4(10, 'CIFAR10', normalized=True, block=wideresnet.WideBasic, activation_function='silu')\n",
    "    net = torch.nn.DataParallel(net)\n",
    "    state_dict = \"model_state_dict\"\n",
    "    PATH = f'./models/pretrained_models/{modeltype}.pth'\n",
    "    model = torch.load(PATH)\n",
    "    net.load_state_dict(model[state_dict], strict=False)\n",
    "elif modeltype == 'adversarial':\n",
    "    #from https://github.com/BorealisAI/mma_training/tree/master/trained_models/cifar10-Linf-MMA-20-sd0\n",
    "    model_name = 'Ding2020MMA'\n",
    "    net = load_model(model_name=model_name, dataset='cifar10', threat_model='Linf')\n",
    "    net = torch.nn.DataParallel(net)\n",
    "\n",
    "%cd\n",
    "net.eval()"
   ]
  },
  {
   "cell_type": "markdown",
   "metadata": {},
   "source": [
    "## Function to Test Model Accuracy"
   ]
  },
  {
   "cell_type": "code",
   "execution_count": null,
   "metadata": {},
   "outputs": [],
   "source": [
    "def test_accuracy(model, xtest, ytest):\n",
    "    model.eval()\n",
    "    correct, total = 0, 0\n",
    "\n",
    "    with torch.no_grad():\n",
    "        for i in range(len(xtest)):\n",
    "            x = xtest[i].unsqueeze(0).to(device)\n",
    "            y = ytest[i].unsqueeze(0).to(device)\n",
    "\n",
    "            outputs = model(x)\n",
    "            _, predicted = torch.max(outputs.data, 1)\n",
    "\n",
    "            total += y.size(0)\n",
    "            correct += (predicted==y).sum().item()\n",
    "\n",
    "    accuracy = (correct / total) * 100\n",
    "    print(f'\\nAccuracy of the testset is: {accuracy:.3f}%\\n')"
   ]
  },
  {
   "cell_type": "code",
   "execution_count": null,
   "metadata": {},
   "outputs": [],
   "source": [
    "# Define loss function and optimizer\n",
    "criterion = nn.CrossEntropyLoss()\n",
    "optimizer = optim.Adam(net.parameters(), lr=0.01)\n",
    "\n",
    "# Initialize PyTorchClassifier for ART\n",
    "classifier = PyTorchClassifier(model=net,\n",
    "                               loss=criterion,\n",
    "                               optimizer=optimizer,\n",
    "                               input_shape=(3, 32, 32),\n",
    "                               nb_classes=10)"
   ]
  },
  {
   "cell_type": "code",
   "execution_count": null,
   "metadata": {},
   "outputs": [],
   "source": [
    "from art.attacks.evasion import (FastGradientMethod,\n",
    "                                 ProjectedGradientDescentNumpy,\n",
    "                                 AutoAttack,\n",
    "                                 AutoProjectedGradientDescent,\n",
    "                                 CarliniL2Method,\n",
    "                                 NewtonFool,\n",
    "                                 DeepFool,\n",
    "                                 ElasticNet,\n",
    "                                 HopSkipJump)"
   ]
  },
  {
   "cell_type": "markdown",
   "metadata": {},
   "source": [
    "## Adversarial Attack Class"
   ]
  },
  {
   "cell_type": "code",
   "execution_count": null,
   "metadata": {},
   "outputs": [],
   "source": [
    "class AdversarialAttacks:\n",
    "  def __init__(self, classifier, epsilon, eps_iter, norm, iterations, second_attack_iters):\n",
    "    self.classifier = classifier\n",
    "    self.epsilon = epsilon\n",
    "    self.eps_iter = eps_iter\n",
    "    self.norm = norm\n",
    "    self.iterations = iterations\n",
    "    self.second_attack_iters = second_attack_iters\n",
    "\n",
    "  def init_attacker(self, attack_type, **kwargs):\n",
    "    if attack_type=='fast_gradient_method':\n",
    "        return FastGradientMethod(self.classifier,\n",
    "                                eps=self.epsilon,\n",
    "                                eps_step=self.eps_iter,\n",
    "                                minimal=True,\n",
    "                                norm=self.norm,\n",
    "                                **kwargs)\n",
    "    elif attack_type=='projected_gradient_descent':\n",
    "        return ProjectedGradientDescentNumpy(self.classifier,\n",
    "                                             eps=self.epsilon,\n",
    "                                             eps_step=self.eps_iter,\n",
    "                                             max_iter=self.iterations,\n",
    "                                             norm=self.norm,\n",
    "                                             **kwargs)\n",
    "    elif attack_type=='auto_attack':\n",
    "        return AutoAttack(estimator=self.classifier,\n",
    "                        eps=self.epsilon,\n",
    "                        eps_step=self.eps_iter,\n",
    "                        norm=self.norm)\n",
    "    elif attack_type=='auto_projected_gradient_descent':\n",
    "        return AutoProjectedGradientDescent(estimator=self.classifier,\n",
    "                                          eps=self.epsilon,\n",
    "                                          eps_step=self.eps_iter,\n",
    "                                          norm=self.norm,\n",
    "                                          max_iter=self.iterations,\n",
    "                                          **kwargs)\n",
    "    elif attack_type=='carlini_wagner_l2':\n",
    "        return CarliniL2Method(self.classifier,\n",
    "                               max_iter=self.second_attack_iters,\n",
    "                               **kwargs)\n",
    "    elif attack_type=='newton_fool':\n",
    "        return NewtonFool(self.classifier,\n",
    "                        max_iter=self.iterations,\n",
    "                        **kwargs)\n",
    "    elif attack_type=='deep_fool':\n",
    "        return DeepFool(self.classifier,\n",
    "                      max_iter=self.iterations,\n",
    "                      epsilon=self.eps_iter,\n",
    "                      **kwargs)\n",
    "    elif attack_type=='elastic_net':\n",
    "        return ElasticNet(self.classifier,\n",
    "                      max_iter=self.second_attack_iters)\n",
    "    elif attack_type=='hop_skip_jump':\n",
    "        return HopSkipJump(self.classifier,\n",
    "                         norm=self.norm,\n",
    "                         max_iter=self.second_attack_iters)\n",
    "    else:\n",
    "        raise ValueError(f'Attack type \"{attack_type}\" not supported!')"
   ]
  },
  {
   "cell_type": "markdown",
   "metadata": {},
   "source": [
    "## Plug-in Function for Adversarial Attack with Early Stopping"
   ]
  },
  {
   "cell_type": "code",
   "execution_count": null,
   "metadata": {},
   "outputs": [],
   "source": [
    "def attack_with_early_stopping(classifier, x, y, max_iterations, attacker):\n",
    "    label_flipped = False\n",
    "    count = 0\n",
    "    start_time = time.time()\n",
    "\n",
    "    x = x.unsqueeze(0)\n",
    "\n",
    "    outputs = classifier.predict(x.cpu().numpy())\n",
    "    _, clean_predicted = torch.max(torch.tensor(outputs).to(device).data, 1)\n",
    "    \n",
    "    if int(clean_predicted.item()) != int(y.item()):\n",
    "        print('Misclassified input. Not attacking.')\n",
    "        end_time = time.time()\n",
    "        return x.cpu().detach().numpy(), end_time - start_time, 0\n",
    "\n",
    "    for j in range(max_iterations):\n",
    "        adv_inputs = attacker.generate(x.cpu().detach().numpy(), y.cpu().detach().numpy())\n",
    "\n",
    "        adv_inputs_tensor = torch.from_numpy(adv_inputs).to(device)\n",
    "        outputs = classifier.predict(adv_inputs)\n",
    "        _, predicted = torch.max(torch.tensor(outputs).to(device).data, 1)\n",
    "\n",
    "        label_flipped = bool(predicted.item() != int(y.item()))\n",
    "\n",
    "        if label_flipped:\n",
    "            print(f'\\tIterations for successful iterative attack: {j+1}')\n",
    "            break\n",
    "            \n",
    "        x = adv_inputs_tensor.clone()\n",
    "\n",
    "    end_time = time.time()\n",
    "    return adv_inputs, end_time - start_time, j"
   ]
  },
  {
   "cell_type": "markdown",
   "metadata": {},
   "source": [
    "## Function for Adversarial Distance calculation (attack methods)"
   ]
  },
  {
   "cell_type": "code",
   "execution_count": null,
   "metadata": {},
   "outputs": [],
   "source": [
    "def distance_calculation(classifier, xtest, ytest, epsilon, eps_iter, norm, max_iterations, attack_type, get_image: bool = False, verbose: bool = True):\n",
    "\n",
    "    distance_list, runtime_list = [], []\n",
    "    device = torch.device(\"cuda:0\" if torch.cuda.is_available() else \"cpu\")\n",
    "    classifier.model.to(device)\n",
    "    xtest = xtest.to(device)\n",
    "    ytest = ytest.to(device)\n",
    "    \n",
    "    attacks = AdversarialAttacks(classifier=classifier,\n",
    "                          epsilon=epsilon,\n",
    "                          eps_iter=eps_iter,\n",
    "                          norm=norm,\n",
    "                          iterations=max_iterations,\n",
    "                          second_attack_iters=40)\n",
    "    attacker = attacks.init_attacker(attack_type)\n",
    "\n",
    "    correct_prediction = 0\n",
    "\n",
    "    for i, x in enumerate(xtest):\n",
    "        x = x.to(device)\n",
    "        y = ytest[i].unsqueeze(0).to(device)\n",
    "        \n",
    "        x_adversarial, runtime, iterations = attack_with_early_stopping(classifier=classifier,\n",
    "                                                            x=x,\n",
    "                                                            y=y,\n",
    "                                                            max_iterations=max_iterations,\n",
    "                                                            attacker=attacker)\n",
    "\n",
    "        x_adversarial_tensor = torch.from_numpy(x_adversarial).to(device)\n",
    "\n",
    "        # Adversarial accuracy calculation\n",
    "        output_adversarial = classifier.predict(x_adversarial)\n",
    "        _, predicted_adversarial = torch.max(torch.tensor(output_adversarial).to(device).data, 1)\n",
    "        correct_prediction += (predicted_adversarial.item() == int(y.item()))\n",
    "\n",
    "        distance = torch.norm((x - x_adversarial_tensor), p=float(norm))\n",
    "        if distance.item() == 0.0:\n",
    "            distance_list.append(0.0)\n",
    "            print(f'\\nMisclassified!!! dist: {distance.item()}\\n')\n",
    "        else:\n",
    "            distance_list.append(distance.item())\n",
    "        runtime_list.append(runtime)\n",
    "\n",
    "        if verbose:\n",
    "            print(f'Image {i}\\t\\tAdversarial_distance: {distance:.5f}\\t\\tRuntime: {runtime:5f} seconds')\n",
    "\n",
    "    if get_image:\n",
    "        get_example_image(x_adversarial, predicted_adversarial.item(), attack_type=attack_type)\n",
    "        get_example_image(x.unsqueeze(0).numpy(), y[i], attack_type='original')\n",
    "    \n",
    "    adversarial_accuracy = (correct_prediction / len(xtest)) * 100\n",
    "    print(f'\\nAdversarial accuracy: {adversarial_accuracy}%\\n')\n",
    "\n",
    "    return distance_list, runtime_list, adversarial_accuracy"
   ]
  },
  {
   "cell_type": "markdown",
   "metadata": {},
   "source": [
    "## Parameters"
   ]
  },
  {
   "cell_type": "code",
   "execution_count": null,
   "metadata": {},
   "outputs": [],
   "source": [
    "norm = np.inf  # 1, 2, np.inf\n",
    "max_iterations = 500\n",
    "eps_iter_dict = {\n",
    "    'inf': 0.0003,\n",
    "    '1': 0.2,\n",
    "    '2': 0.005}\n",
    "eps_iter = eps_iter_dict[str(norm)]\n",
    "epsilon = max_iterations * eps_iter"
   ]
  },
  {
   "cell_type": "markdown",
   "metadata": {},
   "source": [
    "## Load the dataset"
   ]
  },
  {
   "cell_type": "code",
   "execution_count": null,
   "metadata": {},
   "outputs": [
    {
     "name": "stdout",
     "output_type": "stream",
     "text": [
      "Downloading https://www.cs.toronto.edu/~kriz/cifar-10-python.tar.gz to ./data/cifar\\cifar-10-python.tar.gz\n"
     ]
    },
    {
     "name": "stderr",
     "output_type": "stream",
     "text": [
      "100%|██████████| 170M/170M [03:26<00:00, 825kB/s]  \n"
     ]
    },
    {
     "name": "stdout",
     "output_type": "stream",
     "text": [
      "Extracting ./data/cifar\\cifar-10-python.tar.gz to ./data/cifar\n"
     ]
    }
   ],
   "source": [
    "splitsize = 20       # full, int: splitsize\n",
    "xtest, ytest = load_dataset(dataset_split=splitsize)"
   ]
  },
  {
   "cell_type": "markdown",
   "metadata": {},
   "source": [
    "## Test Accuracy"
   ]
  },
  {
   "cell_type": "code",
   "execution_count": null,
   "metadata": {},
   "outputs": [
    {
     "name": "stdout",
     "output_type": "stream",
     "text": [
      "\n",
      "Accuracy of the testset is: 90.000%\n",
      "\n"
     ]
    }
   ],
   "source": [
    "test_accuracy(net, xtest, ytest)"
   ]
  },
  {
   "cell_type": "markdown",
   "metadata": {},
   "source": [
    "# Experiments"
   ]
  },
  {
   "cell_type": "code",
   "execution_count": null,
   "metadata": {},
   "outputs": [
    {
     "name": "stdout",
     "output_type": "stream",
     "text": [
      "\t\t-------------------------- Processing Attack: fast_gradient_method --------------------------\n",
      "\n",
      "\tIterations for successful iterative attack: 1\n",
      "Image 0\t\tAdversarial_distance: 0.00210\t\tRuntime: 0.523461 seconds\n",
      "\tIterations for successful iterative attack: 2\n",
      "Image 1\t\tAdversarial_distance: 0.16620\t\tRuntime: 16.282827 seconds\n",
      "\tIterations for successful iterative attack: 2\n",
      "Image 2\t\tAdversarial_distance: 0.15780\t\tRuntime: 14.328118 seconds\n",
      "\tIterations for successful iterative attack: 1\n",
      "Image 3\t\tAdversarial_distance: 0.04740\t\tRuntime: 4.404681 seconds\n",
      "Misclassified input. Not attacking.\n",
      "\n",
      "Misclassified!!! dist: 0.0\n",
      "\n",
      "Image 4\t\tAdversarial_distance: 0.00000\t\tRuntime: 0.024187 seconds\n",
      "\tIterations for successful iterative attack: 2\n",
      "Image 5\t\tAdversarial_distance: 0.15060\t\tRuntime: 14.344605 seconds\n",
      "\tIterations for successful iterative attack: 2\n",
      "Image 6\t\tAdversarial_distance: 0.16440\t\tRuntime: 13.816709 seconds\n",
      "\tIterations for successful iterative attack: 1\n",
      "Image 7\t\tAdversarial_distance: 0.06840\t\tRuntime: 5.857714 seconds\n",
      "\tIterations for successful iterative attack: 1\n",
      "Image 8\t\tAdversarial_distance: 0.00660\t\tRuntime: 0.700023 seconds\n",
      "\tIterations for successful iterative attack: 1\n",
      "Image 9\t\tAdversarial_distance: 0.08820\t\tRuntime: 7.732831 seconds\n"
     ]
    }
   ],
   "source": [
    "attack_types = [\n",
    "                'fast_gradient_method',\n",
    "                'projected_gradient_descent',\n",
    "                'auto_projected_gradient_descent',\n",
    "                'auto_conjugate_gradient',\n",
    "                'newton_fool',\n",
    "                'deep_fool',\n",
    "                'elastic_net',\n",
    "                'frame_saliency',\n",
    "                'auto_attack',\n",
    "                'carlini_wagner_linf',\n",
    "                'carlini_wagner_l2',\n",
    "                'hop_skip_jump'\n",
    "                ]\n",
    "\n",
    "results_dict = {}\n",
    "\n",
    "for attack_type in attack_types:\n",
    "    results_dict[attack_type] = {}\n",
    "    print(f'\\t\\t-------------------------- Processing Attack: {attack_type} --------------------------\\n')\n",
    "    results_dict[attack_type][\"adversarial_distance\"], results_dict[attack_type][\"runtime\"], results_dict[attack_type][\"adversarial_accuracy\"] = distance_calculation(classifier=classifier,\n",
    "                                                        xtest=xtest,\n",
    "                                                        ytest=ytest,\n",
    "                                                        epsilon=epsilon,\n",
    "                                                        eps_iter=eps_iter,\n",
    "                                                        norm=norm,\n",
    "                                                        max_iterations=max_iterations,\n",
    "                                                        attack_type=attack_type)\n",
    "    \n",
    "    mean_value = np.mean([x for x in results_dict[attack_type][\"adversarial_distance\"] if x is not None])\n",
    "\n",
    "    print(f'\\nMean adversarial distance for {attack_type}: {mean_value:.5f} with total runtime: {sum(results_dict[attack_type][\"runtime\"]): .5f} seconds\\n')"
   ]
  },
  {
   "cell_type": "markdown",
   "metadata": {},
   "source": [
    "## Save Results to JSON File"
   ]
  },
  {
   "cell_type": "code",
   "execution_count": null,
   "metadata": {},
   "outputs": [],
   "source": [
    "json_file_path = f'./data/attack_comparison_{modeltype}_L{norm}.json'\n",
    "\n",
    "with open(json_file_path, 'w') as f:\n",
    "    json.dump(results_dict, f, indent=4)\n",
    "print(f'Evaluation results are saved under \"{json_file_path}\".')"
   ]
  },
  {
   "cell_type": "markdown",
   "metadata": {},
   "source": [
    "# Plotting"
   ]
  },
  {
   "cell_type": "markdown",
   "metadata": {},
   "source": [
    "## Distances"
   ]
  },
  {
   "cell_type": "code",
   "execution_count": null,
   "metadata": {},
   "outputs": [],
   "source": [
    "plt.figure(figsize=(16, 6))\n",
    "for attack_type in attack_types:\n",
    "  plt.scatter(list(range(len(xtest))), results_dict[attack_type]['adversarial_distance'], label=attack_type)\n",
    "plt.xlabel('Image ID ----->')\n",
    "plt.ylabel('Distance ----->')\n",
    "plt.title(f'L{norm} Distance')\n",
    "plt.legend()\n",
    "plt.tight_layout()\n",
    "plt.xticks(list(range(len(xtest))))\n",
    "plt.show()"
   ]
  },
  {
   "cell_type": "code",
   "execution_count": null,
   "metadata": {},
   "outputs": [],
   "source": [
    "plt.figure(figsize=(15, 8))\n",
    "for attack_type in attack_types:\n",
    "  plt.plot(list(range(len(xtest))), results_dict[attack_type]['adversarial_distance'], label=attack_type)\n",
    "plt.xlabel('Image ID')\n",
    "plt.ylabel('Distance')\n",
    "plt.title(f'L{norm} Distance')\n",
    "plt.legend()\n",
    "plt.tight_layout()\n",
    "plt.xticks(list(range(len(xtest))))\n",
    "plt.show()"
   ]
  },
  {
   "cell_type": "markdown",
   "metadata": {},
   "source": [
    "# Runtime per image"
   ]
  },
  {
   "cell_type": "code",
   "execution_count": null,
   "metadata": {},
   "outputs": [],
   "source": [
    "plt.figure(figsize=(15, 8))\n",
    "for attack_type in attack_types:\n",
    "  plt.plot(list(range(len(xtest))), results_dict[attack_type]['runtime'], label=attack_type)\n",
    "plt.xlabel('Image ID')\n",
    "plt.ylabel('Runtime [seconds]')\n",
    "plt.title('Step Runtime')\n",
    "plt.legend()\n",
    "plt.tight_layout()\n",
    "plt.show()"
   ]
  },
  {
   "cell_type": "markdown",
   "metadata": {},
   "source": [
    "## Adversarial Accuracy"
   ]
  },
  {
   "cell_type": "code",
   "execution_count": null,
   "metadata": {},
   "outputs": [],
   "source": [
    "plt.figure(figsize=(15, 8))\n",
    "for attack_type in attack_types:\n",
    "  plt.bar(attack_type, results_dict[attack_type]['adversarial_accuracy'], label=attack_type)\n",
    "plt.xlabel('Attacks')\n",
    "plt.ylabel('Adversarial accuracy [%]')\n",
    "plt.xticks(rotation=45)\n",
    "plt.legend()\n",
    "plt.title('Adversarial Accuracy')\n",
    "plt.tight_layout()\n",
    "plt.show()"
   ]
  },
  {
   "cell_type": "markdown",
   "metadata": {},
   "source": [
    "## Total Runtime"
   ]
  },
  {
   "cell_type": "code",
   "execution_count": null,
   "metadata": {},
   "outputs": [],
   "source": [
    "plt.figure(figsize=(15, 8))\n",
    "for attack_type in attack_types:\n",
    "  plt.bar(attack_type, sum(results_dict[attack_type]['runtime']), label=attack_type)\n",
    "plt.xlabel('Attacks')\n",
    "plt.xticks(rotation=45)\n",
    "plt.ylabel('Runtime [seconds]')\n",
    "plt.title('Total Runtime')\n",
    "plt.legend()\n",
    "plt.tight_layout()\n",
    "plt.show()"
   ]
  }
 ],
 "metadata": {
  "kaggle": {
   "accelerator": "gpu",
   "dataSources": [],
   "dockerImageVersionId": 30762,
   "isGpuEnabled": true,
   "isInternetEnabled": true,
   "language": "python",
   "sourceType": "notebook"
  },
  "kernelspec": {
   "display_name": ".venv",
   "language": "python",
   "name": "python3"
  },
  "language_info": {
   "codemirror_mode": {
    "name": "ipython",
    "version": 3
   },
   "file_extension": ".py",
   "mimetype": "text/x-python",
   "name": "python",
   "nbconvert_exporter": "python",
   "pygments_lexer": "ipython3",
   "version": "3.12.2"
  }
 },
 "nbformat": 4,
 "nbformat_minor": 4
}
