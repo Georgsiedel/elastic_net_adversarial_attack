{
 "cells": [
  {
   "cell_type": "markdown",
   "metadata": {},
   "source": [
    "# Installation and Repository cloning"
   ]
  },
  {
   "cell_type": "code",
   "execution_count": 1,
   "metadata": {},
   "outputs": [],
   "source": [
    "#!pip3 install torch torchvision torchaudio --index-url https://download.pytorch.org/whl/cu124\n",
    "#!pip install adversarial-robustness-toolbox -U\n",
    "#!pip install git+https://github.com/RobustBench/robustbench.git\n",
    "#!pip install multiprocess\n",
    "#!pip install matplotlib\n",
    "#!pip install pillow\n",
    "#!pip install foolbox\n",
    "#!pip install numba"
   ]
  },
  {
   "cell_type": "markdown",
   "metadata": {},
   "source": [
    "## Import Libraries"
   ]
  },
  {
   "cell_type": "code",
   "execution_count": 2,
   "metadata": {},
   "outputs": [
    {
     "name": "stderr",
     "output_type": "stream",
     "text": [
      "c:\\Users\\d7000ko\\Desktop\\Python\\elastic_net_adversarial_attack\\.venv\\Lib\\site-packages\\tqdm\\auto.py:21: TqdmWarning: IProgress not found. Please update jupyter and ipywidgets. See https://ipywidgets.readthedocs.io/en/stable/user_install.html\n",
      "  from .autonotebook import tqdm as notebook_tqdm\n",
      "c:\\Users\\d7000ko\\Desktop\\Python\\elastic_net_adversarial_attack\\.venv\\Lib\\site-packages\\timm\\models\\registry.py:4: FutureWarning: Importing from timm.models.registry is deprecated, please import via timm.models\n",
      "  warnings.warn(f\"Importing from {__name__} is deprecated, please import via timm.models\", FutureWarning)\n",
      "c:\\Users\\d7000ko\\Desktop\\Python\\elastic_net_adversarial_attack\\.venv\\Lib\\site-packages\\timm\\models\\layers\\__init__.py:48: FutureWarning: Importing from timm.models.layers is deprecated, please import via timm.layers\n",
      "  warnings.warn(f\"Importing from {__name__} is deprecated, please import via timm.layers\", FutureWarning)\n",
      "c:\\Users\\d7000ko\\Desktop\\Python\\elastic_net_adversarial_attack\\.venv\\Lib\\site-packages\\timm\\models\\helpers.py:7: FutureWarning: Importing from timm.models.helpers is deprecated, please import via timm.models\n",
      "  warnings.warn(f\"Importing from {__name__} is deprecated, please import via timm.models\", FutureWarning)\n"
     ]
    }
   ],
   "source": [
    "import torch\n",
    "import utils\n",
    "import adversarial_attack.attack_utils as attack_utils\n",
    "\n",
    "device = torch.device('cuda' if torch.cuda.is_available() else 'cpu')"
   ]
  },
  {
   "cell_type": "markdown",
   "metadata": {},
   "source": [
    "## Load the dataset"
   ]
  },
  {
   "cell_type": "code",
   "execution_count": 3,
   "metadata": {},
   "outputs": [],
   "source": [
    "dataset = 'imagenet' #'cifar10' #'imagenet'\n",
    "splitsize = 100 # full, int: splitsize\n",
    "xtest, ytest = utils.load_dataset(dataset= dataset, dataset_split=splitsize)"
   ]
  },
  {
   "cell_type": "markdown",
   "metadata": {},
   "source": [
    "## Load and Prepare Adversarial Model"
   ]
  },
  {
   "cell_type": "code",
   "execution_count": 4,
   "metadata": {},
   "outputs": [
    {
     "name": "stderr",
     "output_type": "stream",
     "text": [
      "c:\\Users\\d7000ko\\Desktop\\Python\\elastic_net_adversarial_attack\\.venv\\Lib\\site-packages\\robustbench\\utils.py:165: FutureWarning: You are using `torch.load` with `weights_only=False` (the current default value), which uses the default pickle module implicitly. It is possible to construct malicious pickle data which will execute arbitrary code during unpickling (See https://github.com/pytorch/pytorch/blob/main/SECURITY.md#untrusted-models for more details). In a future release, the default value for `weights_only` will be flipped to `True`. This limits the functions that could be executed during unpickling. Arbitrary objects will no longer be allowed to be loaded via this mode unless they are explicitly allowlisted by the user via `torch.serialization.add_safe_globals`. We recommend you start setting `weights_only=True` for any use case where you don't have full control of the loaded file. Please open an issue on GitHub for any issues related to this experimental feature.\n",
      "  checkpoint = torch.load(model_path, map_location=torch.device('cpu'))\n"
     ]
    }
   ],
   "source": [
    "model = 'Salman2020Do_R18' # MainiAVG, MainiMSD, CroceL1, Wang2023Better_WRN-28-10, Wang2023Better_WRN-28-10, Salman2020Do_R18(Imagenet)\n",
    "net, art_net, fb_net, alias = utils.get_model(dataset= dataset, modelname=model, norm='Linf') # specify the norm in case of robustbench models"
   ]
  },
  {
   "cell_type": "markdown",
   "metadata": {},
   "source": [
    "## Test Accuracy"
   ]
  },
  {
   "cell_type": "code",
   "execution_count": 5,
   "metadata": {},
   "outputs": [
    {
     "name": "stdout",
     "output_type": "stream",
     "text": [
      "\n",
      "Accuracy of the test set is: 49.000%\n",
      "\n",
      "tensor([750, 889,   4, 873, 831, 644, 544, 217,  43, 636, 508, 670, 542, 438,\n",
      "        803, 953, 914, 340, 875, 148, 902, 753, 296, 764, 617, 395, 280, 931,\n",
      "        397, 786, 785, 164, 946, 306, 907, 416, 529, 514, 420, 988, 843, 984,\n",
      "        505,   1, 137, 311, 222, 719, 759, 668, 615, 191, 704,  97, 160, 897,\n",
      "         83, 388, 693, 586, 406, 354,  97, 412,  52, 934, 380, 113, 123, 954,\n",
      "        158, 105, 857, 497, 407, 424, 644, 863, 885, 770, 804, 337, 246, 903,\n",
      "        922, 270, 609, 403, 224, 874, 853, 358, 137, 667, 647,  57, 396, 875,\n",
      "         62, 129])\n"
     ]
    }
   ],
   "source": [
    "utils.test_accuracy(net, xtest, ytest)\n",
    "print(ytest)"
   ]
  },
  {
   "cell_type": "markdown",
   "metadata": {},
   "source": [
    "## Parameters "
   ]
  },
  {
   "cell_type": "code",
   "execution_count": 6,
   "metadata": {},
   "outputs": [],
   "source": [
    "Experiment = attack_utils.Experiment_class(art_net, fb_net, net, xtest, ytest, alias,\n",
    "                        epsilon_l1 = 12, \n",
    "                        epsilon_l2= 0.5, \n",
    "                        eps_iter = 0.1,  \n",
    "                        norm = 1,  # 1, 2, np.inf\n",
    "                        max_iterations =100, \n",
    "                        verbose=False)"
   ]
  },
  {
   "cell_type": "markdown",
   "metadata": {},
   "source": [
    "# Hyperparameter Sweep Experiment"
   ]
  },
  {
   "cell_type": "code",
   "execution_count": 7,
   "metadata": {},
   "outputs": [
    {
     "name": "stdout",
     "output_type": "stream",
     "text": [
      "\t\t-------------- Hyperparameter Sweep for Attack: exp_attack_l1: learning_rate = 1 ----------------\n",
      "\n"
     ]
    },
    {
     "ename": "KeyboardInterrupt",
     "evalue": "",
     "output_type": "error",
     "traceback": [
      "\u001b[1;31m---------------------------------------------------------------------------\u001b[0m",
      "\u001b[1;31mKeyboardInterrupt\u001b[0m                         Traceback (most recent call last)",
      "Cell \u001b[1;32mIn[7], line 6\u001b[0m\n\u001b[0;32m      3\u001b[0m hyperparameter_range\u001b[38;5;241m=\u001b[39m[\u001b[38;5;241m1\u001b[39m]\n\u001b[0;32m      4\u001b[0m hyperparameter \u001b[38;5;241m=\u001b[39m \u001b[38;5;124m'\u001b[39m\u001b[38;5;124mlearning_rate\u001b[39m\u001b[38;5;124m'\u001b[39m \u001b[38;5;66;03m#'beta'\u001b[39;00m\n\u001b[1;32m----> 6\u001b[0m results_dict_hyperparameter_sweep \u001b[38;5;241m=\u001b[39m \u001b[43mExperiment\u001b[49m\u001b[38;5;241;43m.\u001b[39;49m\u001b[43mhyperparameter_sweep\u001b[49m\u001b[43m(\u001b[49m\u001b[43mhyperparameter\u001b[49m\u001b[38;5;241;43m=\u001b[39;49m\u001b[43mhyperparameter\u001b[49m\u001b[43m,\u001b[49m\u001b[43m \u001b[49m\u001b[38;5;28;43mrange\u001b[39;49m\u001b[38;5;241;43m=\u001b[39;49m\u001b[43mhyperparameter_range\u001b[49m\u001b[43m,\u001b[49m\u001b[43m \u001b[49m\u001b[43mattack_type\u001b[49m\u001b[38;5;241;43m=\u001b[39;49m\u001b[43mattack_type\u001b[49m\u001b[43m)\u001b[49m\n",
      "File \u001b[1;32mc:\\Users\\d7000ko\\Desktop\\Python\\elastic_net_adversarial_attack\\adversarial_attack\\attack_utils.py:55\u001b[0m, in \u001b[0;36mExperiment_class.hyperparameter_sweep\u001b[1;34m(self, hyperparameter, range, attack_type)\u001b[0m\n\u001b[0;32m     53\u001b[0m results_dict[hyperparameter\u001b[38;5;241m+\u001b[39m\u001b[38;5;28mstr\u001b[39m(value)] \u001b[38;5;241m=\u001b[39m {}\n\u001b[0;32m     54\u001b[0m \u001b[38;5;28mprint\u001b[39m(\u001b[38;5;124mf\u001b[39m\u001b[38;5;124m'\u001b[39m\u001b[38;5;130;01m\\t\u001b[39;00m\u001b[38;5;130;01m\\t\u001b[39;00m\u001b[38;5;124m-------------- Hyperparameter Sweep for Attack: \u001b[39m\u001b[38;5;132;01m{\u001b[39;00mattack_type\u001b[38;5;132;01m}\u001b[39;00m\u001b[38;5;124m: \u001b[39m\u001b[38;5;132;01m{\u001b[39;00mhyperparameter\u001b[38;5;132;01m}\u001b[39;00m\u001b[38;5;124m = \u001b[39m\u001b[38;5;132;01m{\u001b[39;00mvalue\u001b[38;5;132;01m}\u001b[39;00m\u001b[38;5;124m ----------------\u001b[39m\u001b[38;5;130;01m\\n\u001b[39;00m\u001b[38;5;124m'\u001b[39m)\n\u001b[1;32m---> 55\u001b[0m _, _, _, results_dict[hyperparameter\u001b[38;5;241m+\u001b[39m\u001b[38;5;28mstr\u001b[39m(value)][\u001b[38;5;124m\"\u001b[39m\u001b[38;5;124madversarial_accuracy_l1\u001b[39m\u001b[38;5;124m\"\u001b[39m], results_dict[hyperparameter\u001b[38;5;241m+\u001b[39m\u001b[38;5;28mstr\u001b[39m(value)][\u001b[38;5;124m\"\u001b[39m\u001b[38;5;124madversarial_accuracy_l2\u001b[39m\u001b[38;5;124m\"\u001b[39m], _, results_dict[hyperparameter\u001b[38;5;241m+\u001b[39m\u001b[38;5;28mstr\u001b[39m(value)][\u001b[38;5;124m\"\u001b[39m\u001b[38;5;124mattack_success_rate_in_epsilon_l1\u001b[39m\u001b[38;5;124m\"\u001b[39m], results_dict[hyperparameter\u001b[38;5;241m+\u001b[39m\u001b[38;5;28mstr\u001b[39m(value)][\u001b[38;5;124m\"\u001b[39m\u001b[38;5;124mattack_success_rate_in_epsilon_l2\u001b[39m\u001b[38;5;124m\"\u001b[39m], results_dict[hyperparameter\u001b[38;5;241m+\u001b[39m\u001b[38;5;28mstr\u001b[39m(value)][\u001b[38;5;124m\"\u001b[39m\u001b[38;5;124mmean_adv_distance_l1\u001b[39m\u001b[38;5;124m\"\u001b[39m], results_dict[hyperparameter\u001b[38;5;241m+\u001b[39m\u001b[38;5;28mstr\u001b[39m(value)][\u001b[38;5;124m\"\u001b[39m\u001b[38;5;124mmean_adv_distance_l2\u001b[39m\u001b[38;5;124m\"\u001b[39m] \u001b[38;5;241m=\u001b[39m \u001b[43mcalculation\u001b[49m\u001b[43m(\u001b[49m\n\u001b[0;32m     56\u001b[0m \u001b[43m                                                    \u001b[49m\u001b[43mart_net\u001b[49m\u001b[38;5;241;43m=\u001b[39;49m\u001b[38;5;28;43mself\u001b[39;49m\u001b[38;5;241;43m.\u001b[39;49m\u001b[43mart_net\u001b[49m\u001b[43m,\u001b[49m\n\u001b[0;32m     57\u001b[0m \u001b[43m                                                    \u001b[49m\u001b[43mfb_net\u001b[49m\u001b[38;5;241;43m=\u001b[39;49m\u001b[38;5;28;43mself\u001b[39;49m\u001b[38;5;241;43m.\u001b[39;49m\u001b[43mfb_net\u001b[49m\u001b[43m,\u001b[49m\n\u001b[0;32m     58\u001b[0m \u001b[43m                                                    \u001b[49m\u001b[43mnet\u001b[49m\u001b[43m \u001b[49m\u001b[38;5;241;43m=\u001b[39;49m\u001b[43m \u001b[49m\u001b[38;5;28;43mself\u001b[39;49m\u001b[38;5;241;43m.\u001b[39;49m\u001b[43mnet\u001b[49m\u001b[43m,\u001b[49m\n\u001b[0;32m     59\u001b[0m \u001b[43m                                                    \u001b[49m\u001b[43mxtest\u001b[49m\u001b[38;5;241;43m=\u001b[39;49m\u001b[38;5;28;43mself\u001b[39;49m\u001b[38;5;241;43m.\u001b[39;49m\u001b[43mxtest\u001b[49m\u001b[43m,\u001b[49m\n\u001b[0;32m     60\u001b[0m \u001b[43m                                                    \u001b[49m\u001b[43mytest\u001b[49m\u001b[38;5;241;43m=\u001b[39;49m\u001b[38;5;28;43mself\u001b[39;49m\u001b[38;5;241;43m.\u001b[39;49m\u001b[43mytest\u001b[49m\u001b[43m,\u001b[49m\n\u001b[0;32m     61\u001b[0m \u001b[43m                                                    \u001b[49m\u001b[43mepsilon_l1\u001b[49m\u001b[38;5;241;43m=\u001b[39;49m\u001b[38;5;28;43mself\u001b[39;49m\u001b[38;5;241;43m.\u001b[39;49m\u001b[43mepsilon_l1\u001b[49m\u001b[43m,\u001b[49m\n\u001b[0;32m     62\u001b[0m \u001b[43m                                                    \u001b[49m\u001b[43mepsilon_l2\u001b[49m\u001b[38;5;241;43m=\u001b[39;49m\u001b[38;5;28;43mself\u001b[39;49m\u001b[38;5;241;43m.\u001b[39;49m\u001b[43mepsilon_l2\u001b[49m\u001b[43m,\u001b[49m\n\u001b[0;32m     63\u001b[0m \u001b[43m                                                    \u001b[49m\u001b[43meps_iter\u001b[49m\u001b[38;5;241;43m=\u001b[39;49m\u001b[38;5;28;43mself\u001b[39;49m\u001b[38;5;241;43m.\u001b[39;49m\u001b[43meps_iter\u001b[49m\u001b[43m,\u001b[49m\n\u001b[0;32m     64\u001b[0m \u001b[43m                                                    \u001b[49m\u001b[43mnorm\u001b[49m\u001b[38;5;241;43m=\u001b[39;49m\u001b[38;5;28;43mself\u001b[39;49m\u001b[38;5;241;43m.\u001b[39;49m\u001b[43mnorm\u001b[49m\u001b[43m,\u001b[49m\n\u001b[0;32m     65\u001b[0m \u001b[43m                                                    \u001b[49m\u001b[43mmax_iterations\u001b[49m\u001b[38;5;241;43m=\u001b[39;49m\u001b[38;5;28;43mself\u001b[39;49m\u001b[38;5;241;43m.\u001b[39;49m\u001b[43mmax_iterations\u001b[49m\u001b[43m,\u001b[49m\n\u001b[0;32m     66\u001b[0m \u001b[43m                                                    \u001b[49m\u001b[43mattack_type\u001b[49m\u001b[38;5;241;43m=\u001b[39;49m\u001b[43mattack_type\u001b[49m\u001b[43m,\u001b[49m\n\u001b[0;32m     67\u001b[0m \u001b[43m                                                    \u001b[49m\u001b[43mverbose\u001b[49m\u001b[38;5;241;43m=\u001b[39;49m\u001b[38;5;28;43mself\u001b[39;49m\u001b[38;5;241;43m.\u001b[39;49m\u001b[43mverbose\u001b[49m\u001b[43m,\u001b[49m\n\u001b[0;32m     68\u001b[0m \u001b[43m                                                    \u001b[49m\u001b[38;5;241;43m*\u001b[39;49m\u001b[38;5;241;43m*\u001b[39;49m\u001b[43mkwargs\u001b[49m\u001b[43m)\u001b[49m\n\u001b[0;32m     70\u001b[0m \u001b[38;5;28mprint\u001b[39m(hyperparameter\u001b[38;5;241m+\u001b[39m\u001b[38;5;28mstr\u001b[39m(value), \u001b[38;5;124m'\u001b[39m\u001b[38;5;124mattack success rate in epsilon (L1 / L2): \u001b[39m\u001b[38;5;124m'\u001b[39m,\n\u001b[0;32m     71\u001b[0m     \u001b[38;5;28mround\u001b[39m(results_dict[hyperparameter\u001b[38;5;241m+\u001b[39m\u001b[38;5;28mstr\u001b[39m(value)][\u001b[38;5;124m\"\u001b[39m\u001b[38;5;124mattack_success_rate_in_epsilon_l1\u001b[39m\u001b[38;5;124m\"\u001b[39m], \u001b[38;5;241m4\u001b[39m),\n\u001b[0;32m     72\u001b[0m     \u001b[38;5;124m'\u001b[39m\u001b[38;5;124m / \u001b[39m\u001b[38;5;124m'\u001b[39m,\n\u001b[0;32m     73\u001b[0m     \u001b[38;5;28mround\u001b[39m(results_dict[hyperparameter\u001b[38;5;241m+\u001b[39m\u001b[38;5;28mstr\u001b[39m(value)][\u001b[38;5;124m\"\u001b[39m\u001b[38;5;124mattack_success_rate_in_epsilon_l2\u001b[39m\u001b[38;5;124m\"\u001b[39m], \u001b[38;5;241m4\u001b[39m))           \n\u001b[0;32m     74\u001b[0m \u001b[38;5;28mprint\u001b[39m(\u001b[38;5;124m'\u001b[39m\u001b[38;5;124mmean adv. distance (L1 / L2): \u001b[39m\u001b[38;5;124m'\u001b[39m, \n\u001b[0;32m     75\u001b[0m        \u001b[38;5;28mround\u001b[39m(results_dict[hyperparameter\u001b[38;5;241m+\u001b[39m\u001b[38;5;28mstr\u001b[39m(value)][\u001b[38;5;124m\"\u001b[39m\u001b[38;5;124mmean_adv_distance_l1\u001b[39m\u001b[38;5;124m\"\u001b[39m], \u001b[38;5;241m4\u001b[39m), \n\u001b[0;32m     76\u001b[0m        \u001b[38;5;124m'\u001b[39m\u001b[38;5;124m / \u001b[39m\u001b[38;5;124m'\u001b[39m, \n\u001b[0;32m     77\u001b[0m        \u001b[38;5;28mround\u001b[39m(results_dict[hyperparameter\u001b[38;5;241m+\u001b[39m\u001b[38;5;28mstr\u001b[39m(value)][\u001b[38;5;124m\"\u001b[39m\u001b[38;5;124mmean_adv_distance_l2\u001b[39m\u001b[38;5;124m\"\u001b[39m], \u001b[38;5;241m4\u001b[39m))\n",
      "File \u001b[1;32mc:\\Users\\d7000ko\\Desktop\\Python\\elastic_net_adversarial_attack\\adversarial_attack\\attack_utils.py:211\u001b[0m, in \u001b[0;36mcalculation\u001b[1;34m(art_net, fb_net, net, xtest, ytest, epsilon_l1, epsilon_l2, eps_iter, norm, max_iterations, attack_type, learning_rate, beta, verbose)\u001b[0m\n\u001b[0;32m    209\u001b[0m     x_adversarial \u001b[38;5;241m=\u001b[39m x_adversarial\u001b[38;5;241m.\u001b[39mcpu()\n\u001b[0;32m    210\u001b[0m \u001b[38;5;28;01melse\u001b[39;00m:             \n\u001b[1;32m--> 211\u001b[0m     x_adversarial \u001b[38;5;241m=\u001b[39m \u001b[43mattacker\u001b[49m\u001b[38;5;241;43m.\u001b[39;49m\u001b[43mgenerate\u001b[49m\u001b[43m(\u001b[49m\u001b[43mx\u001b[49m\u001b[38;5;241;43m.\u001b[39;49m\u001b[43mcpu\u001b[49m\u001b[43m(\u001b[49m\u001b[43m)\u001b[49m\u001b[38;5;241;43m.\u001b[39;49m\u001b[43mnumpy\u001b[49m\u001b[43m(\u001b[49m\u001b[43m)\u001b[49m\u001b[43m,\u001b[49m\u001b[43m \u001b[49m\u001b[43my\u001b[49m\u001b[38;5;241;43m.\u001b[39;49m\u001b[43mcpu\u001b[49m\u001b[43m(\u001b[49m\u001b[43m)\u001b[49m\u001b[38;5;241;43m.\u001b[39;49m\u001b[43mnumpy\u001b[49m\u001b[43m(\u001b[49m\u001b[43m)\u001b[49m\u001b[43m)\u001b[49m\n\u001b[0;32m    212\u001b[0m     x_adversarial \u001b[38;5;241m=\u001b[39m torch\u001b[38;5;241m.\u001b[39mfrom_numpy(x_adversarial)\n\u001b[0;32m    214\u001b[0m end_time \u001b[38;5;241m=\u001b[39m time\u001b[38;5;241m.\u001b[39mtime()\n",
      "File \u001b[1;32mc:\\Users\\d7000ko\\Desktop\\Python\\elastic_net_adversarial_attack\\adversarial_attack\\exp_attack_l1.py:284\u001b[0m, in \u001b[0;36mExpAttackL1.generate\u001b[1;34m(self, x, y, **kwargs)\u001b[0m\n\u001b[0;32m    282\u001b[0m     x_batch \u001b[38;5;241m=\u001b[39m x_adv[batch_index_1:batch_index_2]\n\u001b[0;32m    283\u001b[0m     y_batch \u001b[38;5;241m=\u001b[39m y[batch_index_1:batch_index_2]\n\u001b[1;32m--> 284\u001b[0m     x_adv[batch_index_1:batch_index_2] \u001b[38;5;241m=\u001b[39m \u001b[38;5;28;43mself\u001b[39;49m\u001b[38;5;241;43m.\u001b[39;49m\u001b[43m_generate_batch\u001b[49m\u001b[43m(\u001b[49m\u001b[43mx_batch\u001b[49m\u001b[43m,\u001b[49m\u001b[43m \u001b[49m\u001b[43my_batch\u001b[49m\u001b[43m)\u001b[49m\n\u001b[0;32m    286\u001b[0m \u001b[38;5;66;03m# Apply clip\u001b[39;00m\n\u001b[0;32m    287\u001b[0m \u001b[38;5;28;01mif\u001b[39;00m \u001b[38;5;28mself\u001b[39m\u001b[38;5;241m.\u001b[39mestimator\u001b[38;5;241m.\u001b[39mclip_values \u001b[38;5;129;01mis\u001b[39;00m \u001b[38;5;129;01mnot\u001b[39;00m \u001b[38;5;28;01mNone\u001b[39;00m:\n",
      "File \u001b[1;32mc:\\Users\\d7000ko\\Desktop\\Python\\elastic_net_adversarial_attack\\adversarial_attack\\exp_attack_l1.py:308\u001b[0m, in \u001b[0;36mExpAttackL1._generate_batch\u001b[1;34m(self, x_batch, y_batch)\u001b[0m\n\u001b[0;32m    300\u001b[0m \u001b[38;5;250m\u001b[39m\u001b[38;5;124;03m\"\"\"\u001b[39;00m\n\u001b[0;32m    301\u001b[0m \u001b[38;5;124;03mRun the attack on a batch of images and labels.\u001b[39;00m\n\u001b[0;32m    302\u001b[0m \n\u001b[1;32m   (...)\u001b[0m\n\u001b[0;32m    305\u001b[0m \u001b[38;5;124;03m:return: A batch of adversarial examples.\u001b[39;00m\n\u001b[0;32m    306\u001b[0m \u001b[38;5;124;03m\"\"\"\u001b[39;00m\n\u001b[0;32m    307\u001b[0m \u001b[38;5;66;03m# Run with 1 specific binary search step\u001b[39;00m\n\u001b[1;32m--> 308\u001b[0m best_attack \u001b[38;5;241m=\u001b[39m \u001b[38;5;28;43mself\u001b[39;49m\u001b[38;5;241;43m.\u001b[39;49m\u001b[43m_generate_bss\u001b[49m\u001b[43m(\u001b[49m\u001b[43mx_batch\u001b[49m\u001b[43m,\u001b[49m\u001b[43m \u001b[49m\u001b[43my_batch\u001b[49m\u001b[43m)\u001b[49m\n\u001b[0;32m    310\u001b[0m \u001b[38;5;28;01mreturn\u001b[39;00m best_attack\n",
      "File \u001b[1;32mc:\\Users\\d7000ko\\Desktop\\Python\\elastic_net_adversarial_attack\\adversarial_attack\\exp_attack_l1.py:357\u001b[0m, in \u001b[0;36mExpAttackL1._generate_bss\u001b[1;34m(self, x_batch, y_batch)\u001b[0m\n\u001b[0;32m    355\u001b[0m tol\u001b[38;5;241m=\u001b[39mnp\u001b[38;5;241m.\u001b[39mquantile(grad_val,quantile)\n\u001b[0;32m    356\u001b[0m grad[grad_val\u001b[38;5;241m<\u001b[39mtol]\u001b[38;5;241m=\u001b[39m\u001b[38;5;241m0\u001b[39m\n\u001b[1;32m--> 357\u001b[0m delta \u001b[38;5;241m=\u001b[39m \u001b[38;5;28;43mself\u001b[39;49m\u001b[38;5;241;43m.\u001b[39;49m\u001b[43m_md\u001b[49m\u001b[43m(\u001b[49m\u001b[43mgrad\u001b[49m\u001b[43m,\u001b[49m\u001b[43mdelta\u001b[49m\u001b[43m,\u001b[49m\u001b[43mlower\u001b[49m\u001b[43m,\u001b[49m\u001b[43mupper\u001b[49m\u001b[43m)\u001b[49m\n\u001b[0;32m    359\u001b[0m x_adv\u001b[38;5;241m=\u001b[39mx_0\u001b[38;5;241m+\u001b[39mdelta\n\u001b[0;32m    360\u001b[0m \u001b[38;5;66;03m# Adjust the best result\u001b[39;00m\n",
      "File \u001b[1;32mc:\\Users\\d7000ko\\Desktop\\Python\\elastic_net_adversarial_attack\\adversarial_attack\\exp_attack_l1.py:387\u001b[0m, in \u001b[0;36mExpAttackL1._md\u001b[1;34m(self, g, x, lower, upper)\u001b[0m\n\u001b[0;32m    385\u001b[0m y_sgn\u001b[38;5;241m=\u001b[39mnp\u001b[38;5;241m.\u001b[39msign(z)\n\u001b[0;32m    386\u001b[0m y_val\u001b[38;5;241m=\u001b[39mbeta\u001b[38;5;241m*\u001b[39mnp\u001b[38;5;241m.\u001b[39mexp(np\u001b[38;5;241m.\u001b[39mabs(z))\u001b[38;5;241m-\u001b[39mbeta\n\u001b[1;32m--> 387\u001b[0m v\u001b[38;5;241m=\u001b[39m\u001b[38;5;28;43mself\u001b[39;49m\u001b[38;5;241;43m.\u001b[39;49m\u001b[43m_project\u001b[49m\u001b[43m(\u001b[49m\u001b[43my_sgn\u001b[49m\u001b[43m,\u001b[49m\u001b[43my_val\u001b[49m\u001b[43m,\u001b[49m\u001b[43mbeta\u001b[49m\u001b[43m,\u001b[49m\u001b[38;5;28;43mself\u001b[39;49m\u001b[38;5;241;43m.\u001b[39;49m\u001b[43mepsilon\u001b[49m\u001b[43m,\u001b[49m\u001b[43mlower\u001b[49m\u001b[43m,\u001b[49m\u001b[43mupper\u001b[49m\u001b[43m)\u001b[49m\n\u001b[0;32m    388\u001b[0m \u001b[38;5;28mself\u001b[39m\u001b[38;5;241m.\u001b[39meta\u001b[38;5;241m+\u001b[39m\u001b[38;5;241m=\u001b[39m(eta_t\u001b[38;5;241m/\u001b[39m\u001b[38;5;28mself\u001b[39m\u001b[38;5;241m.\u001b[39mepsilon\u001b[38;5;241m*\u001b[39mnp\u001b[38;5;241m.\u001b[39mlinalg\u001b[38;5;241m.\u001b[39mnorm((x\u001b[38;5;241m-\u001b[39mv)\u001b[38;5;241m.\u001b[39mflatten(), \u001b[38;5;28mord\u001b[39m\u001b[38;5;241m=\u001b[39m\u001b[38;5;241m1\u001b[39m))\u001b[38;5;241m*\u001b[39m\u001b[38;5;241m*\u001b[39m\u001b[38;5;241m2\u001b[39m\n\u001b[0;32m    389\u001b[0m \u001b[38;5;66;03m#self.eta+=(eta_t*np.linalg.norm((x-v).flatten(), ord=1))**2\u001b[39;00m\n",
      "File \u001b[1;32mc:\\Users\\d7000ko\\Desktop\\Python\\elastic_net_adversarial_attack\\adversarial_attack\\exp_attack_l1.py:396\u001b[0m, in \u001b[0;36mExpAttackL1._project\u001b[1;34m(self, y_sgn, y_val, beta, D, l, u)\u001b[0m\n\u001b[0;32m    391\u001b[0m     \u001b[38;5;66;03m#v=(1.0-eta_t/eta_t_1)*x+eta_t/eta_t_1*v\u001b[39;00m\n\u001b[0;32m    392\u001b[0m     \u001b[38;5;28;01mreturn\u001b[39;00m v\n\u001b[1;32m--> 396\u001b[0m \u001b[38;5;28;01mdef\u001b[39;00m \u001b[38;5;21m_project\u001b[39m(\u001b[38;5;28mself\u001b[39m, y_sgn,y_val, beta, D,l,u):\n\u001b[0;32m    397\u001b[0m     \u001b[38;5;28;01mif\u001b[39;00m np\u001b[38;5;241m.\u001b[39msum(y_val)\u001b[38;5;241m<\u001b[39m\u001b[38;5;241m=\u001b[39mD:\n\u001b[0;32m    398\u001b[0m         \u001b[38;5;28;01mreturn\u001b[39;00m np\u001b[38;5;241m.\u001b[39mclip(y_sgn\u001b[38;5;241m*\u001b[39my_val, l, u)\n",
      "\u001b[1;31mKeyboardInterrupt\u001b[0m: "
     ]
    }
   ],
   "source": [
    "#hyperparameter sweep. Pick only one model.\n",
    "attack_type = 'exp_attack_l1'\n",
    "hyperparameter_range=[1]\n",
    "hyperparameter = 'learning_rate' #'beta'\n",
    "\n",
    "results_dict_hyperparameter_sweep = Experiment.hyperparameter_sweep(hyperparameter=hyperparameter, range=hyperparameter_range, attack_type=attack_type)"
   ]
  },
  {
   "cell_type": "code",
   "execution_count": null,
   "metadata": {},
   "outputs": [],
   "source": [
    "#Attack comparison\n",
    "attack_types = [#'fast_gradient_method',\n",
    "                #'projected_gradient_descent',\n",
    "                #'pgd_early_stopping',\n",
    "                #'deep_fool',\n",
    "                #'brendel_bethge',\n",
    "                #'carlini_wagner_l2',\n",
    "                #'elastic_net',\n",
    "                #'exp_attack',\n",
    "                #'exp_attack_smooth',\n",
    "                #'exp_attack_l1_l2',\n",
    "                #'auto_projected_gradient_descent',\n",
    "                #'elastic_net_L1_rule',\n",
    "                #'elastic_net_L1_rule_higher_beta',\n",
    "                #'ART_AutoAttack',\n",
    "                #'original_AutoAttack',\n",
    "                'original_AutoAttack_apgd-only',\n",
    "                'exp_attack_l1'\n",
    "                ]\n",
    "\n",
    "results_dict_attack_comparison = Experiment.attack_comparison(attack_types)"
   ]
  }
 ],
 "metadata": {
  "kaggle": {
   "accelerator": "gpu",
   "dataSources": [],
   "dockerImageVersionId": 30762,
   "isGpuEnabled": true,
   "isInternetEnabled": true,
   "language": "python",
   "sourceType": "notebook"
  },
  "kernelspec": {
   "display_name": ".venv",
   "language": "python",
   "name": "python3"
  },
  "language_info": {
   "codemirror_mode": {
    "name": "ipython",
    "version": 3
   },
   "file_extension": ".py",
   "mimetype": "text/x-python",
   "name": "python",
   "nbconvert_exporter": "python",
   "pygments_lexer": "ipython3",
   "version": "3.11.7"
  }
 },
 "nbformat": 4,
 "nbformat_minor": 4
}
