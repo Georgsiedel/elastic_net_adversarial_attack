{
 "cells": [
  {
   "cell_type": "markdown",
   "metadata": {},
   "source": [
    "# Installation and Repository cloning"
   ]
  },
  {
   "cell_type": "code",
   "execution_count": 24,
   "metadata": {},
   "outputs": [],
   "source": [
    "#!pip install adversarial-robustness-toolbox -U\n",
    "#!pip install torch torchvision torchaudio --index-url https://download.pytorch.org/whl/cpu\n",
    "#!pip install git+https://github.com/RobustBench/robustbench.git\n",
    "#!pip install matplotlib\n",
    "#!pip install pillow\n",
    "#!pip install foolbox"
   ]
  },
  {
   "cell_type": "markdown",
   "metadata": {},
   "source": [
    "## Import Libraries"
   ]
  },
  {
   "cell_type": "code",
   "execution_count": 25,
   "metadata": {},
   "outputs": [],
   "source": [
    "import torch\n",
    "import torch.nn as nn\n",
    "import torch.optim as optim\n",
    "from torchvision import datasets, transforms\n",
    "\n",
    "import time\n",
    "import matplotlib.pyplot as plt\n",
    "import numpy as np\n",
    "\n",
    "from art.estimators.classification import PyTorchClassifier\n",
    "import json\n",
    "import foolbox as fb"
   ]
  },
  {
   "cell_type": "code",
   "execution_count": 26,
   "metadata": {},
   "outputs": [],
   "source": [
    "device = torch.device('cuda' if torch.cuda.is_available() else 'cpu')"
   ]
  },
  {
   "cell_type": "markdown",
   "metadata": {},
   "source": [
    "## Load and Prepare CIFAR-10 Dataset"
   ]
  },
  {
   "cell_type": "code",
   "execution_count": 27,
   "metadata": {},
   "outputs": [],
   "source": [
    "def load_dataset(dataset_split):\n",
    "    # Load CIFAR-10 dataset using torchvision\n",
    "    transform = transforms.Compose([\n",
    "      transforms.ToTensor(),\n",
    "                                 ])\n",
    "    testset = datasets.CIFAR10(root='./data/cifar', train=False, download=True, transform=transform)\n",
    "\n",
    "    # Truncated testset for experiments and ablations\n",
    "    if isinstance(dataset_split, int):\n",
    "        testset, _ = torch.utils.data.random_split(testset,\n",
    "                                                          [dataset_split, len(testset) - dataset_split],\n",
    "                                                          generator=torch.Generator().manual_seed(42))\n",
    "    \n",
    "    # Extract data and labels from torchvision dataset\n",
    "    xtest = torch.stack([data[0] for data in testset])\n",
    "    ytest = torch.tensor([data[1] for data in testset])\n",
    "\n",
    "    return xtest, ytest"
   ]
  },
  {
   "cell_type": "markdown",
   "metadata": {},
   "source": [
    "## Load and Prepare Adversarial Model"
   ]
  },
  {
   "cell_type": "code",
   "execution_count": 28,
   "metadata": {},
   "outputs": [
    {
     "name": "stderr",
     "output_type": "stream",
     "text": [
      "/home/shao/anaconda3/envs/art/lib/python3.12/site-packages/robustbench/utils.py:165: FutureWarning: You are using `torch.load` with `weights_only=False` (the current default value), which uses the default pickle module implicitly. It is possible to construct malicious pickle data which will execute arbitrary code during unpickling (See https://github.com/pytorch/pytorch/blob/main/SECURITY.md#untrusted-models for more details). In a future release, the default value for `weights_only` will be flipped to `True`. This limits the functions that could be executed during unpickling. Arbitrary objects will no longer be allowed to be loaded via this mode unless they are explicitly allowlisted by the user via `torch.serialization.add_safe_globals`. We recommend you start setting `weights_only=True` for any use case where you don't have full control of the loaded file. Please open an issue on GitHub for any issues related to this experimental feature.\n",
      "  checkpoint = torch.load(model_path, map_location=torch.device('cpu'))\n"
     ]
    }
   ],
   "source": [
    "from robustbench.utils import load_model\n",
    "\n",
    "model_name = 'Sehwag2021Proxy_R18'\n",
    "net = load_model(model_name=model_name, dataset='cifar10', threat_model='L2')\n",
    "net = torch.nn.DataParallel(net)\n",
    "\n",
    "net.eval()\n",
    "net.to(device)\n",
    "# Define loss function and optimizer\n",
    "criterion = nn.CrossEntropyLoss()\n",
    "optimizer = optim.Adam(net.parameters(), lr=0.01)\n",
    "\n",
    "# Initialize PyTorchClassifier for ART toolbox as a wrapper\n",
    "art_net = PyTorchClassifier(model=net,\n",
    "                               loss=criterion,\n",
    "                               optimizer=optimizer,\n",
    "                               input_shape=(3, 32, 32),\n",
    "                               nb_classes=10,\n",
    "                               device_type=device,\n",
    "                               clip_values=(0.0, 1.0))\n",
    "fb_net = fb.PyTorchModel(net, bounds=(0.0, 1.0), device=device)"
   ]
  },
  {
   "cell_type": "markdown",
   "metadata": {},
   "source": [
    "## Function to Test Model Accuracy"
   ]
  },
  {
   "cell_type": "code",
   "execution_count": 29,
   "metadata": {},
   "outputs": [],
   "source": [
    "def test_accuracy(model, xtest, ytest):\n",
    "    model.eval()\n",
    "    correct, total = 0, 0\n",
    "\n",
    "    with torch.no_grad():\n",
    "        for i in range(len(xtest)):\n",
    "            x = xtest[i].unsqueeze(0).to(device)\n",
    "            y = ytest[i].unsqueeze(0).to(device)\n",
    "\n",
    "            outputs = model(x)\n",
    "            _, predicted = torch.max(outputs, 1)\n",
    "\n",
    "            total += y.size(0)\n",
    "            correct += (predicted==y).sum().item()\n",
    "\n",
    "    accuracy = (correct / total) * 100\n",
    "    print(f'\\nAccuracy of the testset is: {accuracy:.3f}%\\n')"
   ]
  },
  {
   "cell_type": "markdown",
   "metadata": {},
   "source": [
    "## Adversarial Attacks"
   ]
  },
  {
   "cell_type": "code",
   "execution_count": 30,
   "metadata": {},
   "outputs": [],
   "source": [
    "from art.attacks.evasion import (FastGradientMethod,\n",
    "                                 ProjectedGradientDescentPyTorch,\n",
    "                                 AutoProjectedGradientDescent,\n",
    "                                 AutoAttack,\n",
    "                                 CarliniL2Method,\n",
    "                                 DeepFool,\n",
    "                                 ElasticNet)\n",
    "from adversarial_attack.exp_attack import ExpAttack\n",
    "from adversarial_attack.acc_exp_attack import AccExpAttack\n",
    "from autoattack import AutoAttack as original_AutoAttack"
   ]
  },
  {
   "cell_type": "code",
   "execution_count": 31,
   "metadata": {},
   "outputs": [],
   "source": [
    "class AdversarialAttacks:\n",
    "  def __init__(self, art_net, net, epsilon, eps_iter, norm, max_iterations_fast_attacks, max_iterations_slow_attacks):\n",
    "    self.art_net = art_net\n",
    "    self.epsilon = epsilon\n",
    "    self.eps_iter = eps_iter\n",
    "    self.norm = norm\n",
    "    self.max_iterations_fast_attacks = max_iterations_fast_attacks\n",
    "    self.max_iterations_slow_attacks = max_iterations_slow_attacks\n",
    "    self.net = net\n",
    "  def init_attacker(self, attack_type, **kwargs):\n",
    "    if attack_type=='fast_gradient_method':\n",
    "        return FastGradientMethod(self.art_net,\n",
    "                                eps=self.epsilon,\n",
    "                                eps_step=self.epsilon,\n",
    "                                norm=self.norm,\n",
    "                                **kwargs)\n",
    "    elif attack_type=='projected_gradient_descent':\n",
    "        return ProjectedGradientDescentPyTorch(self.art_net,\n",
    "                                             eps=self.epsilon,\n",
    "                                             eps_step=self.eps_iter,\n",
    "                                             max_iter=self.max_iterations_fast_attacks,\n",
    "                                             norm=self.norm,\n",
    "                                             **kwargs)\n",
    "    elif attack_type=='pgd_early_stopping':\n",
    "        return ProjectedGradientDescentPyTorch(self.art_net,\n",
    "                                             eps=self.epsilon,\n",
    "                                             eps_step=self.eps_iter,\n",
    "                                             max_iter=1,\n",
    "                                             norm=self.norm,\n",
    "                                             **kwargs)\n",
    "    elif attack_type=='ART_AutoAttack':\n",
    "        return AutoAttack(estimator=self.art_net,\n",
    "                        eps=self.epsilon,\n",
    "                        eps_step=self.eps_iter,\n",
    "                        norm=self.norm)\n",
    "    elif attack_type=='original_AutoAttack':\n",
    "        return original_AutoAttack(net, \n",
    "                                   norm='L1', \n",
    "                                   eps=self.epsilon,\n",
    "                                   device=device)\n",
    "    elif attack_type=='auto_projected_gradient_descent':\n",
    "        return AutoProjectedGradientDescent(estimator=self.art_net,\n",
    "                                          eps=self.epsilon,\n",
    "                                          eps_step=self.eps_iter,\n",
    "                                          norm=self.norm,\n",
    "                                          max_iter=self.max_iterations_fast_attacks,\n",
    "                                          **kwargs)\n",
    "    elif attack_type=='brendel_bethge':\n",
    "        return fb.attacks.L1BrendelBethgeAttack(steps=self.max_iterations_fast_attacks)\n",
    "    elif attack_type=='carlini_wagner_l2':\n",
    "        return CarliniL2Method(self.art_net,\n",
    "                               max_iter=self.max_iterations_slow_attacks,\n",
    "                               **kwargs)\n",
    "    elif attack_type=='deep_fool':\n",
    "        return DeepFool(self.art_net,\n",
    "                      max_iter=self.max_iterations_fast_attacks,\n",
    "                      epsilon=self.eps_iter,\n",
    "                      **kwargs)\n",
    "    elif attack_type=='elastic_net':\n",
    "        return ElasticNet(self.art_net,\n",
    "                      max_iter=self.max_iterations_slow_attacks,learning_rate=0.01)\n",
    "    elif attack_type=='elastic_net_L1_rule':\n",
    "        return ElasticNet(self.art_net,\n",
    "                      max_iter=self.max_iterations_slow_attacks,\n",
    "                      decision_rule='L1')\n",
    "    elif attack_type=='elastic_net_L1_rule_higher_beta':\n",
    "        return ElasticNet(self.art_net,\n",
    "                      max_iter=self.max_iterations_slow_attacks,\n",
    "                      decision_rule='L1',\n",
    "                      beta=0.01,)\n",
    "    elif attack_type=='exp_attack':\n",
    "        return ExpAttack(self.art_net,\n",
    "                      max_iter=self.max_iterations_slow_attacks,learning_rate=1,smooth=0.01)\n",
    "    else:\n",
    "        raise ValueError(f'Attack type \"{attack_type}\" not supported!')"
   ]
  },
  {
   "cell_type": "markdown",
   "metadata": {},
   "source": [
    "## Plug-in Function for Adversarial Attack with Early Stopping"
   ]
  },
  {
   "cell_type": "code",
   "execution_count": 32,
   "metadata": {},
   "outputs": [],
   "source": [
    "def attack_with_early_stopping(art_net, x, y, PGD_iterations, attacker):\n",
    "    label_flipped = False\n",
    "\n",
    "    for j in range(PGD_iterations):\n",
    "        adv_inputs = attacker.generate(x, y.numpy(), verbose=False)\n",
    "\n",
    "        outputs = art_net.predict(adv_inputs)\n",
    "        _, predicted = torch.max(torch.tensor(outputs).data, 1)\n",
    "        label_flipped = bool(predicted.item() != int(y.item()))\n",
    "\n",
    "        if label_flipped:\n",
    "            print(f'\\tIterations for successful iterative attack: {j+1}')\n",
    "            break\n",
    "        \n",
    "        x = adv_inputs.copy()\n",
    "            \n",
    "    return adv_inputs"
   ]
  },
  {
   "cell_type": "markdown",
   "metadata": {},
   "source": [
    "## Function for Adversarial Distance calculation (attack methods)"
   ]
  },
  {
   "cell_type": "code",
   "execution_count": 33,
   "metadata": {},
   "outputs": [],
   "source": [
    "def calculation(art_net, fb_net, net, xtest, ytest, epsilon, eps_iter, norm, max_iterations_slow_attacks, max_iterations_fast_attacks, attack_type, verbose: bool = False):\n",
    "\n",
    "    distance_list, runtime_list = [], []\n",
    "    art_net.model.to(device)\n",
    "    net.to(device)\n",
    "    \n",
    "    xtest = xtest.to(device)\n",
    "    ytest = ytest.to(device)\n",
    "    \n",
    "    attacks = AdversarialAttacks(art_net=art_net,\n",
    "                                 net = net,\n",
    "                          epsilon=epsilon,\n",
    "                          eps_iter=eps_iter,\n",
    "                          norm=norm,\n",
    "                          max_iterations_fast_attacks=max_iterations_fast_attacks,\n",
    "                          max_iterations_slow_attacks=max_iterations_slow_attacks)\n",
    "    attacker = attacks.init_attacker(attack_type)\n",
    "\n",
    "    robust_predictions = 0\n",
    "    attack_successes = 0\n",
    "    clean_correct = 0\n",
    "\n",
    "    for i, x in enumerate(xtest):\n",
    "\n",
    "        x = x.unsqueeze(0)\n",
    "        y = ytest[i].unsqueeze(0)\n",
    "        outputs = art_net.predict(x.cpu())\n",
    "        \n",
    "        _, clean_predicted = torch.max(torch.tensor(outputs).data, 1)\n",
    "            \n",
    "        if int(clean_predicted.item()) != int(y.item()):\n",
    "            print('Misclassified input. Not attacking.')\n",
    "            distance_list.append(False)\n",
    "            runtime_list.append(False)\n",
    "            continue        \n",
    "\n",
    "        clean_correct += 1\n",
    "\n",
    "        start_time = time.time()\n",
    "\n",
    "        if attack_type == 'pgd_early_stopping':\n",
    "            x_adversarial = attack_with_early_stopping(art_net=art_net,\n",
    "                                                                x=x.numpy(),\n",
    "                                                                y=y,\n",
    "                                                                PGD_iterations=max_iterations_fast_attacks,\n",
    "                                                                attacker=attacker)\n",
    "            x_adversarial = torch.from_numpy(x_adversarial)\n",
    "        elif attack_type == 'brendel_bethge':\n",
    "            _, x_adversarial, _ = attacker(fb_net, x, y, epsilons=[epsilon])\n",
    "            x_adversarial = x_adversarial[0]\n",
    "        elif attack_type == 'original_AutoAttack':\n",
    "            x_adversarial = attacker.run_standard_evaluation(x, y)\n",
    "            x_adversarial = x_adversarial\n",
    "        else:             \n",
    "            x_adversarial = attacker.generate(x.cpu().numpy(), y.cpu().numpy())\n",
    "            x_adversarial = torch.from_numpy(x_adversarial)\n",
    "        \n",
    "        end_time = time.time()\n",
    "        runtime = end_time - start_time\n",
    "        runtime_list.append(runtime)\n",
    "\n",
    "        # Adversarial accuracy calculation\n",
    "        output_adversarial = art_net.predict(x_adversarial)\n",
    "        _, predicted_adversarial = torch.max(torch.tensor(output_adversarial).data, 1)\n",
    "\n",
    "        # Adversarial distance calculation: if no AE found, save epsilon as distance, otherwise save the distance\n",
    "        if int(predicted_adversarial.item()) == int(y.item()):\n",
    "            robust_predictions += 1\n",
    "            distance = epsilon\n",
    "            distance_list.append(distance)\n",
    "            if verbose:\n",
    "                print(f'Image {i}: No adversarial example found.')\n",
    "        else:\n",
    "            distance = torch.norm((x.cpu() - x_adversarial), p=float(norm))\n",
    "            robust_predictions += (round(distance.item(), 2) > epsilon) \n",
    "            attack_successes += (round(distance.item(), 2) <= epsilon) \n",
    "            distance_list.append(min(distance.item(), epsilon)) #appending epsilon if distance of adversarial example is higher\n",
    "\n",
    "        if verbose:\n",
    "            print(f'Image {i}\\t\\tAdversarial_distance: {distance:.5f}\\t\\tRuntime: {runtime:5f} seconds')\n",
    "        if (i + 1) % 20 == 0:\n",
    "            print(f'{i+1} images done. Current Adversarial Accuracy: {robust_predictions/(i+1)}%')\n",
    "\n",
    "    adversarial_accuracy = (robust_predictions / len(xtest)) * 100\n",
    "    attack_success_rate = (attack_successes / clean_correct) * 100\n",
    "    print(f'\\nAdversarial accuracy: {adversarial_accuracy}%\\n')\n",
    "\n",
    "    return distance_list, runtime_list, adversarial_accuracy, attack_success_rate"
   ]
  },
  {
   "cell_type": "markdown",
   "metadata": {},
   "source": [
    "## Parameters"
   ]
  },
  {
   "cell_type": "code",
   "execution_count": null,
   "metadata": {},
   "outputs": [],
   "source": [
    "norm = 1  # 1, 2, np.inf\n",
    "max_iterations_fast_attacks = 100\n",
    "max_iterations_slow_attacks = 100\n",
    "eps_iter = 0.15\n",
    "epsilon = 12"
   ]
  },
  {
   "cell_type": "markdown",
   "metadata": {},
   "source": [
    "## Load the dataset"
   ]
  },
  {
   "cell_type": "code",
   "execution_count": 35,
   "metadata": {},
   "outputs": [
    {
     "name": "stdout",
     "output_type": "stream",
     "text": [
      "Files already downloaded and verified\n"
     ]
    }
   ],
   "source": [
    "splitsize = 50      # full, int: splitsize\n",
    "xtest, ytest = load_dataset(dataset_split=splitsize)"
   ]
  },
  {
   "cell_type": "markdown",
   "metadata": {},
   "source": [
    "## Test Accuracy"
   ]
  },
  {
   "cell_type": "code",
   "execution_count": 36,
   "metadata": {},
   "outputs": [
    {
     "name": "stdout",
     "output_type": "stream",
     "text": [
      "\n",
      "Accuracy of the testset is: 92.000%\n",
      "\n"
     ]
    }
   ],
   "source": [
    "test_accuracy(net, xtest, ytest)"
   ]
  },
  {
   "cell_type": "markdown",
   "metadata": {},
   "source": [
    "# Experiments"
   ]
  },
  {
   "cell_type": "code",
   "execution_count": 38,
   "metadata": {},
   "outputs": [
    {
     "name": "stdout",
     "output_type": "stream",
     "text": [
      "\t\t-------------------------- Processing Attack: elastic_net --------------------------\n",
      "\n"
     ]
    },
    {
     "data": {
      "application/vnd.jupyter.widget-view+json": {
       "model_id": "a6f14e011088494ca96c53e7c428942b",
       "version_major": 2,
       "version_minor": 0
      },
      "text/plain": [
       "EAD:   0%|          | 0/1 [00:00<?, ?it/s]"
      ]
     },
     "metadata": {},
     "output_type": "display_data"
    },
    {
     "name": "stdout",
     "output_type": "stream",
     "text": [
      "Image 0\t\tAdversarial_distance: 18.76529\t\tRuntime: 2.215106 seconds\n"
     ]
    },
    {
     "data": {
      "application/vnd.jupyter.widget-view+json": {
       "model_id": "4d922c8f76ea47d79fc9a05c4d37dab2",
       "version_major": 2,
       "version_minor": 0
      },
      "text/plain": [
       "EAD:   0%|          | 0/1 [00:00<?, ?it/s]"
      ]
     },
     "metadata": {},
     "output_type": "display_data"
    },
    {
     "name": "stdout",
     "output_type": "stream",
     "text": [
      "Image 1\t\tAdversarial_distance: 45.90140\t\tRuntime: 2.231354 seconds\n"
     ]
    },
    {
     "data": {
      "application/vnd.jupyter.widget-view+json": {
       "model_id": "5064deda08954e61a1aa040ca82d3e5d",
       "version_major": 2,
       "version_minor": 0
      },
      "text/plain": [
       "EAD:   0%|          | 0/1 [00:00<?, ?it/s]"
      ]
     },
     "metadata": {},
     "output_type": "display_data"
    },
    {
     "name": "stdout",
     "output_type": "stream",
     "text": [
      "Image 2\t\tAdversarial_distance: 40.57894\t\tRuntime: 2.229791 seconds\n"
     ]
    },
    {
     "data": {
      "application/vnd.jupyter.widget-view+json": {
       "model_id": "068b987ed07d42fcb5f32b065ddbe63a",
       "version_major": 2,
       "version_minor": 0
      },
      "text/plain": [
       "EAD:   0%|          | 0/1 [00:00<?, ?it/s]"
      ]
     },
     "metadata": {},
     "output_type": "display_data"
    },
    {
     "name": "stdout",
     "output_type": "stream",
     "text": [
      "Image 3\t\tAdversarial_distance: 16.51875\t\tRuntime: 2.226229 seconds\n"
     ]
    },
    {
     "data": {
      "application/vnd.jupyter.widget-view+json": {
       "model_id": "f995a9f899b448c3b9d21b792fbd0fac",
       "version_major": 2,
       "version_minor": 0
      },
      "text/plain": [
       "EAD:   0%|          | 0/1 [00:00<?, ?it/s]"
      ]
     },
     "metadata": {},
     "output_type": "display_data"
    },
    {
     "name": "stdout",
     "output_type": "stream",
     "text": [
      "Image 4\t\tAdversarial_distance: 0.40278\t\tRuntime: 2.170769 seconds\n"
     ]
    },
    {
     "data": {
      "application/vnd.jupyter.widget-view+json": {
       "model_id": "40a435743ccc44868deace752e852a09",
       "version_major": 2,
       "version_minor": 0
      },
      "text/plain": [
       "EAD:   0%|          | 0/1 [00:00<?, ?it/s]"
      ]
     },
     "metadata": {},
     "output_type": "display_data"
    },
    {
     "name": "stdout",
     "output_type": "stream",
     "text": [
      "Image 5\t\tAdversarial_distance: 24.11699\t\tRuntime: 2.292900 seconds\n"
     ]
    },
    {
     "data": {
      "application/vnd.jupyter.widget-view+json": {
       "model_id": "d56a6ec5e3874710bd3e8a2858b03890",
       "version_major": 2,
       "version_minor": 0
      },
      "text/plain": [
       "EAD:   0%|          | 0/1 [00:00<?, ?it/s]"
      ]
     },
     "metadata": {},
     "output_type": "display_data"
    },
    {
     "name": "stdout",
     "output_type": "stream",
     "text": [
      "Image 6\t\tAdversarial_distance: 30.75562\t\tRuntime: 2.310556 seconds\n"
     ]
    },
    {
     "data": {
      "application/vnd.jupyter.widget-view+json": {
       "model_id": "a233cd90d61c4ffdba2216d3bbf00534",
       "version_major": 2,
       "version_minor": 0
      },
      "text/plain": [
       "EAD:   0%|          | 0/1 [00:00<?, ?it/s]"
      ]
     },
     "metadata": {},
     "output_type": "display_data"
    },
    {
     "name": "stdout",
     "output_type": "stream",
     "text": [
      "Image 7\t\tAdversarial_distance: 42.83165\t\tRuntime: 3.026357 seconds\n"
     ]
    },
    {
     "data": {
      "application/vnd.jupyter.widget-view+json": {
       "model_id": "5e607e909f384759937fab33fdeab1d8",
       "version_major": 2,
       "version_minor": 0
      },
      "text/plain": [
       "EAD:   0%|          | 0/1 [00:00<?, ?it/s]"
      ]
     },
     "metadata": {},
     "output_type": "display_data"
    },
    {
     "name": "stdout",
     "output_type": "stream",
     "text": [
      "Image 8\t\tAdversarial_distance: 12.69074\t\tRuntime: 2.972261 seconds\n"
     ]
    },
    {
     "data": {
      "application/vnd.jupyter.widget-view+json": {
       "model_id": "5f4d61958fe045d58cfeed3c169de32f",
       "version_major": 2,
       "version_minor": 0
      },
      "text/plain": [
       "EAD:   0%|          | 0/1 [00:00<?, ?it/s]"
      ]
     },
     "metadata": {},
     "output_type": "display_data"
    },
    {
     "name": "stdout",
     "output_type": "stream",
     "text": [
      "Image 9\t\tAdversarial_distance: 9.78338\t\tRuntime: 2.656591 seconds\n"
     ]
    },
    {
     "data": {
      "application/vnd.jupyter.widget-view+json": {
       "model_id": "97f8bf808159449f81fb6c8427a28051",
       "version_major": 2,
       "version_minor": 0
      },
      "text/plain": [
       "EAD:   0%|          | 0/1 [00:00<?, ?it/s]"
      ]
     },
     "metadata": {},
     "output_type": "display_data"
    },
    {
     "name": "stdout",
     "output_type": "stream",
     "text": [
      "Image 10\t\tAdversarial_distance: 115.87029\t\tRuntime: 2.340066 seconds\n"
     ]
    },
    {
     "data": {
      "application/vnd.jupyter.widget-view+json": {
       "model_id": "3f59ecdfd2674306a6c1d029e0b1fe7a",
       "version_major": 2,
       "version_minor": 0
      },
      "text/plain": [
       "EAD:   0%|          | 0/1 [00:00<?, ?it/s]"
      ]
     },
     "metadata": {},
     "output_type": "display_data"
    },
    {
     "name": "stdout",
     "output_type": "stream",
     "text": [
      "Image 11\t\tAdversarial_distance: 22.00991\t\tRuntime: 2.322168 seconds\n"
     ]
    },
    {
     "data": {
      "application/vnd.jupyter.widget-view+json": {
       "model_id": "b4f206e377464646875f611903f75554",
       "version_major": 2,
       "version_minor": 0
      },
      "text/plain": [
       "EAD:   0%|          | 0/1 [00:00<?, ?it/s]"
      ]
     },
     "metadata": {},
     "output_type": "display_data"
    },
    {
     "name": "stdout",
     "output_type": "stream",
     "text": [
      "Image 12\t\tAdversarial_distance: 26.18329\t\tRuntime: 2.276054 seconds\n"
     ]
    },
    {
     "data": {
      "application/vnd.jupyter.widget-view+json": {
       "model_id": "c9c097fce0b84c9a95f083c1c861c04e",
       "version_major": 2,
       "version_minor": 0
      },
      "text/plain": [
       "EAD:   0%|          | 0/1 [00:00<?, ?it/s]"
      ]
     },
     "metadata": {},
     "output_type": "display_data"
    },
    {
     "name": "stdout",
     "output_type": "stream",
     "text": [
      "Image 13\t\tAdversarial_distance: 14.90818\t\tRuntime: 2.163515 seconds\n"
     ]
    },
    {
     "data": {
      "application/vnd.jupyter.widget-view+json": {
       "model_id": "29830a6b42fe45818b83ab22f632cbef",
       "version_major": 2,
       "version_minor": 0
      },
      "text/plain": [
       "EAD:   0%|          | 0/1 [00:00<?, ?it/s]"
      ]
     },
     "metadata": {},
     "output_type": "display_data"
    },
    {
     "name": "stdout",
     "output_type": "stream",
     "text": [
      "Image 14\t\tAdversarial_distance: 9.51124\t\tRuntime: 2.178966 seconds\n"
     ]
    },
    {
     "data": {
      "application/vnd.jupyter.widget-view+json": {
       "model_id": "5fc12cc37f60406fb58603dc3e427659",
       "version_major": 2,
       "version_minor": 0
      },
      "text/plain": [
       "EAD:   0%|          | 0/1 [00:00<?, ?it/s]"
      ]
     },
     "metadata": {},
     "output_type": "display_data"
    },
    {
     "name": "stdout",
     "output_type": "stream",
     "text": [
      "Image 15\t\tAdversarial_distance: 21.45203\t\tRuntime: 2.158730 seconds\n"
     ]
    },
    {
     "data": {
      "application/vnd.jupyter.widget-view+json": {
       "model_id": "1549afeebad3440fb983119e7b4272e5",
       "version_major": 2,
       "version_minor": 0
      },
      "text/plain": [
       "EAD:   0%|          | 0/1 [00:00<?, ?it/s]"
      ]
     },
     "metadata": {},
     "output_type": "display_data"
    },
    {
     "name": "stdout",
     "output_type": "stream",
     "text": [
      "Image 16\t\tAdversarial_distance: 1.09927\t\tRuntime: 2.209205 seconds\n"
     ]
    },
    {
     "data": {
      "application/vnd.jupyter.widget-view+json": {
       "model_id": "ff267517329842c39be6c8a6aac1ae05",
       "version_major": 2,
       "version_minor": 0
      },
      "text/plain": [
       "EAD:   0%|          | 0/1 [00:00<?, ?it/s]"
      ]
     },
     "metadata": {},
     "output_type": "display_data"
    },
    {
     "name": "stdout",
     "output_type": "stream",
     "text": [
      "Image 17\t\tAdversarial_distance: 84.49560\t\tRuntime: 2.147227 seconds\n"
     ]
    },
    {
     "data": {
      "application/vnd.jupyter.widget-view+json": {
       "model_id": "d99b8a75b48441128db28c7421f2d2db",
       "version_major": 2,
       "version_minor": 0
      },
      "text/plain": [
       "EAD:   0%|          | 0/1 [00:00<?, ?it/s]"
      ]
     },
     "metadata": {},
     "output_type": "display_data"
    },
    {
     "name": "stdout",
     "output_type": "stream",
     "text": [
      "Image 18\t\tAdversarial_distance: 18.17569\t\tRuntime: 2.197937 seconds\n"
     ]
    },
    {
     "data": {
      "application/vnd.jupyter.widget-view+json": {
       "model_id": "280990edd9e14419afa97ed8d9a40e52",
       "version_major": 2,
       "version_minor": 0
      },
      "text/plain": [
       "EAD:   0%|          | 0/1 [00:00<?, ?it/s]"
      ]
     },
     "metadata": {},
     "output_type": "display_data"
    },
    {
     "name": "stdout",
     "output_type": "stream",
     "text": [
      "Image 19\t\tAdversarial_distance: 77.84397\t\tRuntime: 2.190255 seconds\n",
      "20 images done. Current Adversarial Accuracy: 0.8%\n"
     ]
    },
    {
     "data": {
      "application/vnd.jupyter.widget-view+json": {
       "model_id": "9648369ae9a249639d5643eb5b460d02",
       "version_major": 2,
       "version_minor": 0
      },
      "text/plain": [
       "EAD:   0%|          | 0/1 [00:00<?, ?it/s]"
      ]
     },
     "metadata": {},
     "output_type": "display_data"
    },
    {
     "name": "stdout",
     "output_type": "stream",
     "text": [
      "Image 20\t\tAdversarial_distance: 86.89108\t\tRuntime: 2.219058 seconds\n"
     ]
    },
    {
     "data": {
      "application/vnd.jupyter.widget-view+json": {
       "model_id": "2ee84dc5dc5b440ab106c60a3274804e",
       "version_major": 2,
       "version_minor": 0
      },
      "text/plain": [
       "EAD:   0%|          | 0/1 [00:00<?, ?it/s]"
      ]
     },
     "metadata": {},
     "output_type": "display_data"
    },
    {
     "name": "stdout",
     "output_type": "stream",
     "text": [
      "Image 21\t\tAdversarial_distance: 29.97264\t\tRuntime: 2.200929 seconds\n"
     ]
    },
    {
     "data": {
      "application/vnd.jupyter.widget-view+json": {
       "model_id": "e88da86c3f8c447da1f29dd3d1252df5",
       "version_major": 2,
       "version_minor": 0
      },
      "text/plain": [
       "EAD:   0%|          | 0/1 [00:00<?, ?it/s]"
      ]
     },
     "metadata": {},
     "output_type": "display_data"
    },
    {
     "name": "stdout",
     "output_type": "stream",
     "text": [
      "Image 22\t\tAdversarial_distance: 31.74483\t\tRuntime: 2.187785 seconds\n"
     ]
    },
    {
     "data": {
      "application/vnd.jupyter.widget-view+json": {
       "model_id": "b337f99f952447e685f7ad6b6ef9aa1a",
       "version_major": 2,
       "version_minor": 0
      },
      "text/plain": [
       "EAD:   0%|          | 0/1 [00:00<?, ?it/s]"
      ]
     },
     "metadata": {},
     "output_type": "display_data"
    },
    {
     "name": "stdout",
     "output_type": "stream",
     "text": [
      "Image 23\t\tAdversarial_distance: 52.54343\t\tRuntime: 2.239038 seconds\n"
     ]
    },
    {
     "data": {
      "application/vnd.jupyter.widget-view+json": {
       "model_id": "4ca0dc041a114566b48ef0eac78dc1af",
       "version_major": 2,
       "version_minor": 0
      },
      "text/plain": [
       "EAD:   0%|          | 0/1 [00:00<?, ?it/s]"
      ]
     },
     "metadata": {},
     "output_type": "display_data"
    },
    {
     "name": "stdout",
     "output_type": "stream",
     "text": [
      "Image 24\t\tAdversarial_distance: 20.80888\t\tRuntime: 2.164560 seconds\n"
     ]
    },
    {
     "data": {
      "application/vnd.jupyter.widget-view+json": {
       "model_id": "0d28ba69851b4dca9c09bb1aefa7780f",
       "version_major": 2,
       "version_minor": 0
      },
      "text/plain": [
       "EAD:   0%|          | 0/1 [00:00<?, ?it/s]"
      ]
     },
     "metadata": {},
     "output_type": "display_data"
    },
    {
     "name": "stdout",
     "output_type": "stream",
     "text": [
      "Image 25\t\tAdversarial_distance: 50.68741\t\tRuntime: 2.157333 seconds\n"
     ]
    },
    {
     "data": {
      "application/vnd.jupyter.widget-view+json": {
       "model_id": "4b4c6cf156224e8496c9e6bc40ff1ce7",
       "version_major": 2,
       "version_minor": 0
      },
      "text/plain": [
       "EAD:   0%|          | 0/1 [00:00<?, ?it/s]"
      ]
     },
     "metadata": {},
     "output_type": "display_data"
    },
    {
     "name": "stdout",
     "output_type": "stream",
     "text": [
      "Image 26\t\tAdversarial_distance: 36.72066\t\tRuntime: 2.137932 seconds\n"
     ]
    },
    {
     "data": {
      "application/vnd.jupyter.widget-view+json": {
       "model_id": "8bd90167183f4d0dae7409ea269c2902",
       "version_major": 2,
       "version_minor": 0
      },
      "text/plain": [
       "EAD:   0%|          | 0/1 [00:00<?, ?it/s]"
      ]
     },
     "metadata": {},
     "output_type": "display_data"
    },
    {
     "name": "stdout",
     "output_type": "stream",
     "text": [
      "Image 27\t\tAdversarial_distance: 73.88241\t\tRuntime: 2.153545 seconds\n"
     ]
    },
    {
     "data": {
      "application/vnd.jupyter.widget-view+json": {
       "model_id": "f23dd3cbc3344301bed7b3e52187e9d3",
       "version_major": 2,
       "version_minor": 0
      },
      "text/plain": [
       "EAD:   0%|          | 0/1 [00:00<?, ?it/s]"
      ]
     },
     "metadata": {},
     "output_type": "display_data"
    },
    {
     "name": "stdout",
     "output_type": "stream",
     "text": [
      "Image 28\t\tAdversarial_distance: 24.99230\t\tRuntime: 2.234910 seconds\n"
     ]
    },
    {
     "data": {
      "application/vnd.jupyter.widget-view+json": {
       "model_id": "7b21d5303d16424790dd10ae60e85476",
       "version_major": 2,
       "version_minor": 0
      },
      "text/plain": [
       "EAD:   0%|          | 0/1 [00:00<?, ?it/s]"
      ]
     },
     "metadata": {},
     "output_type": "display_data"
    },
    {
     "name": "stdout",
     "output_type": "stream",
     "text": [
      "Image 29\t\tAdversarial_distance: 23.83407\t\tRuntime: 2.217029 seconds\n"
     ]
    },
    {
     "data": {
      "application/vnd.jupyter.widget-view+json": {
       "model_id": "8e8162e0db834d56913b6d5aa48c3feb",
       "version_major": 2,
       "version_minor": 0
      },
      "text/plain": [
       "EAD:   0%|          | 0/1 [00:00<?, ?it/s]"
      ]
     },
     "metadata": {},
     "output_type": "display_data"
    },
    {
     "name": "stdout",
     "output_type": "stream",
     "text": [
      "Image 30\t\tAdversarial_distance: 62.10681\t\tRuntime: 2.237397 seconds\n"
     ]
    },
    {
     "data": {
      "application/vnd.jupyter.widget-view+json": {
       "model_id": "012d2c178e1f4ef5a6efa0c8e4a94476",
       "version_major": 2,
       "version_minor": 0
      },
      "text/plain": [
       "EAD:   0%|          | 0/1 [00:00<?, ?it/s]"
      ]
     },
     "metadata": {},
     "output_type": "display_data"
    },
    {
     "name": "stdout",
     "output_type": "stream",
     "text": [
      "Image 31\t\tAdversarial_distance: 22.07043\t\tRuntime: 2.182113 seconds\n",
      "Misclassified input. Not attacking.\n"
     ]
    },
    {
     "data": {
      "application/vnd.jupyter.widget-view+json": {
       "model_id": "54dc0915c6cb434baae7d1a7f75465a7",
       "version_major": 2,
       "version_minor": 0
      },
      "text/plain": [
       "EAD:   0%|          | 0/1 [00:00<?, ?it/s]"
      ]
     },
     "metadata": {},
     "output_type": "display_data"
    },
    {
     "name": "stdout",
     "output_type": "stream",
     "text": [
      "Image 33\t\tAdversarial_distance: 49.49087\t\tRuntime: 2.146492 seconds\n"
     ]
    },
    {
     "data": {
      "application/vnd.jupyter.widget-view+json": {
       "model_id": "d79c4f209e01408f90887af8a7d8f7c5",
       "version_major": 2,
       "version_minor": 0
      },
      "text/plain": [
       "EAD:   0%|          | 0/1 [00:00<?, ?it/s]"
      ]
     },
     "metadata": {},
     "output_type": "display_data"
    },
    {
     "name": "stdout",
     "output_type": "stream",
     "text": [
      "Image 34\t\tAdversarial_distance: 40.94815\t\tRuntime: 2.123514 seconds\n",
      "Misclassified input. Not attacking.\n"
     ]
    },
    {
     "data": {
      "application/vnd.jupyter.widget-view+json": {
       "model_id": "bcece382136e417c941fbeae158e3479",
       "version_major": 2,
       "version_minor": 0
      },
      "text/plain": [
       "EAD:   0%|          | 0/1 [00:00<?, ?it/s]"
      ]
     },
     "metadata": {},
     "output_type": "display_data"
    },
    {
     "name": "stdout",
     "output_type": "stream",
     "text": [
      "Image 36\t\tAdversarial_distance: 57.84686\t\tRuntime: 2.220274 seconds\n"
     ]
    },
    {
     "data": {
      "application/vnd.jupyter.widget-view+json": {
       "model_id": "6af75bbb677948a5bd5042122b01dded",
       "version_major": 2,
       "version_minor": 0
      },
      "text/plain": [
       "EAD:   0%|          | 0/1 [00:00<?, ?it/s]"
      ]
     },
     "metadata": {},
     "output_type": "display_data"
    },
    {
     "name": "stdout",
     "output_type": "stream",
     "text": [
      "Image 37\t\tAdversarial_distance: 74.62038\t\tRuntime: 2.217810 seconds\n"
     ]
    },
    {
     "data": {
      "application/vnd.jupyter.widget-view+json": {
       "model_id": "f570e3033536400c964037a56c575c32",
       "version_major": 2,
       "version_minor": 0
      },
      "text/plain": [
       "EAD:   0%|          | 0/1 [00:00<?, ?it/s]"
      ]
     },
     "metadata": {},
     "output_type": "display_data"
    },
    {
     "name": "stdout",
     "output_type": "stream",
     "text": [
      "Image 38\t\tAdversarial_distance: 1.51644\t\tRuntime: 2.165311 seconds\n",
      "Misclassified input. Not attacking.\n"
     ]
    },
    {
     "data": {
      "application/vnd.jupyter.widget-view+json": {
       "model_id": "9be2f88d72264a13a1fcbdcf03a70202",
       "version_major": 2,
       "version_minor": 0
      },
      "text/plain": [
       "EAD:   0%|          | 0/1 [00:00<?, ?it/s]"
      ]
     },
     "metadata": {},
     "output_type": "display_data"
    },
    {
     "name": "stdout",
     "output_type": "stream",
     "text": [
      "Image 40\t\tAdversarial_distance: 19.45683\t\tRuntime: 2.145188 seconds\n"
     ]
    },
    {
     "data": {
      "application/vnd.jupyter.widget-view+json": {
       "model_id": "e36dbedfc9764070b6fa1cea423e4216",
       "version_major": 2,
       "version_minor": 0
      },
      "text/plain": [
       "EAD:   0%|          | 0/1 [00:00<?, ?it/s]"
      ]
     },
     "metadata": {},
     "output_type": "display_data"
    },
    {
     "name": "stdout",
     "output_type": "stream",
     "text": [
      "Image 41\t\tAdversarial_distance: 19.50389\t\tRuntime: 2.160737 seconds\n"
     ]
    },
    {
     "data": {
      "application/vnd.jupyter.widget-view+json": {
       "model_id": "a4c79d5fd8b5407d8b8303dd8b9ec06b",
       "version_major": 2,
       "version_minor": 0
      },
      "text/plain": [
       "EAD:   0%|          | 0/1 [00:00<?, ?it/s]"
      ]
     },
     "metadata": {},
     "output_type": "display_data"
    },
    {
     "name": "stdout",
     "output_type": "stream",
     "text": [
      "Image 42\t\tAdversarial_distance: 5.04075\t\tRuntime: 2.176303 seconds\n"
     ]
    },
    {
     "data": {
      "application/vnd.jupyter.widget-view+json": {
       "model_id": "5e3366059f3f460aac582c127ad1cee2",
       "version_major": 2,
       "version_minor": 0
      },
      "text/plain": [
       "EAD:   0%|          | 0/1 [00:00<?, ?it/s]"
      ]
     },
     "metadata": {},
     "output_type": "display_data"
    },
    {
     "name": "stdout",
     "output_type": "stream",
     "text": [
      "Image 43\t\tAdversarial_distance: 65.48958\t\tRuntime: 2.223984 seconds\n"
     ]
    },
    {
     "data": {
      "application/vnd.jupyter.widget-view+json": {
       "model_id": "2f9c197a89a84404a8eb65a49bd14ad1",
       "version_major": 2,
       "version_minor": 0
      },
      "text/plain": [
       "EAD:   0%|          | 0/1 [00:00<?, ?it/s]"
      ]
     },
     "metadata": {},
     "output_type": "display_data"
    },
    {
     "name": "stdout",
     "output_type": "stream",
     "text": [
      "Image 44\t\tAdversarial_distance: 12.36720\t\tRuntime: 2.227010 seconds\n",
      "Misclassified input. Not attacking.\n"
     ]
    },
    {
     "data": {
      "application/vnd.jupyter.widget-view+json": {
       "model_id": "266da0cf23b34b0180243459cf94dcbf",
       "version_major": 2,
       "version_minor": 0
      },
      "text/plain": [
       "EAD:   0%|          | 0/1 [00:00<?, ?it/s]"
      ]
     },
     "metadata": {},
     "output_type": "display_data"
    },
    {
     "name": "stdout",
     "output_type": "stream",
     "text": [
      "Image 46\t\tAdversarial_distance: 31.65103\t\tRuntime: 2.209553 seconds\n"
     ]
    },
    {
     "data": {
      "application/vnd.jupyter.widget-view+json": {
       "model_id": "adf025fa22f8439b821d6bb55f0ba020",
       "version_major": 2,
       "version_minor": 0
      },
      "text/plain": [
       "EAD:   0%|          | 0/1 [00:00<?, ?it/s]"
      ]
     },
     "metadata": {},
     "output_type": "display_data"
    },
    {
     "name": "stdout",
     "output_type": "stream",
     "text": [
      "Image 47\t\tAdversarial_distance: 28.07520\t\tRuntime: 2.246245 seconds\n"
     ]
    },
    {
     "data": {
      "application/vnd.jupyter.widget-view+json": {
       "model_id": "661054a5a5ff4dafbf26ec3aa0640e16",
       "version_major": 2,
       "version_minor": 0
      },
      "text/plain": [
       "EAD:   0%|          | 0/1 [00:00<?, ?it/s]"
      ]
     },
     "metadata": {},
     "output_type": "display_data"
    },
    {
     "name": "stdout",
     "output_type": "stream",
     "text": [
      "Image 48\t\tAdversarial_distance: 36.67377\t\tRuntime: 2.188440 seconds\n"
     ]
    },
    {
     "data": {
      "application/vnd.jupyter.widget-view+json": {
       "model_id": "b00747aaebd745f396f435f26724745f",
       "version_major": 2,
       "version_minor": 0
      },
      "text/plain": [
       "EAD:   0%|          | 0/1 [00:00<?, ?it/s]"
      ]
     },
     "metadata": {},
     "output_type": "display_data"
    },
    {
     "name": "stdout",
     "output_type": "stream",
     "text": [
      "Image 49\t\tAdversarial_distance: 39.53111\t\tRuntime: 2.159819 seconds\n",
      "\n",
      "Adversarial accuracy: 80.0%\n",
      "\n",
      "\n",
      "Mean adversarial distance for elastic_net: 10.14708 with total runtime:  103.45834 seconds\n",
      "\n",
      "\t\t-------------------------- Processing Attack: exp_attack --------------------------\n",
      "\n"
     ]
    },
    {
     "data": {
      "application/vnd.jupyter.widget-view+json": {
       "model_id": "3d2008e00447456cbd4351e0a1806e29",
       "version_major": 2,
       "version_minor": 0
      },
      "text/plain": [
       "ExpAttack:   0%|          | 0/1 [00:00<?, ?it/s]"
      ]
     },
     "metadata": {},
     "output_type": "display_data"
    },
    {
     "name": "stderr",
     "output_type": "stream",
     "text": [
      "/home/shao/elastic_net_adversarial_attack/adversarial_attack/exp_attack.py:256: RuntimeWarning: invalid value encountered in log\n",
      "  v_val = np.where(abc>=15.0,np.log(abc)-np.log(np.log(abc))+np.log(np.log(abc))/np.log(abc), lambertw( np.exp(abc), k=0).real)/b-a\n"
     ]
    },
    {
     "name": "stdout",
     "output_type": "stream",
     "text": [
      "Image 0\t\tAdversarial_distance: 16.06909\t\tRuntime: 2.222375 seconds\n"
     ]
    },
    {
     "data": {
      "application/vnd.jupyter.widget-view+json": {
       "model_id": "d4bfcb533e914be0a784ef7d08fdc70b",
       "version_major": 2,
       "version_minor": 0
      },
      "text/plain": [
       "ExpAttack:   0%|          | 0/1 [00:00<?, ?it/s]"
      ]
     },
     "metadata": {},
     "output_type": "display_data"
    },
    {
     "name": "stdout",
     "output_type": "stream",
     "text": [
      "Image 1\t\tAdversarial_distance: 30.63533\t\tRuntime: 2.231736 seconds\n"
     ]
    },
    {
     "data": {
      "application/vnd.jupyter.widget-view+json": {
       "model_id": "bf7a7214ae0d4fa6bcf71ffaf4164497",
       "version_major": 2,
       "version_minor": 0
      },
      "text/plain": [
       "ExpAttack:   0%|          | 0/1 [00:00<?, ?it/s]"
      ]
     },
     "metadata": {},
     "output_type": "display_data"
    },
    {
     "name": "stdout",
     "output_type": "stream",
     "text": [
      "Image 2\t\tAdversarial_distance: 30.81718\t\tRuntime: 2.290550 seconds\n"
     ]
    },
    {
     "data": {
      "application/vnd.jupyter.widget-view+json": {
       "model_id": "5f106cadca4c41198c9034066921fff1",
       "version_major": 2,
       "version_minor": 0
      },
      "text/plain": [
       "ExpAttack:   0%|          | 0/1 [00:00<?, ?it/s]"
      ]
     },
     "metadata": {},
     "output_type": "display_data"
    },
    {
     "name": "stdout",
     "output_type": "stream",
     "text": [
      "Image 3\t\tAdversarial_distance: 11.36101\t\tRuntime: 2.264230 seconds\n"
     ]
    },
    {
     "data": {
      "application/vnd.jupyter.widget-view+json": {
       "model_id": "7022a4e1b2d543eeb453f56e0d3e7f9b",
       "version_major": 2,
       "version_minor": 0
      },
      "text/plain": [
       "ExpAttack:   0%|          | 0/1 [00:00<?, ?it/s]"
      ]
     },
     "metadata": {},
     "output_type": "display_data"
    },
    {
     "name": "stdout",
     "output_type": "stream",
     "text": [
      "Image 4\t\tAdversarial_distance: 0.56763\t\tRuntime: 2.263562 seconds\n"
     ]
    },
    {
     "data": {
      "application/vnd.jupyter.widget-view+json": {
       "model_id": "e6c00c45ec7e4fe3bfa696e1e42375b7",
       "version_major": 2,
       "version_minor": 0
      },
      "text/plain": [
       "ExpAttack:   0%|          | 0/1 [00:00<?, ?it/s]"
      ]
     },
     "metadata": {},
     "output_type": "display_data"
    },
    {
     "name": "stdout",
     "output_type": "stream",
     "text": [
      "Image 5\t\tAdversarial_distance: 18.98216\t\tRuntime: 2.244624 seconds\n"
     ]
    },
    {
     "data": {
      "application/vnd.jupyter.widget-view+json": {
       "model_id": "aea23543e9a544b29327ed5fae81f592",
       "version_major": 2,
       "version_minor": 0
      },
      "text/plain": [
       "ExpAttack:   0%|          | 0/1 [00:00<?, ?it/s]"
      ]
     },
     "metadata": {},
     "output_type": "display_data"
    },
    {
     "name": "stdout",
     "output_type": "stream",
     "text": [
      "Image 6\t\tAdversarial_distance: 26.47785\t\tRuntime: 2.239944 seconds\n"
     ]
    },
    {
     "data": {
      "application/vnd.jupyter.widget-view+json": {
       "model_id": "02b740df7c7946a4be842fcf93dbf0f0",
       "version_major": 2,
       "version_minor": 0
      },
      "text/plain": [
       "ExpAttack:   0%|          | 0/1 [00:00<?, ?it/s]"
      ]
     },
     "metadata": {},
     "output_type": "display_data"
    },
    {
     "name": "stdout",
     "output_type": "stream",
     "text": [
      "Image 7\t\tAdversarial_distance: 31.81764\t\tRuntime: 2.288695 seconds\n"
     ]
    },
    {
     "data": {
      "application/vnd.jupyter.widget-view+json": {
       "model_id": "473cb1658f4e4eb48c073624b9a0465b",
       "version_major": 2,
       "version_minor": 0
      },
      "text/plain": [
       "ExpAttack:   0%|          | 0/1 [00:00<?, ?it/s]"
      ]
     },
     "metadata": {},
     "output_type": "display_data"
    },
    {
     "name": "stdout",
     "output_type": "stream",
     "text": [
      "Image 8\t\tAdversarial_distance: 11.17834\t\tRuntime: 2.264421 seconds\n"
     ]
    },
    {
     "data": {
      "application/vnd.jupyter.widget-view+json": {
       "model_id": "b5260ee9fc314a5d99797d0feac8610e",
       "version_major": 2,
       "version_minor": 0
      },
      "text/plain": [
       "ExpAttack:   0%|          | 0/1 [00:00<?, ?it/s]"
      ]
     },
     "metadata": {},
     "output_type": "display_data"
    },
    {
     "name": "stdout",
     "output_type": "stream",
     "text": [
      "Image 9\t\tAdversarial_distance: 5.75239\t\tRuntime: 2.236338 seconds\n"
     ]
    },
    {
     "data": {
      "application/vnd.jupyter.widget-view+json": {
       "model_id": "1f67a6e9a6514a95b62c50cf18c9edc9",
       "version_major": 2,
       "version_minor": 0
      },
      "text/plain": [
       "ExpAttack:   0%|          | 0/1 [00:00<?, ?it/s]"
      ]
     },
     "metadata": {},
     "output_type": "display_data"
    },
    {
     "name": "stdout",
     "output_type": "stream",
     "text": [
      "Image 10\t\tAdversarial_distance: 106.21117\t\tRuntime: 2.276121 seconds\n"
     ]
    },
    {
     "data": {
      "application/vnd.jupyter.widget-view+json": {
       "model_id": "e8136eae04404d939ff9d5ca7fff1763",
       "version_major": 2,
       "version_minor": 0
      },
      "text/plain": [
       "ExpAttack:   0%|          | 0/1 [00:00<?, ?it/s]"
      ]
     },
     "metadata": {},
     "output_type": "display_data"
    },
    {
     "name": "stdout",
     "output_type": "stream",
     "text": [
      "Image 11\t\tAdversarial_distance: 19.67883\t\tRuntime: 2.273931 seconds\n"
     ]
    },
    {
     "data": {
      "application/vnd.jupyter.widget-view+json": {
       "model_id": "58d597b7246647eb9ec5673724bfe30f",
       "version_major": 2,
       "version_minor": 0
      },
      "text/plain": [
       "ExpAttack:   0%|          | 0/1 [00:00<?, ?it/s]"
      ]
     },
     "metadata": {},
     "output_type": "display_data"
    },
    {
     "name": "stdout",
     "output_type": "stream",
     "text": [
      "Image 12\t\tAdversarial_distance: 19.15399\t\tRuntime: 2.271185 seconds\n"
     ]
    },
    {
     "data": {
      "application/vnd.jupyter.widget-view+json": {
       "model_id": "09acefc9359744c6a3c96c66a7923360",
       "version_major": 2,
       "version_minor": 0
      },
      "text/plain": [
       "ExpAttack:   0%|          | 0/1 [00:00<?, ?it/s]"
      ]
     },
     "metadata": {},
     "output_type": "display_data"
    },
    {
     "name": "stdout",
     "output_type": "stream",
     "text": [
      "Image 13\t\tAdversarial_distance: 12.47142\t\tRuntime: 2.308469 seconds\n"
     ]
    },
    {
     "data": {
      "application/vnd.jupyter.widget-view+json": {
       "model_id": "5797792064794dafafd11720666cae74",
       "version_major": 2,
       "version_minor": 0
      },
      "text/plain": [
       "ExpAttack:   0%|          | 0/1 [00:00<?, ?it/s]"
      ]
     },
     "metadata": {},
     "output_type": "display_data"
    },
    {
     "name": "stdout",
     "output_type": "stream",
     "text": [
      "Image 14\t\tAdversarial_distance: 9.09384\t\tRuntime: 2.212992 seconds\n"
     ]
    },
    {
     "data": {
      "application/vnd.jupyter.widget-view+json": {
       "model_id": "e7d964e9d3f54abb9f26aced91eccb22",
       "version_major": 2,
       "version_minor": 0
      },
      "text/plain": [
       "ExpAttack:   0%|          | 0/1 [00:00<?, ?it/s]"
      ]
     },
     "metadata": {},
     "output_type": "display_data"
    },
    {
     "name": "stdout",
     "output_type": "stream",
     "text": [
      "Image 15\t\tAdversarial_distance: 17.78921\t\tRuntime: 2.260178 seconds\n"
     ]
    },
    {
     "data": {
      "application/vnd.jupyter.widget-view+json": {
       "model_id": "0b71faeca6ef4e378f1193051bd8133f",
       "version_major": 2,
       "version_minor": 0
      },
      "text/plain": [
       "ExpAttack:   0%|          | 0/1 [00:00<?, ?it/s]"
      ]
     },
     "metadata": {},
     "output_type": "display_data"
    },
    {
     "name": "stdout",
     "output_type": "stream",
     "text": [
      "Image 16\t\tAdversarial_distance: 1.29391\t\tRuntime: 2.270453 seconds\n"
     ]
    },
    {
     "data": {
      "application/vnd.jupyter.widget-view+json": {
       "model_id": "b13c33045774475bb55490c5c625659e",
       "version_major": 2,
       "version_minor": 0
      },
      "text/plain": [
       "ExpAttack:   0%|          | 0/1 [00:00<?, ?it/s]"
      ]
     },
     "metadata": {},
     "output_type": "display_data"
    },
    {
     "name": "stdout",
     "output_type": "stream",
     "text": [
      "Image 17\t\tAdversarial_distance: 75.87608\t\tRuntime: 2.343599 seconds\n"
     ]
    },
    {
     "data": {
      "application/vnd.jupyter.widget-view+json": {
       "model_id": "0ab1becc83444234876b9dc358a0436a",
       "version_major": 2,
       "version_minor": 0
      },
      "text/plain": [
       "ExpAttack:   0%|          | 0/1 [00:00<?, ?it/s]"
      ]
     },
     "metadata": {},
     "output_type": "display_data"
    },
    {
     "name": "stdout",
     "output_type": "stream",
     "text": [
      "Image 18\t\tAdversarial_distance: 14.39086\t\tRuntime: 2.281380 seconds\n"
     ]
    },
    {
     "data": {
      "application/vnd.jupyter.widget-view+json": {
       "model_id": "4f76cb4f6a1047ee9d51d5265bf0a489",
       "version_major": 2,
       "version_minor": 0
      },
      "text/plain": [
       "ExpAttack:   0%|          | 0/1 [00:00<?, ?it/s]"
      ]
     },
     "metadata": {},
     "output_type": "display_data"
    },
    {
     "name": "stdout",
     "output_type": "stream",
     "text": [
      "Image 19\t\tAdversarial_distance: 70.14973\t\tRuntime: 2.297162 seconds\n",
      "20 images done. Current Adversarial Accuracy: 0.7%\n"
     ]
    },
    {
     "data": {
      "application/vnd.jupyter.widget-view+json": {
       "model_id": "63fec163813f4099bbb809b32b7da82a",
       "version_major": 2,
       "version_minor": 0
      },
      "text/plain": [
       "ExpAttack:   0%|          | 0/1 [00:00<?, ?it/s]"
      ]
     },
     "metadata": {},
     "output_type": "display_data"
    },
    {
     "name": "stdout",
     "output_type": "stream",
     "text": [
      "Image 20\t\tAdversarial_distance: 84.91724\t\tRuntime: 2.286742 seconds\n"
     ]
    },
    {
     "data": {
      "application/vnd.jupyter.widget-view+json": {
       "model_id": "0a7951a818f14ba2bb4ac174e8392c5c",
       "version_major": 2,
       "version_minor": 0
      },
      "text/plain": [
       "ExpAttack:   0%|          | 0/1 [00:00<?, ?it/s]"
      ]
     },
     "metadata": {},
     "output_type": "display_data"
    },
    {
     "name": "stdout",
     "output_type": "stream",
     "text": [
      "Image 21\t\tAdversarial_distance: 27.78500\t\tRuntime: 2.288019 seconds\n"
     ]
    },
    {
     "data": {
      "application/vnd.jupyter.widget-view+json": {
       "model_id": "3ab27e111106495a96a56ab81deb7e13",
       "version_major": 2,
       "version_minor": 0
      },
      "text/plain": [
       "ExpAttack:   0%|          | 0/1 [00:00<?, ?it/s]"
      ]
     },
     "metadata": {},
     "output_type": "display_data"
    },
    {
     "name": "stdout",
     "output_type": "stream",
     "text": [
      "Image 22\t\tAdversarial_distance: 31.06796\t\tRuntime: 2.324440 seconds\n"
     ]
    },
    {
     "data": {
      "application/vnd.jupyter.widget-view+json": {
       "model_id": "e57557d0cfec407c9cf759f30b9f7c63",
       "version_major": 2,
       "version_minor": 0
      },
      "text/plain": [
       "ExpAttack:   0%|          | 0/1 [00:00<?, ?it/s]"
      ]
     },
     "metadata": {},
     "output_type": "display_data"
    },
    {
     "name": "stdout",
     "output_type": "stream",
     "text": [
      "Image 23\t\tAdversarial_distance: 35.57034\t\tRuntime: 2.646520 seconds\n"
     ]
    },
    {
     "data": {
      "application/vnd.jupyter.widget-view+json": {
       "model_id": "86113238f7ac4a7ca5b83edbf3723285",
       "version_major": 2,
       "version_minor": 0
      },
      "text/plain": [
       "ExpAttack:   0%|          | 0/1 [00:00<?, ?it/s]"
      ]
     },
     "metadata": {},
     "output_type": "display_data"
    },
    {
     "name": "stdout",
     "output_type": "stream",
     "text": [
      "Image 24\t\tAdversarial_distance: 19.30822\t\tRuntime: 2.439089 seconds\n"
     ]
    },
    {
     "data": {
      "application/vnd.jupyter.widget-view+json": {
       "model_id": "3cbdc88dc919489a8738e45c04481a5e",
       "version_major": 2,
       "version_minor": 0
      },
      "text/plain": [
       "ExpAttack:   0%|          | 0/1 [00:00<?, ?it/s]"
      ]
     },
     "metadata": {},
     "output_type": "display_data"
    },
    {
     "name": "stdout",
     "output_type": "stream",
     "text": [
      "Image 25\t\tAdversarial_distance: 43.47037\t\tRuntime: 2.378279 seconds\n"
     ]
    },
    {
     "data": {
      "application/vnd.jupyter.widget-view+json": {
       "model_id": "1b7a85bb331c4c328229d92b93f7b8f3",
       "version_major": 2,
       "version_minor": 0
      },
      "text/plain": [
       "ExpAttack:   0%|          | 0/1 [00:00<?, ?it/s]"
      ]
     },
     "metadata": {},
     "output_type": "display_data"
    },
    {
     "name": "stdout",
     "output_type": "stream",
     "text": [
      "Image 26\t\tAdversarial_distance: 31.80210\t\tRuntime: 2.337046 seconds\n"
     ]
    },
    {
     "data": {
      "application/vnd.jupyter.widget-view+json": {
       "model_id": "bd2f0ff8104946faa8501a5e9c864be1",
       "version_major": 2,
       "version_minor": 0
      },
      "text/plain": [
       "ExpAttack:   0%|          | 0/1 [00:00<?, ?it/s]"
      ]
     },
     "metadata": {},
     "output_type": "display_data"
    },
    {
     "name": "stdout",
     "output_type": "stream",
     "text": [
      "Image 27\t\tAdversarial_distance: 60.60171\t\tRuntime: 2.330511 seconds\n"
     ]
    },
    {
     "data": {
      "application/vnd.jupyter.widget-view+json": {
       "model_id": "e0d62dcd8a844c65926ee2928bb38ef7",
       "version_major": 2,
       "version_minor": 0
      },
      "text/plain": [
       "ExpAttack:   0%|          | 0/1 [00:00<?, ?it/s]"
      ]
     },
     "metadata": {},
     "output_type": "display_data"
    },
    {
     "name": "stdout",
     "output_type": "stream",
     "text": [
      "Image 28\t\tAdversarial_distance: 20.18303\t\tRuntime: 2.387103 seconds\n"
     ]
    },
    {
     "data": {
      "application/vnd.jupyter.widget-view+json": {
       "model_id": "dca39a476c17465685c1438bb310f29b",
       "version_major": 2,
       "version_minor": 0
      },
      "text/plain": [
       "ExpAttack:   0%|          | 0/1 [00:00<?, ?it/s]"
      ]
     },
     "metadata": {},
     "output_type": "display_data"
    },
    {
     "name": "stdout",
     "output_type": "stream",
     "text": [
      "Image 29\t\tAdversarial_distance: 19.26376\t\tRuntime: 2.442181 seconds\n"
     ]
    },
    {
     "data": {
      "application/vnd.jupyter.widget-view+json": {
       "model_id": "f3b8cf00d19c480bb2b1cec971226592",
       "version_major": 2,
       "version_minor": 0
      },
      "text/plain": [
       "ExpAttack:   0%|          | 0/1 [00:00<?, ?it/s]"
      ]
     },
     "metadata": {},
     "output_type": "display_data"
    },
    {
     "name": "stdout",
     "output_type": "stream",
     "text": [
      "Image 30\t\tAdversarial_distance: 61.62942\t\tRuntime: 2.367594 seconds\n"
     ]
    },
    {
     "data": {
      "application/vnd.jupyter.widget-view+json": {
       "model_id": "3fb15ebc72934352bd6e88729e91d7d8",
       "version_major": 2,
       "version_minor": 0
      },
      "text/plain": [
       "ExpAttack:   0%|          | 0/1 [00:00<?, ?it/s]"
      ]
     },
     "metadata": {},
     "output_type": "display_data"
    },
    {
     "name": "stdout",
     "output_type": "stream",
     "text": [
      "Image 31\t\tAdversarial_distance: 14.35322\t\tRuntime: 2.345340 seconds\n",
      "Misclassified input. Not attacking.\n"
     ]
    },
    {
     "data": {
      "application/vnd.jupyter.widget-view+json": {
       "model_id": "20a2388b4567481cb2f96c84a770241b",
       "version_major": 2,
       "version_minor": 0
      },
      "text/plain": [
       "ExpAttack:   0%|          | 0/1 [00:00<?, ?it/s]"
      ]
     },
     "metadata": {},
     "output_type": "display_data"
    },
    {
     "name": "stdout",
     "output_type": "stream",
     "text": [
      "Image 33\t\tAdversarial_distance: 34.43259\t\tRuntime: 2.284927 seconds\n"
     ]
    },
    {
     "data": {
      "application/vnd.jupyter.widget-view+json": {
       "model_id": "e9bdfe8a7044432baeeb55a6bab5bdc8",
       "version_major": 2,
       "version_minor": 0
      },
      "text/plain": [
       "ExpAttack:   0%|          | 0/1 [00:00<?, ?it/s]"
      ]
     },
     "metadata": {},
     "output_type": "display_data"
    },
    {
     "name": "stdout",
     "output_type": "stream",
     "text": [
      "Image 34\t\tAdversarial_distance: 32.52158\t\tRuntime: 2.358520 seconds\n",
      "Misclassified input. Not attacking.\n"
     ]
    },
    {
     "data": {
      "application/vnd.jupyter.widget-view+json": {
       "model_id": "e504412139fa421c8dafb69ece91a050",
       "version_major": 2,
       "version_minor": 0
      },
      "text/plain": [
       "ExpAttack:   0%|          | 0/1 [00:00<?, ?it/s]"
      ]
     },
     "metadata": {},
     "output_type": "display_data"
    },
    {
     "name": "stdout",
     "output_type": "stream",
     "text": [
      "Image 36\t\tAdversarial_distance: 38.37822\t\tRuntime: 2.326624 seconds\n"
     ]
    },
    {
     "data": {
      "application/vnd.jupyter.widget-view+json": {
       "model_id": "6a7bd96940b94614811f7e7cd3f55d31",
       "version_major": 2,
       "version_minor": 0
      },
      "text/plain": [
       "ExpAttack:   0%|          | 0/1 [00:00<?, ?it/s]"
      ]
     },
     "metadata": {},
     "output_type": "display_data"
    },
    {
     "name": "stdout",
     "output_type": "stream",
     "text": [
      "Image 37\t\tAdversarial_distance: 58.15796\t\tRuntime: 2.333935 seconds\n"
     ]
    },
    {
     "data": {
      "application/vnd.jupyter.widget-view+json": {
       "model_id": "42ac5edfe4e54b3fbf8abc8511d73481",
       "version_major": 2,
       "version_minor": 0
      },
      "text/plain": [
       "ExpAttack:   0%|          | 0/1 [00:00<?, ?it/s]"
      ]
     },
     "metadata": {},
     "output_type": "display_data"
    },
    {
     "name": "stdout",
     "output_type": "stream",
     "text": [
      "Image 38\t\tAdversarial_distance: 1.63775\t\tRuntime: 2.365252 seconds\n",
      "Misclassified input. Not attacking.\n"
     ]
    },
    {
     "data": {
      "application/vnd.jupyter.widget-view+json": {
       "model_id": "25c0cd6e77794f46a8079d09a494a0ca",
       "version_major": 2,
       "version_minor": 0
      },
      "text/plain": [
       "ExpAttack:   0%|          | 0/1 [00:00<?, ?it/s]"
      ]
     },
     "metadata": {},
     "output_type": "display_data"
    },
    {
     "name": "stdout",
     "output_type": "stream",
     "text": [
      "Image 40\t\tAdversarial_distance: 15.73682\t\tRuntime: 2.336550 seconds\n"
     ]
    },
    {
     "data": {
      "application/vnd.jupyter.widget-view+json": {
       "model_id": "916a27354e2746219e695cf137dc5c30",
       "version_major": 2,
       "version_minor": 0
      },
      "text/plain": [
       "ExpAttack:   0%|          | 0/1 [00:00<?, ?it/s]"
      ]
     },
     "metadata": {},
     "output_type": "display_data"
    },
    {
     "name": "stdout",
     "output_type": "stream",
     "text": [
      "Image 41\t\tAdversarial_distance: 16.72225\t\tRuntime: 2.291774 seconds\n"
     ]
    },
    {
     "data": {
      "application/vnd.jupyter.widget-view+json": {
       "model_id": "42e3ad75f8cd4d569f8f33d4490206ed",
       "version_major": 2,
       "version_minor": 0
      },
      "text/plain": [
       "ExpAttack:   0%|          | 0/1 [00:00<?, ?it/s]"
      ]
     },
     "metadata": {},
     "output_type": "display_data"
    },
    {
     "name": "stdout",
     "output_type": "stream",
     "text": [
      "Image 42\t\tAdversarial_distance: 4.79440\t\tRuntime: 2.300018 seconds\n"
     ]
    },
    {
     "data": {
      "application/vnd.jupyter.widget-view+json": {
       "model_id": "80a5b7454d9b4183b1f4607e6f861e5a",
       "version_major": 2,
       "version_minor": 0
      },
      "text/plain": [
       "ExpAttack:   0%|          | 0/1 [00:00<?, ?it/s]"
      ]
     },
     "metadata": {},
     "output_type": "display_data"
    },
    {
     "name": "stdout",
     "output_type": "stream",
     "text": [
      "Image 43\t\tAdversarial_distance: 55.52961\t\tRuntime: 2.314544 seconds\n"
     ]
    },
    {
     "data": {
      "application/vnd.jupyter.widget-view+json": {
       "model_id": "a6196e5cc58b4a11a8e4edb33906477c",
       "version_major": 2,
       "version_minor": 0
      },
      "text/plain": [
       "ExpAttack:   0%|          | 0/1 [00:00<?, ?it/s]"
      ]
     },
     "metadata": {},
     "output_type": "display_data"
    },
    {
     "name": "stdout",
     "output_type": "stream",
     "text": [
      "Image 44\t\tAdversarial_distance: 10.70437\t\tRuntime: 2.351124 seconds\n",
      "Misclassified input. Not attacking.\n"
     ]
    },
    {
     "data": {
      "application/vnd.jupyter.widget-view+json": {
       "model_id": "238d9a8e7de347f1af59b2920a25d041",
       "version_major": 2,
       "version_minor": 0
      },
      "text/plain": [
       "ExpAttack:   0%|          | 0/1 [00:00<?, ?it/s]"
      ]
     },
     "metadata": {},
     "output_type": "display_data"
    },
    {
     "name": "stdout",
     "output_type": "stream",
     "text": [
      "Image 46\t\tAdversarial_distance: 27.54345\t\tRuntime: 2.365295 seconds\n"
     ]
    },
    {
     "data": {
      "application/vnd.jupyter.widget-view+json": {
       "model_id": "b66088e5f0764301968dc6623101571f",
       "version_major": 2,
       "version_minor": 0
      },
      "text/plain": [
       "ExpAttack:   0%|          | 0/1 [00:00<?, ?it/s]"
      ]
     },
     "metadata": {},
     "output_type": "display_data"
    },
    {
     "name": "stdout",
     "output_type": "stream",
     "text": [
      "Image 47\t\tAdversarial_distance: 20.99641\t\tRuntime: 2.356231 seconds\n"
     ]
    },
    {
     "data": {
      "application/vnd.jupyter.widget-view+json": {
       "model_id": "c8016e3b4f35428eb21227850f3bf24b",
       "version_major": 2,
       "version_minor": 0
      },
      "text/plain": [
       "ExpAttack:   0%|          | 0/1 [00:00<?, ?it/s]"
      ]
     },
     "metadata": {},
     "output_type": "display_data"
    },
    {
     "name": "stdout",
     "output_type": "stream",
     "text": [
      "Image 48\t\tAdversarial_distance: 39.90694\t\tRuntime: 2.335719 seconds\n"
     ]
    },
    {
     "data": {
      "application/vnd.jupyter.widget-view+json": {
       "model_id": "52c1e24ee5124f0ba1153f36a4345d54",
       "version_major": 2,
       "version_minor": 0
      },
      "text/plain": [
       "ExpAttack:   0%|          | 0/1 [00:00<?, ?it/s]"
      ]
     },
     "metadata": {},
     "output_type": "display_data"
    },
    {
     "name": "stdout",
     "output_type": "stream",
     "text": [
      "Image 49\t\tAdversarial_distance: 33.29050\t\tRuntime: 2.312186 seconds\n",
      "\n",
      "Adversarial accuracy: 74.0%\n",
      "\n",
      "\n",
      "Mean adversarial distance for exp_attack: 10.00767 with total runtime:  106.54751 seconds\n",
      "\n"
     ]
    }
   ],
   "source": [
    "attack_types = [#'fast_gradient_method', #bounded-full\n",
    "                #'projected_gradient_descent', #bounded-full\n",
    "                #'pgd_early_stopping', #not-bounded\n",
    "                #'auto_projected_gradient_descent', #bounded-full\n",
    "                #'deep_fool', #not-bounded\n",
    "                #'brendel_bethge', #bounded-min\n",
    "                #'carlini_wagner_l2', #not-bounded\n",
    "                'elastic_net', #not-bounded\n",
    "                'exp_attack',\n",
    "                #'elastic_net_L1_rule', #not-bounded\n",
    "                #'elastic_net_L1_rule_higher_beta', #not-bounded\n",
    "                #'ART_AutoAttack', #bounded-full\n",
    "                #'original_AutoAttack', #bounded-full\n",
    "                ]\n",
    "\n",
    "results_dict = {}\n",
    "\n",
    "for attack_type in attack_types:\n",
    "    results_dict[attack_type] = {}\n",
    "    print(f'\\t\\t-------------------------- Processing Attack: {attack_type} --------------------------\\n')\n",
    "    results_dict[attack_type][\"adversarial_distance\"], results_dict[attack_type][\"runtime\"], results_dict[attack_type][\"adversarial_accuracy\"] , results_dict[attack_type][\"attack_success_rate\"] = calculation(\n",
    "                                                        art_net=art_net,\n",
    "                                                        fb_net=fb_net,\n",
    "                                                        net = net,\n",
    "                                                        xtest=xtest,\n",
    "                                                        ytest=ytest,\n",
    "                                                        epsilon=epsilon,\n",
    "                                                        eps_iter=eps_iter,\n",
    "                                                        norm=norm,\n",
    "                                                        max_iterations_fast_attacks=max_iterations_fast_attacks,\n",
    "                                                        max_iterations_slow_attacks=max_iterations_slow_attacks,\n",
    "                                                        attack_type=attack_type,\n",
    "                                                        verbose=True)\n",
    "    \n",
    "    mean_value = np.mean([x for x in results_dict[attack_type][\"adversarial_distance\"] if x is not None])\n",
    "\n",
    "    print(f'\\nMean adversarial distance for {attack_type}: {mean_value:.5f} with total runtime: {sum(results_dict[attack_type][\"runtime\"]): .5f} seconds\\n')"
   ]
  },
  {
   "cell_type": "markdown",
   "metadata": {},
   "source": [
    "## Save Results to JSON File"
   ]
  },
  {
   "cell_type": "code",
   "execution_count": 39,
   "metadata": {},
   "outputs": [
    {
     "name": "stdout",
     "output_type": "stream",
     "text": [
      "Evaluation results are saved under \"./data/attack_comparison_Sehwag2021Proxy_R18_L1.json\".\n"
     ]
    }
   ],
   "source": [
    "json_file_path = f'./data/attack_comparison_{model_name}_L{norm}.json'\n",
    "\n",
    "with open(json_file_path, 'w') as f:\n",
    "    json.dump(results_dict, f, indent=4)\n",
    "print(f'Evaluation results are saved under \"{json_file_path}\".')"
   ]
  },
  {
   "cell_type": "markdown",
   "metadata": {},
   "source": [
    "# Plotting"
   ]
  },
  {
   "cell_type": "markdown",
   "metadata": {},
   "source": [
    "## Distances"
   ]
  },
  {
   "cell_type": "code",
   "execution_count": null,
   "metadata": {},
   "outputs": [],
   "source": []
  },
  {
   "cell_type": "code",
   "execution_count": null,
   "metadata": {},
   "outputs": [],
   "source": []
  },
  {
   "cell_type": "code",
   "execution_count": 40,
   "metadata": {},
   "outputs": [
    {
     "data": {
      "image/png": "[encoded data removed]",
      "text/plain": [
       "<Figure size 1500x800 with 1 Axes>"
      ]
     },
     "metadata": {},
     "output_type": "display_data"
    }
   ],
   "source": [
    "attack_types_with_distance = [\n",
    "                'brendel_bethge', #bounded-min\n",
    "                'pgd_early_stopping', #not-bounded\n",
    "                'deep_fool', #not-bounded\n",
    "                'carlini_wagner_l2', #not-bounded\n",
    "                'elastic_net', #not-bounded\n",
    "                'elastic_net_L1_rule', #not-bounded\n",
    "                'elastic_net_L1_rule_higher_beta', #not-bounded\n",
    "                'exp_attack', #not-bounded\n",
    "                ]\n",
    "\n",
    "selected_attack_types_with_distance = [a for a in attack_types if a in attack_types_with_distance]\n",
    "\n",
    "plt.figure(figsize=(15, 8))\n",
    "for attack_type in selected_attack_types_with_distance:\n",
    "  plt.plot(list(range(len(xtest))), results_dict[attack_type]['adversarial_distance'], label=attack_type)\n",
    "plt.xlabel('Image ID')\n",
    "plt.ylabel('Distance')\n",
    "plt.title(f'L{norm} Distance')\n",
    "plt.legend()\n",
    "plt.tight_layout()\n",
    "plt.xticks(list(range(len(xtest))))\n",
    "plt.show()"
   ]
  },
  {
   "cell_type": "markdown",
   "metadata": {},
   "source": [
    "# Runtime per image"
   ]
  },
  {
   "cell_type": "code",
   "execution_count": 41,
   "metadata": {},
   "outputs": [
    {
     "data": {
      "image/png": "[encoded data removed]",
      "text/plain": [
       "<Figure size 1500x800 with 1 Axes>"
      ]
     },
     "metadata": {},
     "output_type": "display_data"
    }
   ],
   "source": [
    "plt.figure(figsize=(15, 8))\n",
    "for attack_type in attack_types:\n",
    "  plt.plot(list(range(len(xtest))), results_dict[attack_type]['runtime'], label=attack_type)\n",
    "plt.xlabel('Image ID')\n",
    "plt.ylabel('Runtime [seconds]')\n",
    "plt.title('Runtime per image')\n",
    "plt.legend()\n",
    "plt.tight_layout()\n",
    "plt.show()"
   ]
  },
  {
   "cell_type": "markdown",
   "metadata": {},
   "source": [
    "## Adversarial Accuracy"
   ]
  },
  {
   "cell_type": "code",
   "execution_count": 42,
   "metadata": {},
   "outputs": [
    {
     "data": {
      "image/png": "[encoded data removed]",
      "text/plain": [
       "<Figure size 1500x800 with 1 Axes>"
      ]
     },
     "metadata": {},
     "output_type": "display_data"
    }
   ],
   "source": [
    "plt.figure(figsize=(15, 8))\n",
    "for attack_type in attack_types:\n",
    "  plt.bar(attack_type, results_dict[attack_type]['adversarial_accuracy'], label=attack_type)\n",
    "plt.xlabel('Attacks')\n",
    "plt.ylabel('Adversarial accuracy [%]')\n",
    "plt.xticks(rotation=45)\n",
    "plt.legend()\n",
    "plt.title('Adversarial Accuracy')\n",
    "plt.tight_layout()\n",
    "plt.show()"
   ]
  },
  {
   "cell_type": "code",
   "execution_count": 43,
   "metadata": {},
   "outputs": [
    {
     "data": {
      "image/png": "[encoded data removed]",
      "text/plain": [
       "<Figure size 1500x800 with 1 Axes>"
      ]
     },
     "metadata": {},
     "output_type": "display_data"
    }
   ],
   "source": [
    "plt.figure(figsize=(15, 8))\n",
    "for attack_type in attack_types:\n",
    "  plt.bar(attack_type, results_dict[attack_type]['attack_success_rate'], label=attack_type)\n",
    "plt.xlabel('Attacks')\n",
    "plt.ylabel('Attack Success Rate [%]')\n",
    "plt.xticks(rotation=45)\n",
    "plt.legend()\n",
    "plt.title('Attack Success Rate')\n",
    "plt.tight_layout()\n",
    "plt.show()"
   ]
  },
  {
   "cell_type": "markdown",
   "metadata": {},
   "source": [
    "## Total Runtime"
   ]
  },
  {
   "cell_type": "code",
   "execution_count": null,
   "metadata": {},
   "outputs": [],
   "source": [
    "plt.figure(figsize=(15, 8))\n",
    "for attack_type in attack_types:\n",
    "  plt.bar(attack_type, sum(results_dict[attack_type]['runtime'])/splitsize, label=attack_type)\n",
    "plt.xlabel('Attacks')\n",
    "plt.xticks(rotation=45)\n",
    "plt.ylabel('Runtime [seconds]')\n",
    "plt.title('Average Runtime per Image')\n",
    "plt.legend()\n",
    "plt.tight_layout()\n",
    "plt.show()"
   ]
  }
 ],
 "metadata": {
  "kaggle": {
   "accelerator": "gpu",
   "dataSources": [],
   "dockerImageVersionId": 30762,
   "isGpuEnabled": true,
   "isInternetEnabled": true,
   "language": "python",
   "sourceType": "notebook"
  },
  "kernelspec": {
   "display_name": "art",
   "language": "python",
   "name": "python3"
  },
  "language_info": {
   "codemirror_mode": {
    "name": "ipython",
    "version": 3
   },
   "file_extension": ".py",
   "mimetype": "text/x-python",
   "name": "python",
   "nbconvert_exporter": "python",
   "pygments_lexer": "ipython3",
   "version": "3.12.7"
  }
 },
 "nbformat": 4,
 "nbformat_minor": 4
}
