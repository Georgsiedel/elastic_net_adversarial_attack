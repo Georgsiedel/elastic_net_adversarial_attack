{
 "cells": [
  {
   "cell_type": "markdown",
   "metadata": {},
   "source": [
    "# Installation and Repository cloning"
   ]
  },
  {
   "cell_type": "code",
   "execution_count": 1,
   "metadata": {},
   "outputs": [],
   "source": [
    "#!pip3 install torch torchvision torchaudio --index-url https://download.pytorch.org/whl/cu124\n",
    "#!pip install adversarial-robustness-toolbox -U\n",
    "#!pip install git+https://github.com/RobustBench/robustbench.git\n",
    "#!pip install multiprocess\n",
    "#!pip install matplotlib\n",
    "#!pip install pillow\n",
    "#!pip install foolbox\n",
    "#!pip install numba"
   ]
  },
  {
   "cell_type": "markdown",
   "metadata": {},
   "source": [
    "## Import Libraries"
   ]
  },
  {
   "cell_type": "code",
   "execution_count": 2,
   "metadata": {},
   "outputs": [
    {
     "name": "stderr",
     "output_type": "stream",
     "text": [
      "/home/shao/anaconda3/envs/art/lib/python3.12/site-packages/timm/models/registry.py:4: FutureWarning: Importing from timm.models.registry is deprecated, please import via timm.models\n",
      "  warnings.warn(f\"Importing from {__name__} is deprecated, please import via timm.models\", FutureWarning)\n",
      "/home/shao/anaconda3/envs/art/lib/python3.12/site-packages/timm/models/layers/__init__.py:48: FutureWarning: Importing from timm.models.layers is deprecated, please import via timm.layers\n",
      "  warnings.warn(f\"Importing from {__name__} is deprecated, please import via timm.layers\", FutureWarning)\n",
      "/home/shao/anaconda3/envs/art/lib/python3.12/site-packages/timm/models/helpers.py:7: FutureWarning: Importing from timm.models.helpers is deprecated, please import via timm.models\n",
      "  warnings.warn(f\"Importing from {__name__} is deprecated, please import via timm.models\", FutureWarning)\n"
     ]
    }
   ],
   "source": [
    "import torch\n",
    "import utils\n",
    "import adversarial_attack.attack_utils as attack_utils\n",
    "\n",
    "device = 'cpu' #torch.device('cuda' if torch.cuda.is_available() else 'cpu')"
   ]
  },
  {
   "cell_type": "markdown",
   "metadata": {},
   "source": [
    "## Load and Prepare Adversarial Model"
   ]
  },
  {
   "cell_type": "code",
   "execution_count": 3,
   "metadata": {},
   "outputs": [
    {
     "name": "stderr",
     "output_type": "stream",
     "text": [
      "/home/shao/elastic_net_adversarial_attack/utils.py:50: FutureWarning: You are using `torch.load` with `weights_only=False` (the current default value), which uses the default pickle module implicitly. It is possible to construct malicious pickle data which will execute arbitrary code during unpickling (See https://github.com/pytorch/pytorch/blob/main/SECURITY.md#untrusted-models for more details). In a future release, the default value for `weights_only` will be flipped to `True`. This limits the functions that could be executed during unpickling. Arbitrary objects will no longer be allowed to be loaded via this mode unless they are explicitly allowlisted by the user via `torch.serialization.add_safe_globals`. We recommend you start setting `weights_only=True` for any use case where you don't have full control of the loaded file. Please open an issue on GitHub for any issues related to this experimental feature.\n",
      "  ckpt = torch.load('./models/pretrained_models/MainiMSD.pt', map_location=device)\n"
     ]
    }
   ],
   "source": [
    "model = 'MainiMSD' # MainiAVG, MainiMSD, CroceL1, Wang2023Better_WRN-28-10, Wang2023Better_WRN-28-10\n",
    "net, art_net, fb_net, alias = utils.get_model(modelname=model, norm='L2') # specify the norm in case of robustbench models"
   ]
  },
  {
   "cell_type": "markdown",
   "metadata": {},
   "source": [
    "## Load the dataset"
   ]
  },
  {
   "cell_type": "code",
   "execution_count": 4,
   "metadata": {},
   "outputs": [
    {
     "name": "stdout",
     "output_type": "stream",
     "text": [
      "Files already downloaded and verified\n"
     ]
    }
   ],
   "source": [
    "splitsize = 100 # full, int: splitsize\n",
    "xtest, ytest = utils.load_dataset(dataset_split=splitsize)"
   ]
  },
  {
   "cell_type": "markdown",
   "metadata": {},
   "source": [
    "## Test Accuracy"
   ]
  },
  {
   "cell_type": "code",
   "execution_count": 5,
   "metadata": {},
   "outputs": [
    {
     "name": "stdout",
     "output_type": "stream",
     "text": [
      "\n",
      "Accuracy of the test set is: 80.000%\n",
      "\n"
     ]
    }
   ],
   "source": [
    "utils.test_accuracy(net, xtest, ytest)"
   ]
  },
  {
   "cell_type": "markdown",
   "metadata": {},
   "source": [
    "## Parameters "
   ]
  },
  {
   "cell_type": "code",
   "execution_count": 6,
   "metadata": {},
   "outputs": [],
   "source": [
    "Experiment = attack_utils.Experiment_class(art_net, fb_net, net, xtest, ytest, alias,\n",
    "                        epsilon_l1 = 12, \n",
    "                        epsilon_l2= 0.5, \n",
    "                        eps_iter = 0.1,  \n",
    "                        norm = 1,  # 1, 2, np.inf\n",
    "                        max_iterations =100, \n",
    "                        verbose=False)"
   ]
  },
  {
   "cell_type": "markdown",
   "metadata": {},
   "source": [
    "# Hyperparameter Sweep Experiment"
   ]
  },
  {
   "cell_type": "code",
   "execution_count": 8,
   "metadata": {},
   "outputs": [
    {
     "name": "stdout",
     "output_type": "stream",
     "text": [
      "\t\t-------------- Hyperparameter Sweep for Attack: exp_attack_l1: sparsity_init = 0.9 ----------------\n",
      "\n"
     ]
    },
    {
     "ename": "TypeError",
     "evalue": "calculation() got an unexpected keyword argument 'sparsity_init'",
     "output_type": "error",
     "traceback": [
      "\u001b[0;31m---------------------------------------------------------------------------\u001b[0m",
      "\u001b[0;31mTypeError\u001b[0m                                 Traceback (most recent call last)",
      "Cell \u001b[0;32mIn[9], line 6\u001b[0m\n\u001b[1;32m      3\u001b[0m hyperparameter_range\u001b[38;5;241m=\u001b[39m[\u001b[38;5;241m0.9\u001b[39m,\u001b[38;5;241m0.8\u001b[39m,\u001b[38;5;241m0.5\u001b[39m,\u001b[38;5;241m0.1\u001b[39m]\n\u001b[1;32m      4\u001b[0m hyperparameter \u001b[38;5;241m=\u001b[39m \u001b[38;5;124m'\u001b[39m\u001b[38;5;124msparsity_init\u001b[39m\u001b[38;5;124m'\u001b[39m \u001b[38;5;66;03m#'beta'\u001b[39;00m\n\u001b[0;32m----> 6\u001b[0m results_dict_hyperparameter_sweep \u001b[38;5;241m=\u001b[39m Experiment\u001b[38;5;241m.\u001b[39mhyperparameter_sweep(hyperparameter\u001b[38;5;241m=\u001b[39mhyperparameter, \u001b[38;5;28mrange\u001b[39m\u001b[38;5;241m=\u001b[39mhyperparameter_range, attack_type\u001b[38;5;241m=\u001b[39mattack_type)\n",
      "File \u001b[0;32m~/elastic_net_adversarial_attack/adversarial_attack/attack_utils.py:55\u001b[0m, in \u001b[0;36mExperiment_class.hyperparameter_sweep\u001b[0;34m(self, hyperparameter, range, attack_type)\u001b[0m\n\u001b[1;32m     53\u001b[0m results_dict[hyperparameter\u001b[38;5;241m+\u001b[39m\u001b[38;5;28mstr\u001b[39m(value)] \u001b[38;5;241m=\u001b[39m {}\n\u001b[1;32m     54\u001b[0m \u001b[38;5;28mprint\u001b[39m(\u001b[38;5;124mf\u001b[39m\u001b[38;5;124m'\u001b[39m\u001b[38;5;130;01m\\t\u001b[39;00m\u001b[38;5;130;01m\\t\u001b[39;00m\u001b[38;5;124m-------------- Hyperparameter Sweep for Attack: \u001b[39m\u001b[38;5;132;01m{\u001b[39;00mattack_type\u001b[38;5;132;01m}\u001b[39;00m\u001b[38;5;124m: \u001b[39m\u001b[38;5;132;01m{\u001b[39;00mhyperparameter\u001b[38;5;132;01m}\u001b[39;00m\u001b[38;5;124m = \u001b[39m\u001b[38;5;132;01m{\u001b[39;00mvalue\u001b[38;5;132;01m}\u001b[39;00m\u001b[38;5;124m ----------------\u001b[39m\u001b[38;5;130;01m\\n\u001b[39;00m\u001b[38;5;124m'\u001b[39m)\n\u001b[0;32m---> 55\u001b[0m _, _, _, results_dict[hyperparameter\u001b[38;5;241m+\u001b[39m\u001b[38;5;28mstr\u001b[39m(value)][\u001b[38;5;124m\"\u001b[39m\u001b[38;5;124madversarial_accuracy_l1\u001b[39m\u001b[38;5;124m\"\u001b[39m], results_dict[hyperparameter\u001b[38;5;241m+\u001b[39m\u001b[38;5;28mstr\u001b[39m(value)][\u001b[38;5;124m\"\u001b[39m\u001b[38;5;124madversarial_accuracy_l2\u001b[39m\u001b[38;5;124m\"\u001b[39m], _, results_dict[hyperparameter\u001b[38;5;241m+\u001b[39m\u001b[38;5;28mstr\u001b[39m(value)][\u001b[38;5;124m\"\u001b[39m\u001b[38;5;124mattack_success_rate_in_epsilon_l1\u001b[39m\u001b[38;5;124m\"\u001b[39m], results_dict[hyperparameter\u001b[38;5;241m+\u001b[39m\u001b[38;5;28mstr\u001b[39m(value)][\u001b[38;5;124m\"\u001b[39m\u001b[38;5;124mattack_success_rate_in_epsilon_l2\u001b[39m\u001b[38;5;124m\"\u001b[39m], results_dict[hyperparameter\u001b[38;5;241m+\u001b[39m\u001b[38;5;28mstr\u001b[39m(value)][\u001b[38;5;124m\"\u001b[39m\u001b[38;5;124mmean_adv_distance_l1\u001b[39m\u001b[38;5;124m\"\u001b[39m], results_dict[hyperparameter\u001b[38;5;241m+\u001b[39m\u001b[38;5;28mstr\u001b[39m(value)][\u001b[38;5;124m\"\u001b[39m\u001b[38;5;124mmean_adv_distance_l2\u001b[39m\u001b[38;5;124m\"\u001b[39m] \u001b[38;5;241m=\u001b[39m calculation(\n\u001b[1;32m     56\u001b[0m                                                     art_net\u001b[38;5;241m=\u001b[39m\u001b[38;5;28mself\u001b[39m\u001b[38;5;241m.\u001b[39mart_net,\n\u001b[1;32m     57\u001b[0m                                                     fb_net\u001b[38;5;241m=\u001b[39m\u001b[38;5;28mself\u001b[39m\u001b[38;5;241m.\u001b[39mfb_net,\n\u001b[1;32m     58\u001b[0m                                                     net \u001b[38;5;241m=\u001b[39m \u001b[38;5;28mself\u001b[39m\u001b[38;5;241m.\u001b[39mnet,\n\u001b[1;32m     59\u001b[0m                                                     xtest\u001b[38;5;241m=\u001b[39m\u001b[38;5;28mself\u001b[39m\u001b[38;5;241m.\u001b[39mxtest,\n\u001b[1;32m     60\u001b[0m                                                     ytest\u001b[38;5;241m=\u001b[39m\u001b[38;5;28mself\u001b[39m\u001b[38;5;241m.\u001b[39mytest,\n\u001b[1;32m     61\u001b[0m                                                     epsilon_l1\u001b[38;5;241m=\u001b[39m\u001b[38;5;28mself\u001b[39m\u001b[38;5;241m.\u001b[39mepsilon_l1,\n\u001b[1;32m     62\u001b[0m                                                     epsilon_l2\u001b[38;5;241m=\u001b[39m\u001b[38;5;28mself\u001b[39m\u001b[38;5;241m.\u001b[39mepsilon_l2,\n\u001b[1;32m     63\u001b[0m                                                     eps_iter\u001b[38;5;241m=\u001b[39m\u001b[38;5;28mself\u001b[39m\u001b[38;5;241m.\u001b[39meps_iter,\n\u001b[1;32m     64\u001b[0m                                                     norm\u001b[38;5;241m=\u001b[39m\u001b[38;5;28mself\u001b[39m\u001b[38;5;241m.\u001b[39mnorm,\n\u001b[1;32m     65\u001b[0m                                                     max_iterations\u001b[38;5;241m=\u001b[39m\u001b[38;5;28mself\u001b[39m\u001b[38;5;241m.\u001b[39mmax_iterations,\n\u001b[1;32m     66\u001b[0m                                                     attack_type\u001b[38;5;241m=\u001b[39mattack_type,\n\u001b[1;32m     67\u001b[0m                                                     verbose\u001b[38;5;241m=\u001b[39m\u001b[38;5;28mself\u001b[39m\u001b[38;5;241m.\u001b[39mverbose,\n\u001b[1;32m     68\u001b[0m                                                     \u001b[38;5;241m*\u001b[39m\u001b[38;5;241m*\u001b[39mkwargs)\n\u001b[1;32m     70\u001b[0m \u001b[38;5;28mprint\u001b[39m(hyperparameter\u001b[38;5;241m+\u001b[39m\u001b[38;5;28mstr\u001b[39m(value), \u001b[38;5;124m'\u001b[39m\u001b[38;5;124mattack success rate in epsilon (L1 / L2): \u001b[39m\u001b[38;5;124m'\u001b[39m,\n\u001b[1;32m     71\u001b[0m     \u001b[38;5;28mround\u001b[39m(results_dict[hyperparameter\u001b[38;5;241m+\u001b[39m\u001b[38;5;28mstr\u001b[39m(value)][\u001b[38;5;124m\"\u001b[39m\u001b[38;5;124mattack_success_rate_in_epsilon_l1\u001b[39m\u001b[38;5;124m\"\u001b[39m], \u001b[38;5;241m4\u001b[39m),\n\u001b[1;32m     72\u001b[0m     \u001b[38;5;124m'\u001b[39m\u001b[38;5;124m / \u001b[39m\u001b[38;5;124m'\u001b[39m,\n\u001b[1;32m     73\u001b[0m     \u001b[38;5;28mround\u001b[39m(results_dict[hyperparameter\u001b[38;5;241m+\u001b[39m\u001b[38;5;28mstr\u001b[39m(value)][\u001b[38;5;124m\"\u001b[39m\u001b[38;5;124mattack_success_rate_in_epsilon_l2\u001b[39m\u001b[38;5;124m\"\u001b[39m], \u001b[38;5;241m4\u001b[39m))           \n\u001b[1;32m     74\u001b[0m \u001b[38;5;28mprint\u001b[39m(\u001b[38;5;124m'\u001b[39m\u001b[38;5;124mmean adv. distance (L1 / L2): \u001b[39m\u001b[38;5;124m'\u001b[39m, \n\u001b[1;32m     75\u001b[0m        \u001b[38;5;28mround\u001b[39m(results_dict[hyperparameter\u001b[38;5;241m+\u001b[39m\u001b[38;5;28mstr\u001b[39m(value)][\u001b[38;5;124m\"\u001b[39m\u001b[38;5;124mmean_adv_distance_l1\u001b[39m\u001b[38;5;124m\"\u001b[39m], \u001b[38;5;241m4\u001b[39m), \n\u001b[1;32m     76\u001b[0m        \u001b[38;5;124m'\u001b[39m\u001b[38;5;124m / \u001b[39m\u001b[38;5;124m'\u001b[39m, \n\u001b[1;32m     77\u001b[0m        \u001b[38;5;28mround\u001b[39m(results_dict[hyperparameter\u001b[38;5;241m+\u001b[39m\u001b[38;5;28mstr\u001b[39m(value)][\u001b[38;5;124m\"\u001b[39m\u001b[38;5;124mmean_adv_distance_l2\u001b[39m\u001b[38;5;124m\"\u001b[39m], \u001b[38;5;241m4\u001b[39m))\n",
      "\u001b[0;31mTypeError\u001b[0m: calculation() got an unexpected keyword argument 'sparsity_init'"
     ]
    }
   ],
   "source": [
    "#hyperparameter sweep. Pick only one model.\n",
    "attack_type = 'exp_attack_l1'\n",
    "hyperparameter_range=[1.0]\n",
    "hyperparameter = 'learning_rate' #'beta'\n",
    "\n",
    "results_dict_hyperparameter_sweep = Experiment.hyperparameter_sweep(hyperparameter=hyperparameter, range=hyperparameter_range, attack_type=attack_type)"
   ]
  },
  {
   "cell_type": "code",
   "execution_count": 7,
   "metadata": {},
   "outputs": [
    {
     "name": "stdout",
     "output_type": "stream",
     "text": [
      "\t\t-------------------------- Processing Attack: exp_attack_l1 --------------------------\n",
      "\n",
      "20 images done. Current Adversarial Accuracy (L1 / L2/ EN): 45.0 / 70.0/70.0%\n",
      "40 images done. Current Adversarial Accuracy (L1 / L2): 52.5 / 77.5%\n",
      "60 images done. Current Adversarial Accuracy (L1 / L2/ EN): 51.666666666666664 / 75.0/75.0%\n",
      "80 images done. Current Adversarial Accuracy (L1 / L2/ EN): 55.0 / 77.5/77.5%\n",
      "100 images done. Current Adversarial Accuracy (L1 / L2/ EN): 58.0 / 79.0/79.0%\n",
      "\n",
      "Adversarial accuracy (L1 / L2/ EN): 58.0000 / 79.0000/ 79.0000%\n",
      "\n",
      "\n",
      "average sparsity: 0.9323%\n",
      "\n",
      "\n",
      "Total runtime:  53.7398 seconds\n",
      "\n",
      "attack success rate in epsilon (L1 / L2):  27.5  /  1.25\n",
      "mean adv. distance (L1 / L2):  2.2765  /  0.2895\n",
      "\t\t-------------------------- Processing Attack: original_AutoAttack_apgd-only --------------------------\n",
      "\n",
      "20 images done. Current Adversarial Accuracy (L1 / L2/ EN): 40.0 / 70.0/70.0%\n",
      "40 images done. Current Adversarial Accuracy (L1 / L2): 47.5 / 77.5%\n",
      "60 images done. Current Adversarial Accuracy (L1 / L2/ EN): 46.666666666666664 / 75.0/75.0%\n",
      "80 images done. Current Adversarial Accuracy (L1 / L2/ EN): 51.25 / 78.75/78.75%\n",
      "100 images done. Current Adversarial Accuracy (L1 / L2/ EN): 54.0 / 80.0/80.0%\n",
      "\n",
      "Adversarial accuracy (L1 / L2/ EN): 54.0000 / 80.0000/ 80.0000%\n",
      "\n",
      "\n",
      "average sparsity: 0.9575%\n",
      "\n",
      "\n",
      "Total runtime:  74.0283 seconds\n",
      "\n",
      "attack success rate in epsilon (L1 / L2):  32.5  /  0.0\n",
      "mean adv. distance (L1 / L2):  3.9  /  0.4772\n",
      "Evaluation results are saved under \"./data/attack_comparison_MainiMSD.json\".\n"
     ]
    }
   ],
   "source": [
    "#Attack comparison\n",
    "attack_types = [#'fast_gradient_method',\n",
    "                #'projected_gradient_descent',\n",
    "                #'pgd_early_stopping',\n",
    "                #'deep_fool',\n",
    "                #'brendel_bethge',\n",
    "                #'carlini_wagner_l2',\n",
    "                #'elastic_net',\n",
    "                #'exp_attack',\n",
    "                #'exp_attack_smooth',\n",
    "                #'exp_attack_l1_l2',\n",
    "                #'auto_projected_gradient_descent',\n",
    "                #'elastic_net_L1_rule',\n",
    "                #'elastic_net_L1_rule_higher_beta',\n",
    "                #'ART_AutoAttack',\n",
    "                #'original_AutoAttack',\n",
    "                'exp_attack_l1',\n",
    "                'original_AutoAttack_apgd-only'\n",
    "                ]\n",
    "\n",
    "results_dict_attack_comparison = Experiment.attack_comparison(attack_types)"
   ]
  }
 ],
 "metadata": {
  "kaggle": {
   "accelerator": "gpu",
   "dataSources": [],
   "dockerImageVersionId": 30762,
   "isGpuEnabled": true,
   "isInternetEnabled": true,
   "language": "python",
   "sourceType": "notebook"
  },
  "kernelspec": {
   "display_name": "art",
   "language": "python",
   "name": "python3"
  },
  "language_info": {
   "codemirror_mode": {
    "name": "ipython",
    "version": 3
   },
   "file_extension": ".py",
   "mimetype": "text/x-python",
   "name": "python",
   "nbconvert_exporter": "python",
   "pygments_lexer": "ipython3",
   "version": "3.12.7"
  }
 },
 "nbformat": 4,
 "nbformat_minor": 4
}
