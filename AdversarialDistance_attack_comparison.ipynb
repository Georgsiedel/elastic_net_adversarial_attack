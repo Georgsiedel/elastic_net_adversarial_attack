{
 "cells": [
  {
   "cell_type": "markdown",
   "metadata": {},
   "source": [
    "# Installation and Repository cloning"
   ]
  },
  {
   "cell_type": "code",
   "execution_count": 1,
   "metadata": {},
   "outputs": [],
   "source": [
    "#!pip3 install torch torchvision torchaudio --index-url https://download.pytorch.org/whl/cu124\n",
    "#!pip install adversarial-robustness-toolbox -U\n",
    "#!pip install git+https://github.com/RobustBench/robustbench.git\n",
    "#!pip install multiprocess\n",
    "#!pip install matplotlib\n",
    "#!pip install pillow\n",
    "#!pip install foolbox\n",
    "#!pip install numba"
   ]
  },
  {
   "cell_type": "markdown",
   "metadata": {},
   "source": [
    "## Import Libraries"
   ]
  },
  {
   "cell_type": "code",
   "execution_count": 2,
   "metadata": {},
   "outputs": [
    {
     "name": "stderr",
     "output_type": "stream",
     "text": [
      "c:\\Users\\d7000ko\\Desktop\\Python\\elastic_net_adversarial_attack\\.venv\\Lib\\site-packages\\tqdm\\auto.py:21: TqdmWarning: IProgress not found. Please update jupyter and ipywidgets. See https://ipywidgets.readthedocs.io/en/stable/user_install.html\n",
      "  from .autonotebook import tqdm as notebook_tqdm\n",
      "c:\\Users\\d7000ko\\Desktop\\Python\\elastic_net_adversarial_attack\\.venv\\Lib\\site-packages\\timm\\models\\registry.py:4: FutureWarning: Importing from timm.models.registry is deprecated, please import via timm.models\n",
      "  warnings.warn(f\"Importing from {__name__} is deprecated, please import via timm.models\", FutureWarning)\n",
      "c:\\Users\\d7000ko\\Desktop\\Python\\elastic_net_adversarial_attack\\.venv\\Lib\\site-packages\\timm\\models\\layers\\__init__.py:48: FutureWarning: Importing from timm.models.layers is deprecated, please import via timm.layers\n",
      "  warnings.warn(f\"Importing from {__name__} is deprecated, please import via timm.layers\", FutureWarning)\n",
      "c:\\Users\\d7000ko\\Desktop\\Python\\elastic_net_adversarial_attack\\.venv\\Lib\\site-packages\\timm\\models\\helpers.py:7: FutureWarning: Importing from timm.models.helpers is deprecated, please import via timm.models\n",
      "  warnings.warn(f\"Importing from {__name__} is deprecated, please import via timm.models\", FutureWarning)\n"
     ]
    }
   ],
   "source": [
    "import torch\n",
    "import utils\n",
    "import adversarial_attack.attack_utils as attack_utils\n",
    "\n",
    "device = torch.device('cuda' if torch.cuda.is_available() else 'cpu')"
   ]
  },
  {
   "cell_type": "markdown",
   "metadata": {},
   "source": [
    "## Load the dataset"
   ]
  },
  {
   "cell_type": "code",
   "execution_count": 3,
   "metadata": {},
   "outputs": [
    {
     "name": "stdout",
     "output_type": "stream",
     "text": [
      "Files already downloaded and verified\n"
     ]
    }
   ],
   "source": [
    "dataset = 'cifar10' #'cifar10' #'imagenet'\n",
    "splitsize = 20 # full, int: splitsize\n",
    "xtest, ytest = utils.load_dataset(dataset= dataset, dataset_split=splitsize, root='../data')"
   ]
  },
  {
   "cell_type": "markdown",
   "metadata": {},
   "source": [
    "## Load and Prepare Adversarial Model"
   ]
  },
  {
   "cell_type": "code",
   "execution_count": 4,
   "metadata": {},
   "outputs": [
    {
     "name": "stderr",
     "output_type": "stream",
     "text": [
      "c:\\Users\\d7000ko\\Desktop\\Python\\elastic_net_adversarial_attack\\utils.py:79: FutureWarning: You are using `torch.load` with `weights_only=False` (the current default value), which uses the default pickle module implicitly. It is possible to construct malicious pickle data which will execute arbitrary code during unpickling (See https://github.com/pytorch/pytorch/blob/main/SECURITY.md#untrusted-models for more details). In a future release, the default value for `weights_only` will be flipped to `True`. This limits the functions that could be executed during unpickling. Arbitrary objects will no longer be allowed to be loaded via this mode unless they are explicitly allowlisted by the user via `torch.serialization.add_safe_globals`. We recommend you start setting `weights_only=True` for any use case where you don't have full control of the loaded file. Please open an issue on GitHub for any issues related to this experimental feature.\n",
      "  model = torch.load(f'./models/pretrained_models/{modelname}.pth', map_location=device)\n"
     ]
    }
   ],
   "source": [
    "model = 'standard' # CIFAR10: (MainiAVG, MainiMSD, CroceL1, corruption_robust, standard, Ding2020MMA, Wang2023Better_WRN-28-10), IN: (standard_resnet50, Salman2020Do_R50)\n",
    "net, art_net, fb_net, alias = utils.get_model(dataset= dataset, modelname=model, norm='Linf') # specify the norm in case of robustbench models"
   ]
  },
  {
   "cell_type": "markdown",
   "metadata": {},
   "source": [
    "## Test Accuracy"
   ]
  },
  {
   "cell_type": "code",
   "execution_count": 5,
   "metadata": {},
   "outputs": [
    {
     "name": "stdout",
     "output_type": "stream",
     "text": [
      "\n",
      "Accuracy of the test set is: 95.000%\n",
      "\n"
     ]
    }
   ],
   "source": [
    "utils.test_accuracy(net, xtest, ytest)\n",
    "#print(ytest)"
   ]
  },
  {
   "cell_type": "markdown",
   "metadata": {},
   "source": [
    "## Parameters "
   ]
  },
  {
   "cell_type": "code",
   "execution_count": 6,
   "metadata": {},
   "outputs": [],
   "source": [
    "Experiment = attack_utils.Experiment_class(art_net, fb_net, net, xtest, ytest, alias,\n",
    "                        epsilon_l1 = 12,# if dataset == \"cifar10\" else 75, \n",
    "                        epsilon_l2= 0.5, \n",
    "                        eps_iter = 0.1,  \n",
    "                        norm = 1,  # 1, 2, np.inf\n",
    "                        max_iterations = 100, \n",
    "                        verbose=True)"
   ]
  },
  {
   "cell_type": "markdown",
   "metadata": {},
   "source": [
    "# Hyperparameter Sweep Experiment"
   ]
  },
  {
   "cell_type": "code",
   "execution_count": 7,
   "metadata": {},
   "outputs": [],
   "source": [
    "#hyperparameter sweep. Pick only one model.\n",
    "attack_type = 'exp_attack_l1'\n",
    "hyperparameter_range=[1.0]\n",
    "hyperparameter = 'learning_rate' #'beta'\n",
    "\n",
    "#results_dict_hyperparameter_sweep = Experiment.hyperparameter_sweep(hyperparameter=hyperparameter, range=hyperparameter_range, attack_type=attack_type)"
   ]
  },
  {
   "cell_type": "code",
   "execution_count": 8,
   "metadata": {},
   "outputs": [
    {
     "name": "stdout",
     "output_type": "stream",
     "text": [
      "\t\t-------------------------- Processing Attack: sparse_rs_blackbox --------------------------\n",
      "\n",
      "restart 0 - robust accuracy: 100.00% - cum. time: 105.2 s\n",
      "Image 0: No adversarial example found.\n",
      "Image 0\t\tAdversarial_distance (L1 / L2): 0.0000 / 0.00000\t\tRuntime: 105.273438 seconds\n",
      "restart 0 - robust accuracy: 100.00% - cum. time: 119.0 s\n",
      "Image 1: No adversarial example found.\n",
      "Image 1\t\tAdversarial_distance (L1 / L2): 0.0000 / 0.00000\t\tRuntime: 119.022637 seconds\n",
      "restart 0 - robust accuracy: 100.00% - cum. time: 98.6 s\n",
      "Image 2: No adversarial example found.\n",
      "Image 2\t\tAdversarial_distance (L1 / L2): 0.0000 / 0.00000\t\tRuntime: 98.664378 seconds\n",
      "restart 0 - robust accuracy: 100.00% - cum. time: 118.2 s\n",
      "Image 3: No adversarial example found.\n",
      "Image 3\t\tAdversarial_distance (L1 / L2): 0.0000 / 0.00000\t\tRuntime: 118.176672 seconds\n",
      "restart 0 - robust accuracy: 100.00% - cum. time: 99.6 s\n",
      "Image 4: No adversarial example found.\n",
      "Image 4\t\tAdversarial_distance (L1 / L2): 0.0000 / 0.00000\t\tRuntime: 99.581445 seconds\n",
      "restart 0 - robust accuracy: 100.00% - cum. time: 102.5 s\n",
      "Image 5: No adversarial example found.\n",
      "Image 5\t\tAdversarial_distance (L1 / L2): 0.0000 / 0.00000\t\tRuntime: 102.542794 seconds\n",
      "2 - success rate=1/1 (100.00%) - avg # queries=2.0 - med # queries=2.0 - loss=-0.304 - max pert=1 - epsit=48\n",
      "restart 0 - robust accuracy: 0.00% - cum. time: 0.1 s\n",
      "Image 6\t\tAdversarial_distance (L1 / L2): 2.0784 / 1.31621\t\tRuntime: 0.080631 seconds\n",
      "restart 0 - robust accuracy: 100.00% - cum. time: 95.7 s\n",
      "Image 7: No adversarial example found.\n",
      "Image 7\t\tAdversarial_distance (L1 / L2): 0.0000 / 0.00000\t\tRuntime: 95.767831 seconds\n",
      "restart 0 - robust accuracy: 100.00% - cum. time: 103.2 s\n",
      "Image 8: No adversarial example found.\n",
      "Image 8\t\tAdversarial_distance (L1 / L2): 0.0000 / 0.00000\t\tRuntime: 103.238003 seconds\n",
      "restart 0 - robust accuracy: 100.00% - cum. time: 100.7 s\n",
      "Image 9: No adversarial example found.\n",
      "Image 9\t\tAdversarial_distance (L1 / L2): 0.0000 / 0.00000\t\tRuntime: 100.705749 seconds\n",
      "restart 0 - robust accuracy: 100.00% - cum. time: 105.6 s\n",
      "Image 10: No adversarial example found.\n",
      "Image 10\t\tAdversarial_distance (L1 / L2): 0.0000 / 0.00000\t\tRuntime: 105.634973 seconds\n",
      "restart 0 - robust accuracy: 100.00% - cum. time: 110.8 s\n",
      "Image 11: No adversarial example found.\n",
      "Image 11\t\tAdversarial_distance (L1 / L2): 0.0000 / 0.00000\t\tRuntime: 110.857147 seconds\n",
      "restart 0 - robust accuracy: 100.00% - cum. time: 100.0 s\n",
      "Image 12: No adversarial example found.\n",
      "Image 12\t\tAdversarial_distance (L1 / L2): 0.0000 / 0.00000\t\tRuntime: 100.013151 seconds\n",
      "restart 0 - robust accuracy: 100.00% - cum. time: 102.9 s\n",
      "Image 13: No adversarial example found.\n",
      "Image 13\t\tAdversarial_distance (L1 / L2): 0.0000 / 0.00000\t\tRuntime: 102.972655 seconds\n",
      "restart 0 - robust accuracy: 100.00% - cum. time: 106.2 s\n",
      "Image 14: No adversarial example found.\n",
      "Image 14\t\tAdversarial_distance (L1 / L2): 0.0000 / 0.00000\t\tRuntime: 106.228208 seconds\n",
      "restart 0 - robust accuracy: 100.00% - cum. time: 98.1 s\n",
      "Image 15: No adversarial example found.\n",
      "Image 15\t\tAdversarial_distance (L1 / L2): 0.0000 / 0.00000\t\tRuntime: 98.095950 seconds\n",
      "Misclassified input. Not attacking.\n",
      "restart 0 - robust accuracy: 100.00% - cum. time: 104.4 s\n",
      "Image 17: No adversarial example found.\n",
      "Image 17\t\tAdversarial_distance (L1 / L2): 0.0000 / 0.00000\t\tRuntime: 104.404674 seconds\n",
      "restart 0 - robust accuracy: 100.00% - cum. time: 95.2 s\n",
      "Image 18: No adversarial example found.\n",
      "Image 18\t\tAdversarial_distance (L1 / L2): 0.0000 / 0.00000\t\tRuntime: 95.195925 seconds\n",
      "restart 0 - robust accuracy: 100.00% - cum. time: 101.8 s\n",
      "Image 19: No adversarial example found.\n",
      "Image 19\t\tAdversarial_distance (L1 / L2): 0.0000 / 0.00000\t\tRuntime: 101.867805 seconds\n",
      "20 images done. Current Adversarial Accuracy (L1 / L2/ EN): 90.000000% / 95.000000%/90.000000%\n",
      "\n",
      "Adversarial accuracy (L1 / L2/ EN): 90.00 / 95.00/ 90.00%\n",
      "\n",
      "\n",
      "average sparsity: 99.90%\n",
      "\n",
      "\n",
      "Total runtime:  1868.3241 seconds\n",
      "\n",
      "attack success rate in epsilon (L1 / L2):  5.2632  /  0.0\n",
      "mean adv. distance (L1 / L2):  2.0784  /  1.3162\n",
      "Evaluation results are saved under \"./data/attack_comparison_standard.json\".\n"
     ]
    }
   ],
   "source": [
    "#Attack comparison\n",
    "attack_types = [#'fast_gradient_method',\n",
    "                #'projected_gradient_descent',\n",
    "                #'pgd_early_stopping',\n",
    "                #'deep_fool',\n",
    "                #'brendel_bethge',\n",
    "                #'pointwise_blackbox',\n",
    "                #'geoda_blackbox',\n",
    "                'sparse_rs_blackbox',\n",
    "                #'carlini_wagner_l2',\n",
    "                #'elastic_net',\n",
    "                #'exp_attack',\n",
    "                #'exp_attack_smooth',\n",
    "                #'exp_attack_l1_l2',\n",
    "                #'auto_projected_gradient_descent',\n",
    "                #'elastic_net_L1_rule',\n",
    "                #'elastic_net_L1_rule_higher_beta',\n",
    "                #'ART_AutoAttack',\n",
    "                #'original_AutoAttack',\n",
    "                #'exp_attack_l1',\n",
    "                #'custom_apgd'\n",
    "                ]\n",
    "\n",
    "results_dict_attack_comparison = Experiment.attack_comparison(attack_types)"
   ]
  }
 ],
 "metadata": {
  "kaggle": {
   "accelerator": "gpu",
   "dataSources": [],
   "dockerImageVersionId": 30762,
   "isGpuEnabled": true,
   "isInternetEnabled": true,
   "language": "python",
   "sourceType": "notebook"
  },
  "kernelspec": {
   "display_name": ".venv",
   "language": "python",
   "name": "python3"
  },
  "language_info": {
   "codemirror_mode": {
    "name": "ipython",
    "version": 3
   },
   "file_extension": ".py",
   "mimetype": "text/x-python",
   "name": "python",
   "nbconvert_exporter": "python",
   "pygments_lexer": "ipython3",
   "version": "3.11.7"
  }
 },
 "nbformat": 4,
 "nbformat_minor": 4
}
