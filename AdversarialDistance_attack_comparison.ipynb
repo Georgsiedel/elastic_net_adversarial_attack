{
 "cells": [
  {
   "cell_type": "markdown",
   "metadata": {},
   "source": [
    "# Installation and Repository cloning"
   ]
  },
  {
   "cell_type": "code",
   "execution_count": 8,
   "metadata": {},
   "outputs": [],
   "source": [
    "#!pip3 install torch torchvision torchaudio --index-url https://download.pytorch.org/whl/cu124\n",
    "#!pip install adversarial-robustness-toolbox -U\n",
    "#!pip install git+https://github.com/RobustBench/robustbench.git\n",
    "#!pip install multiprocess\n",
    "#!pip install matplotlib\n",
    "#!pip install pillow\n",
    "#!pip install foolbox\n",
    "#!pip install numba"
   ]
  },
  {
   "cell_type": "markdown",
   "metadata": {},
   "source": [
    "## Import Libraries"
   ]
  },
  {
   "cell_type": "code",
   "execution_count": 9,
   "metadata": {},
   "outputs": [],
   "source": [
    "import torch\n",
    "import utils\n",
    "import adversarial_attack.attack_utils as attack_utils\n",
    "\n",
    "device = 'cpu' #torch.device('cuda' if torch.cuda.is_available() else 'cpu')"
   ]
  },
  {
   "cell_type": "markdown",
   "metadata": {},
   "source": [
    "## Load and Prepare Adversarial Model"
   ]
  },
  {
   "cell_type": "code",
   "execution_count": 10,
   "metadata": {},
   "outputs": [],
   "source": [
    "model = 'Wang2023Better_WRN-28-10' # MainiAVG, MainiMSD, CroceL1, Wang2023Better_WRN-28-10, Wang2023Better_WRN-28-10\n",
    "net, art_net, fb_net, alias = utils.get_model(modelname=model, norm='L2') # specify the norm in case of robustbench models"
   ]
  },
  {
   "cell_type": "markdown",
   "metadata": {},
   "source": [
    "## Load the dataset"
   ]
  },
  {
   "cell_type": "code",
   "execution_count": 11,
   "metadata": {},
   "outputs": [
    {
     "name": "stdout",
     "output_type": "stream",
     "text": [
      "Files already downloaded and verified\n"
     ]
    }
   ],
   "source": [
    "splitsize = 100 # full, int: splitsize\n",
    "xtest, ytest = utils.load_dataset(dataset_split=splitsize)"
   ]
  },
  {
   "cell_type": "markdown",
   "metadata": {},
   "source": [
    "## Test Accuracy"
   ]
  },
  {
   "cell_type": "code",
   "execution_count": 12,
   "metadata": {},
   "outputs": [
    {
     "name": "stdout",
     "output_type": "stream",
     "text": [
      "\n",
      "Accuracy of the test set is: 94.000%\n",
      "\n"
     ]
    }
   ],
   "source": [
    "utils.test_accuracy(net, xtest, ytest)"
   ]
  },
  {
   "cell_type": "markdown",
   "metadata": {},
   "source": [
    "## Parameters "
   ]
  },
  {
   "cell_type": "code",
   "execution_count": 13,
   "metadata": {},
   "outputs": [],
   "source": [
    "Experiment = attack_utils.Experiment_class(art_net, fb_net, net, xtest, ytest, alias,\n",
    "                        epsilon_l1 = 12, \n",
    "                        epsilon_l2= 0.5, \n",
    "                        eps_iter = 0.1,  \n",
    "                        norm = 1,  # 1, 2, np.inf\n",
    "                        max_iterations =100, \n",
    "                        verbose=False)"
   ]
  },
  {
   "cell_type": "markdown",
   "metadata": {},
   "source": [
    "# Hyperparameter Sweep Experiment"
   ]
  },
  {
   "cell_type": "code",
   "execution_count": 14,
   "metadata": {},
   "outputs": [
    {
     "name": "stdout",
     "output_type": "stream",
     "text": [
      "\t\t-------------- Hyperparameter Sweep for Attack: exp_attack_l1: learning_rate = 1.0 ----------------\n",
      "\n",
      "20 images done. Current Adversarial Accuracy (L1 / L2/ EN): 35.0 / 95.0/35.0%\n"
     ]
    },
    {
     "ename": "KeyboardInterrupt",
     "evalue": "",
     "output_type": "error",
     "traceback": [
      "\u001b[0;31m---------------------------------------------------------------------------\u001b[0m",
      "\u001b[0;31mKeyboardInterrupt\u001b[0m                         Traceback (most recent call last)",
      "Cell \u001b[0;32mIn[14], line 6\u001b[0m\n\u001b[1;32m      3\u001b[0m hyperparameter_range\u001b[38;5;241m=\u001b[39m[\u001b[38;5;241m1.0\u001b[39m]\n\u001b[1;32m      4\u001b[0m hyperparameter \u001b[38;5;241m=\u001b[39m \u001b[38;5;124m'\u001b[39m\u001b[38;5;124mlearning_rate\u001b[39m\u001b[38;5;124m'\u001b[39m \u001b[38;5;66;03m#'beta'\u001b[39;00m\n\u001b[0;32m----> 6\u001b[0m results_dict_hyperparameter_sweep \u001b[38;5;241m=\u001b[39m Experiment\u001b[38;5;241m.\u001b[39mhyperparameter_sweep(hyperparameter\u001b[38;5;241m=\u001b[39mhyperparameter, \u001b[38;5;28mrange\u001b[39m\u001b[38;5;241m=\u001b[39mhyperparameter_range, attack_type\u001b[38;5;241m=\u001b[39mattack_type)\n",
      "File \u001b[0;32m~/elastic_net_adversarial_attack/adversarial_attack/attack_utils.py:55\u001b[0m, in \u001b[0;36mExperiment_class.hyperparameter_sweep\u001b[0;34m(self, hyperparameter, range, attack_type)\u001b[0m\n\u001b[1;32m     53\u001b[0m results_dict[hyperparameter\u001b[38;5;241m+\u001b[39m\u001b[38;5;28mstr\u001b[39m(value)] \u001b[38;5;241m=\u001b[39m {}\n\u001b[1;32m     54\u001b[0m \u001b[38;5;28mprint\u001b[39m(\u001b[38;5;124mf\u001b[39m\u001b[38;5;124m'\u001b[39m\u001b[38;5;130;01m\\t\u001b[39;00m\u001b[38;5;130;01m\\t\u001b[39;00m\u001b[38;5;124m-------------- Hyperparameter Sweep for Attack: \u001b[39m\u001b[38;5;132;01m{\u001b[39;00mattack_type\u001b[38;5;132;01m}\u001b[39;00m\u001b[38;5;124m: \u001b[39m\u001b[38;5;132;01m{\u001b[39;00mhyperparameter\u001b[38;5;132;01m}\u001b[39;00m\u001b[38;5;124m = \u001b[39m\u001b[38;5;132;01m{\u001b[39;00mvalue\u001b[38;5;132;01m}\u001b[39;00m\u001b[38;5;124m ----------------\u001b[39m\u001b[38;5;130;01m\\n\u001b[39;00m\u001b[38;5;124m'\u001b[39m)\n\u001b[0;32m---> 55\u001b[0m _, _, _, results_dict[hyperparameter\u001b[38;5;241m+\u001b[39m\u001b[38;5;28mstr\u001b[39m(value)][\u001b[38;5;124m\"\u001b[39m\u001b[38;5;124madversarial_accuracy_l1\u001b[39m\u001b[38;5;124m\"\u001b[39m], results_dict[hyperparameter\u001b[38;5;241m+\u001b[39m\u001b[38;5;28mstr\u001b[39m(value)][\u001b[38;5;124m\"\u001b[39m\u001b[38;5;124madversarial_accuracy_l2\u001b[39m\u001b[38;5;124m\"\u001b[39m], _, results_dict[hyperparameter\u001b[38;5;241m+\u001b[39m\u001b[38;5;28mstr\u001b[39m(value)][\u001b[38;5;124m\"\u001b[39m\u001b[38;5;124mattack_success_rate_in_epsilon_l1\u001b[39m\u001b[38;5;124m\"\u001b[39m], results_dict[hyperparameter\u001b[38;5;241m+\u001b[39m\u001b[38;5;28mstr\u001b[39m(value)][\u001b[38;5;124m\"\u001b[39m\u001b[38;5;124mattack_success_rate_in_epsilon_l2\u001b[39m\u001b[38;5;124m\"\u001b[39m], results_dict[hyperparameter\u001b[38;5;241m+\u001b[39m\u001b[38;5;28mstr\u001b[39m(value)][\u001b[38;5;124m\"\u001b[39m\u001b[38;5;124mmean_adv_distance_l1\u001b[39m\u001b[38;5;124m\"\u001b[39m], results_dict[hyperparameter\u001b[38;5;241m+\u001b[39m\u001b[38;5;28mstr\u001b[39m(value)][\u001b[38;5;124m\"\u001b[39m\u001b[38;5;124mmean_adv_distance_l2\u001b[39m\u001b[38;5;124m\"\u001b[39m] \u001b[38;5;241m=\u001b[39m calculation(\n\u001b[1;32m     56\u001b[0m                                                     art_net\u001b[38;5;241m=\u001b[39m\u001b[38;5;28mself\u001b[39m\u001b[38;5;241m.\u001b[39mart_net,\n\u001b[1;32m     57\u001b[0m                                                     fb_net\u001b[38;5;241m=\u001b[39m\u001b[38;5;28mself\u001b[39m\u001b[38;5;241m.\u001b[39mfb_net,\n\u001b[1;32m     58\u001b[0m                                                     net \u001b[38;5;241m=\u001b[39m \u001b[38;5;28mself\u001b[39m\u001b[38;5;241m.\u001b[39mnet,\n\u001b[1;32m     59\u001b[0m                                                     xtest\u001b[38;5;241m=\u001b[39m\u001b[38;5;28mself\u001b[39m\u001b[38;5;241m.\u001b[39mxtest,\n\u001b[1;32m     60\u001b[0m                                                     ytest\u001b[38;5;241m=\u001b[39m\u001b[38;5;28mself\u001b[39m\u001b[38;5;241m.\u001b[39mytest,\n\u001b[1;32m     61\u001b[0m                                                     epsilon_l1\u001b[38;5;241m=\u001b[39m\u001b[38;5;28mself\u001b[39m\u001b[38;5;241m.\u001b[39mepsilon_l1,\n\u001b[1;32m     62\u001b[0m                                                     epsilon_l2\u001b[38;5;241m=\u001b[39m\u001b[38;5;28mself\u001b[39m\u001b[38;5;241m.\u001b[39mepsilon_l2,\n\u001b[1;32m     63\u001b[0m                                                     eps_iter\u001b[38;5;241m=\u001b[39m\u001b[38;5;28mself\u001b[39m\u001b[38;5;241m.\u001b[39meps_iter,\n\u001b[1;32m     64\u001b[0m                                                     norm\u001b[38;5;241m=\u001b[39m\u001b[38;5;28mself\u001b[39m\u001b[38;5;241m.\u001b[39mnorm,\n\u001b[1;32m     65\u001b[0m                                                     max_iterations\u001b[38;5;241m=\u001b[39m\u001b[38;5;28mself\u001b[39m\u001b[38;5;241m.\u001b[39mmax_iterations,\n\u001b[1;32m     66\u001b[0m                                                     attack_type\u001b[38;5;241m=\u001b[39mattack_type,\n\u001b[1;32m     67\u001b[0m                                                     verbose\u001b[38;5;241m=\u001b[39m\u001b[38;5;28mself\u001b[39m\u001b[38;5;241m.\u001b[39mverbose,\n\u001b[1;32m     68\u001b[0m                                                     \u001b[38;5;241m*\u001b[39m\u001b[38;5;241m*\u001b[39mkwargs)\n\u001b[1;32m     70\u001b[0m \u001b[38;5;28mprint\u001b[39m(hyperparameter\u001b[38;5;241m+\u001b[39m\u001b[38;5;28mstr\u001b[39m(value), \u001b[38;5;124m'\u001b[39m\u001b[38;5;124mattack success rate in epsilon (L1 / L2): \u001b[39m\u001b[38;5;124m'\u001b[39m,\n\u001b[1;32m     71\u001b[0m     \u001b[38;5;28mround\u001b[39m(results_dict[hyperparameter\u001b[38;5;241m+\u001b[39m\u001b[38;5;28mstr\u001b[39m(value)][\u001b[38;5;124m\"\u001b[39m\u001b[38;5;124mattack_success_rate_in_epsilon_l1\u001b[39m\u001b[38;5;124m\"\u001b[39m], \u001b[38;5;241m4\u001b[39m),\n\u001b[1;32m     72\u001b[0m     \u001b[38;5;124m'\u001b[39m\u001b[38;5;124m / \u001b[39m\u001b[38;5;124m'\u001b[39m,\n\u001b[1;32m     73\u001b[0m     \u001b[38;5;28mround\u001b[39m(results_dict[hyperparameter\u001b[38;5;241m+\u001b[39m\u001b[38;5;28mstr\u001b[39m(value)][\u001b[38;5;124m\"\u001b[39m\u001b[38;5;124mattack_success_rate_in_epsilon_l2\u001b[39m\u001b[38;5;124m\"\u001b[39m], \u001b[38;5;241m4\u001b[39m))           \n\u001b[1;32m     74\u001b[0m \u001b[38;5;28mprint\u001b[39m(\u001b[38;5;124m'\u001b[39m\u001b[38;5;124mmean adv. distance (L1 / L2): \u001b[39m\u001b[38;5;124m'\u001b[39m, \n\u001b[1;32m     75\u001b[0m        \u001b[38;5;28mround\u001b[39m(results_dict[hyperparameter\u001b[38;5;241m+\u001b[39m\u001b[38;5;28mstr\u001b[39m(value)][\u001b[38;5;124m\"\u001b[39m\u001b[38;5;124mmean_adv_distance_l1\u001b[39m\u001b[38;5;124m\"\u001b[39m], \u001b[38;5;241m4\u001b[39m), \n\u001b[1;32m     76\u001b[0m        \u001b[38;5;124m'\u001b[39m\u001b[38;5;124m / \u001b[39m\u001b[38;5;124m'\u001b[39m, \n\u001b[1;32m     77\u001b[0m        \u001b[38;5;28mround\u001b[39m(results_dict[hyperparameter\u001b[38;5;241m+\u001b[39m\u001b[38;5;28mstr\u001b[39m(value)][\u001b[38;5;124m\"\u001b[39m\u001b[38;5;124mmean_adv_distance_l2\u001b[39m\u001b[38;5;124m\"\u001b[39m], \u001b[38;5;241m4\u001b[39m))\n",
      "File \u001b[0;32m~/elastic_net_adversarial_attack/adversarial_attack/attack_utils.py:214\u001b[0m, in \u001b[0;36mcalculation\u001b[0;34m(art_net, fb_net, net, xtest, ytest, epsilon_l1, epsilon_l2, eps_iter, norm, max_iterations, attack_type, learning_rate, beta, verbose)\u001b[0m\n\u001b[1;32m    212\u001b[0m     x_adversarial \u001b[38;5;241m=\u001b[39m x_adversarial\u001b[38;5;241m.\u001b[39mcpu()\n\u001b[1;32m    213\u001b[0m \u001b[38;5;28;01melse\u001b[39;00m:             \n\u001b[0;32m--> 214\u001b[0m     x_adversarial \u001b[38;5;241m=\u001b[39m attacker\u001b[38;5;241m.\u001b[39mgenerate(x\u001b[38;5;241m.\u001b[39mcpu()\u001b[38;5;241m.\u001b[39mnumpy(), y\u001b[38;5;241m.\u001b[39mcpu()\u001b[38;5;241m.\u001b[39mnumpy())\n\u001b[1;32m    215\u001b[0m     x_adversarial \u001b[38;5;241m=\u001b[39m torch\u001b[38;5;241m.\u001b[39mfrom_numpy(x_adversarial)\n\u001b[1;32m    217\u001b[0m end_time \u001b[38;5;241m=\u001b[39m time\u001b[38;5;241m.\u001b[39mtime()\n",
      "File \u001b[0;32m~/elastic_net_adversarial_attack/adversarial_attack/exp_attack_l1.py:284\u001b[0m, in \u001b[0;36mExpAttackL1.generate\u001b[0;34m(self, x, y, **kwargs)\u001b[0m\n\u001b[1;32m    282\u001b[0m     x_batch \u001b[38;5;241m=\u001b[39m x_adv[batch_index_1:batch_index_2]\n\u001b[1;32m    283\u001b[0m     y_batch \u001b[38;5;241m=\u001b[39m y[batch_index_1:batch_index_2]\n\u001b[0;32m--> 284\u001b[0m     x_adv[batch_index_1:batch_index_2] \u001b[38;5;241m=\u001b[39m \u001b[38;5;28mself\u001b[39m\u001b[38;5;241m.\u001b[39m_generate_batch(x_batch, y_batch)\n\u001b[1;32m    286\u001b[0m \u001b[38;5;66;03m# Apply clip\u001b[39;00m\n\u001b[1;32m    287\u001b[0m \u001b[38;5;28;01mif\u001b[39;00m \u001b[38;5;28mself\u001b[39m\u001b[38;5;241m.\u001b[39mestimator\u001b[38;5;241m.\u001b[39mclip_values \u001b[38;5;129;01mis\u001b[39;00m \u001b[38;5;129;01mnot\u001b[39;00m \u001b[38;5;28;01mNone\u001b[39;00m:\n",
      "File \u001b[0;32m~/elastic_net_adversarial_attack/adversarial_attack/exp_attack_l1.py:308\u001b[0m, in \u001b[0;36mExpAttackL1._generate_batch\u001b[0;34m(self, x_batch, y_batch)\u001b[0m\n\u001b[1;32m    300\u001b[0m \u001b[38;5;250m\u001b[39m\u001b[38;5;124;03m\"\"\"\u001b[39;00m\n\u001b[1;32m    301\u001b[0m \u001b[38;5;124;03mRun the attack on a batch of images and labels.\u001b[39;00m\n\u001b[1;32m    302\u001b[0m \n\u001b[0;32m   (...)\u001b[0m\n\u001b[1;32m    305\u001b[0m \u001b[38;5;124;03m:return: A batch of adversarial examples.\u001b[39;00m\n\u001b[1;32m    306\u001b[0m \u001b[38;5;124;03m\"\"\"\u001b[39;00m\n\u001b[1;32m    307\u001b[0m \u001b[38;5;66;03m# Run with 1 specific binary search step\u001b[39;00m\n\u001b[0;32m--> 308\u001b[0m best_attack \u001b[38;5;241m=\u001b[39m \u001b[38;5;28mself\u001b[39m\u001b[38;5;241m.\u001b[39m_generate_bss(x_batch, y_batch)\n\u001b[1;32m    310\u001b[0m \u001b[38;5;28;01mreturn\u001b[39;00m best_attack\n",
      "File \u001b[0;32m~/elastic_net_adversarial_attack/adversarial_attack/exp_attack_l1.py:367\u001b[0m, in \u001b[0;36mExpAttackL1._generate_bss\u001b[0;34m(self, x_batch, y_batch)\u001b[0m\n\u001b[1;32m    365\u001b[0m x_adv\u001b[38;5;241m=\u001b[39mx_0\u001b[38;5;241m+\u001b[39mdelta\n\u001b[1;32m    366\u001b[0m \u001b[38;5;66;03m# Adjust the best result\u001b[39;00m\n\u001b[0;32m--> 367\u001b[0m (logits, l1dist) \u001b[38;5;241m=\u001b[39m \u001b[38;5;28mself\u001b[39m\u001b[38;5;241m.\u001b[39m_loss(x\u001b[38;5;241m=\u001b[39mx_batch, x_adv\u001b[38;5;241m=\u001b[39mx_adv\u001b[38;5;241m.\u001b[39mastype(np\u001b[38;5;241m.\u001b[39mfloat32))\n\u001b[1;32m    369\u001b[0m \u001b[38;5;66;03m#print(f\"iteration {i_iter}: loss: {self.estimator.compute_loss(x_adv.astype(np.float32), y_batch)}\" )\u001b[39;00m\n\u001b[1;32m    370\u001b[0m zip_set \u001b[38;5;241m=\u001b[39m \u001b[38;5;28mzip\u001b[39m(l1dist, logits)\n",
      "File \u001b[0;32m~/elastic_net_adversarial_attack/adversarial_attack/exp_attack_l1.py:458\u001b[0m, in \u001b[0;36mExpAttackL1._loss\u001b[0;34m(self, x, x_adv)\u001b[0m\n\u001b[1;32m    449\u001b[0m \u001b[38;5;250m\u001b[39m\u001b[38;5;124;03m\"\"\"\u001b[39;00m\n\u001b[1;32m    450\u001b[0m \u001b[38;5;124;03mCompute the loss function values.\u001b[39;00m\n\u001b[1;32m    451\u001b[0m \n\u001b[0;32m   (...)\u001b[0m\n\u001b[1;32m    455\u001b[0m \u001b[38;5;124;03m         l2 distance and elastic net loss.\u001b[39;00m\n\u001b[1;32m    456\u001b[0m \u001b[38;5;124;03m\"\"\"\u001b[39;00m\n\u001b[1;32m    457\u001b[0m l1dist \u001b[38;5;241m=\u001b[39m np\u001b[38;5;241m.\u001b[39msum(np\u001b[38;5;241m.\u001b[39mabs(x \u001b[38;5;241m-\u001b[39m x_adv)\u001b[38;5;241m.\u001b[39mreshape(x\u001b[38;5;241m.\u001b[39mshape[\u001b[38;5;241m0\u001b[39m], \u001b[38;5;241m-\u001b[39m\u001b[38;5;241m1\u001b[39m), axis\u001b[38;5;241m=\u001b[39m\u001b[38;5;241m1\u001b[39m)\n\u001b[0;32m--> 458\u001b[0m predictions \u001b[38;5;241m=\u001b[39m \u001b[38;5;28mself\u001b[39m\u001b[38;5;241m.\u001b[39mestimator\u001b[38;5;241m.\u001b[39mpredict(np\u001b[38;5;241m.\u001b[39marray(x_adv, dtype\u001b[38;5;241m=\u001b[39mART_NUMPY_DTYPE), batch_size\u001b[38;5;241m=\u001b[39m\u001b[38;5;28mself\u001b[39m\u001b[38;5;241m.\u001b[39mbatch_size)\n\u001b[1;32m    459\u001b[0m \u001b[38;5;28;01mreturn\u001b[39;00m np\u001b[38;5;241m.\u001b[39margmax(predictions, axis\u001b[38;5;241m=\u001b[39m\u001b[38;5;241m1\u001b[39m), l1dist\n",
      "File \u001b[0;32m~/anaconda3/envs/art/lib/python3.12/site-packages/art/estimators/classification/classifier.py:75\u001b[0m, in \u001b[0;36mInputFilter.__init__.<locals>.make_replacement.<locals>.replacement_function\u001b[0;34m(self, *args, **kwargs)\u001b[0m\n\u001b[1;32m     73\u001b[0m \u001b[38;5;28;01mif\u001b[39;00m \u001b[38;5;28mlen\u001b[39m(args) \u001b[38;5;241m>\u001b[39m \u001b[38;5;241m0\u001b[39m:\n\u001b[1;32m     74\u001b[0m     args \u001b[38;5;241m=\u001b[39m \u001b[38;5;28mtuple\u001b[39m(lst)\n\u001b[0;32m---> 75\u001b[0m \u001b[38;5;28;01mreturn\u001b[39;00m fdict[func_name](\u001b[38;5;28mself\u001b[39m, \u001b[38;5;241m*\u001b[39margs, \u001b[38;5;241m*\u001b[39m\u001b[38;5;241m*\u001b[39mkwargs)\n",
      "File \u001b[0;32m~/anaconda3/envs/art/lib/python3.12/site-packages/art/estimators/classification/pytorch.py:331\u001b[0m, in \u001b[0;36mPyTorchClassifier.predict\u001b[0;34m(self, x, batch_size, training_mode, **kwargs)\u001b[0m\n\u001b[1;32m    329\u001b[0m     model_outputs \u001b[38;5;241m=\u001b[39m \u001b[38;5;28mself\u001b[39m\u001b[38;5;241m.\u001b[39m_model(x_batch)\n\u001b[1;32m    330\u001b[0m output \u001b[38;5;241m=\u001b[39m model_outputs[\u001b[38;5;241m-\u001b[39m\u001b[38;5;241m1\u001b[39m]\n\u001b[0;32m--> 331\u001b[0m output \u001b[38;5;241m=\u001b[39m output\u001b[38;5;241m.\u001b[39mdetach()\u001b[38;5;241m.\u001b[39mcpu()\u001b[38;5;241m.\u001b[39mnumpy()\u001b[38;5;241m.\u001b[39mastype(np\u001b[38;5;241m.\u001b[39mfloat32)\n\u001b[1;32m    332\u001b[0m \u001b[38;5;28;01mif\u001b[39;00m \u001b[38;5;28mlen\u001b[39m(output\u001b[38;5;241m.\u001b[39mshape) \u001b[38;5;241m==\u001b[39m \u001b[38;5;241m1\u001b[39m:\n\u001b[1;32m    333\u001b[0m     output \u001b[38;5;241m=\u001b[39m np\u001b[38;5;241m.\u001b[39mexpand_dims(output, axis\u001b[38;5;241m=\u001b[39m\u001b[38;5;241m1\u001b[39m)\u001b[38;5;241m.\u001b[39mastype(np\u001b[38;5;241m.\u001b[39mfloat32)\n",
      "\u001b[0;31mKeyboardInterrupt\u001b[0m: "
     ]
    }
   ],
   "source": [
    "#hyperparameter sweep. Pick only one model.\n",
    "attack_type = 'exp_attack_l1'\n",
    "hyperparameter_range=[1.0]\n",
    "hyperparameter = 'learning_rate' #'beta'\n",
    "\n",
    "results_dict_hyperparameter_sweep = Experiment.hyperparameter_sweep(hyperparameter=hyperparameter, range=hyperparameter_range, attack_type=attack_type)"
   ]
  },
  {
   "cell_type": "code",
   "execution_count": null,
   "metadata": {},
   "outputs": [],
   "source": [
    "#Attack comparison\n",
    "attack_types = [#'fast_gradient_method',\n",
    "                #'projected_gradient_descent',\n",
    "                #'pgd_early_stopping',\n",
    "                #'deep_fool',\n",
    "                #'brendel_bethge',\n",
    "                #'carlini_wagner_l2',\n",
    "                #'elastic_net',\n",
    "                #'exp_attack',\n",
    "                #'exp_attack_smooth',\n",
    "                #'exp_attack_l1_l2',\n",
    "                #'auto_projected_gradient_descent',\n",
    "                #'elastic_net_L1_rule',\n",
    "                #'elastic_net_L1_rule_higher_beta',\n",
    "                #'ART_AutoAttack',\n",
    "                #'original_AutoAttack',\n",
    "                'exp_attack_l1',\n",
    "                'original_AutoAttack_apgd-only'\n",
    "                ]\n",
    "\n",
    "results_dict_attack_comparison = Experiment.attack_comparison(attack_types)"
   ]
  }
 ],
 "metadata": {
  "kaggle": {
   "accelerator": "gpu",
   "dataSources": [],
   "dockerImageVersionId": 30762,
   "isGpuEnabled": true,
   "isInternetEnabled": true,
   "language": "python",
   "sourceType": "notebook"
  },
  "kernelspec": {
   "display_name": "art",
   "language": "python",
   "name": "python3"
  },
  "language_info": {
   "codemirror_mode": {
    "name": "ipython",
    "version": 3
   },
   "file_extension": ".py",
   "mimetype": "text/x-python",
   "name": "python",
   "nbconvert_exporter": "python",
   "pygments_lexer": "ipython3",
   "version": "3.12.7"
  }
 },
 "nbformat": 4,
 "nbformat_minor": 4
}
